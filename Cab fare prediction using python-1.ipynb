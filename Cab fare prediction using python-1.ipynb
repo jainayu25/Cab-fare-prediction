{
 "cells": [
  {
   "cell_type": "code",
   "execution_count": 1,
   "metadata": {},
   "outputs": [
    {
     "name": "stderr",
     "output_type": "stream",
     "text": [
      "Using TensorFlow backend.\n"
     ]
    }
   ],
   "source": [
    "import os as os\n",
    "import numpy as np\n",
    "import pandas as pd\n",
    "import seaborn as sns\n",
    "import matplotlib.pyplot as plt\n",
    "from fancyimpute import KNN\n",
    "import calendar\n",
    "from scipy.stats import chi2_contingency\n",
    "import statsmodels.api as sm\n",
    "from sklearn import preprocessing\n",
    "from statsmodels.formula.api import ols\n",
    "import scipy.stats as stats\n",
    "from sklearn.model_selection import train_test_split\n",
    "from patsy import dmatrices\n",
    "from statsmodels.stats.outliers_influence import variance_inflation_factor\n",
    "from sklearn import metrics\n",
    "from sklearn.metrics import mean_squared_error\n",
    "from math import sqrt\n",
    "from sklearn.tree import DecisionTreeRegressor\n",
    "from sklearn.ensemble import RandomForestRegressor\n",
    "from sklearn.neighbors import KNeighborsRegressor"
   ]
  },
  {
   "cell_type": "code",
   "execution_count": 2,
   "metadata": {},
   "outputs": [],
   "source": [
    "#seting working directory\n",
    "os.chdir(\"C:/Users/hp/Desktop/Project cap fare prediction\")"
   ]
  },
  {
   "cell_type": "code",
   "execution_count": 3,
   "metadata": {},
   "outputs": [],
   "source": [
    "#importing training and test data\n",
    "train=pd.read_csv(\"train_cab.csv\",dtype={\"fare_amount\":np.float},na_values={\"fare_amount\":\"430-\"})\n",
    "test=pd.read_csv(\"test.csv\")"
   ]
  },
  {
   "cell_type": "code",
   "execution_count": 4,
   "metadata": {
    "collapsed": true
   },
   "outputs": [
    {
     "data": {
      "text/html": [
       "<div>\n",
       "<style scoped>\n",
       "    .dataframe tbody tr th:only-of-type {\n",
       "        vertical-align: middle;\n",
       "    }\n",
       "\n",
       "    .dataframe tbody tr th {\n",
       "        vertical-align: top;\n",
       "    }\n",
       "\n",
       "    .dataframe thead th {\n",
       "        text-align: right;\n",
       "    }\n",
       "</style>\n",
       "<table border=\"1\" class=\"dataframe\">\n",
       "  <thead>\n",
       "    <tr style=\"text-align: right;\">\n",
       "      <th></th>\n",
       "      <th>fare_amount</th>\n",
       "      <th>pickup_longitude</th>\n",
       "      <th>pickup_latitude</th>\n",
       "      <th>dropoff_longitude</th>\n",
       "      <th>dropoff_latitude</th>\n",
       "      <th>passenger_count</th>\n",
       "    </tr>\n",
       "  </thead>\n",
       "  <tbody>\n",
       "    <tr>\n",
       "      <th>count</th>\n",
       "      <td>16042.000000</td>\n",
       "      <td>16067.000000</td>\n",
       "      <td>16067.000000</td>\n",
       "      <td>16067.000000</td>\n",
       "      <td>16067.000000</td>\n",
       "      <td>16012.000000</td>\n",
       "    </tr>\n",
       "    <tr>\n",
       "      <th>mean</th>\n",
       "      <td>15.015004</td>\n",
       "      <td>-72.462787</td>\n",
       "      <td>39.914725</td>\n",
       "      <td>-72.462328</td>\n",
       "      <td>39.897906</td>\n",
       "      <td>2.625070</td>\n",
       "    </tr>\n",
       "    <tr>\n",
       "      <th>std</th>\n",
       "      <td>430.460945</td>\n",
       "      <td>10.578384</td>\n",
       "      <td>6.826587</td>\n",
       "      <td>10.575062</td>\n",
       "      <td>6.187087</td>\n",
       "      <td>60.844122</td>\n",
       "    </tr>\n",
       "    <tr>\n",
       "      <th>min</th>\n",
       "      <td>-3.000000</td>\n",
       "      <td>-74.438233</td>\n",
       "      <td>-74.006893</td>\n",
       "      <td>-74.429332</td>\n",
       "      <td>-74.006377</td>\n",
       "      <td>0.000000</td>\n",
       "    </tr>\n",
       "    <tr>\n",
       "      <th>25%</th>\n",
       "      <td>6.000000</td>\n",
       "      <td>-73.992156</td>\n",
       "      <td>40.734927</td>\n",
       "      <td>-73.991182</td>\n",
       "      <td>40.734651</td>\n",
       "      <td>1.000000</td>\n",
       "    </tr>\n",
       "    <tr>\n",
       "      <th>50%</th>\n",
       "      <td>8.500000</td>\n",
       "      <td>-73.981698</td>\n",
       "      <td>40.752603</td>\n",
       "      <td>-73.980172</td>\n",
       "      <td>40.753567</td>\n",
       "      <td>1.000000</td>\n",
       "    </tr>\n",
       "    <tr>\n",
       "      <th>75%</th>\n",
       "      <td>12.500000</td>\n",
       "      <td>-73.966838</td>\n",
       "      <td>40.767381</td>\n",
       "      <td>-73.963643</td>\n",
       "      <td>40.768013</td>\n",
       "      <td>2.000000</td>\n",
       "    </tr>\n",
       "    <tr>\n",
       "      <th>max</th>\n",
       "      <td>54343.000000</td>\n",
       "      <td>40.766125</td>\n",
       "      <td>401.083332</td>\n",
       "      <td>40.802437</td>\n",
       "      <td>41.366138</td>\n",
       "      <td>5345.000000</td>\n",
       "    </tr>\n",
       "  </tbody>\n",
       "</table>\n",
       "</div>"
      ],
      "text/plain": [
       "        fare_amount  pickup_longitude  pickup_latitude  dropoff_longitude  \\\n",
       "count  16042.000000      16067.000000     16067.000000       16067.000000   \n",
       "mean      15.015004        -72.462787        39.914725         -72.462328   \n",
       "std      430.460945         10.578384         6.826587          10.575062   \n",
       "min       -3.000000        -74.438233       -74.006893         -74.429332   \n",
       "25%        6.000000        -73.992156        40.734927         -73.991182   \n",
       "50%        8.500000        -73.981698        40.752603         -73.980172   \n",
       "75%       12.500000        -73.966838        40.767381         -73.963643   \n",
       "max    54343.000000         40.766125       401.083332          40.802437   \n",
       "\n",
       "       dropoff_latitude  passenger_count  \n",
       "count      16067.000000     16012.000000  \n",
       "mean          39.897906         2.625070  \n",
       "std            6.187087        60.844122  \n",
       "min          -74.006377         0.000000  \n",
       "25%           40.734651         1.000000  \n",
       "50%           40.753567         1.000000  \n",
       "75%           40.768013         2.000000  \n",
       "max           41.366138      5345.000000  "
      ]
     },
     "execution_count": 4,
     "metadata": {},
     "output_type": "execute_result"
    }
   ],
   "source": [
    "train.describe() "
   ]
  },
  {
   "cell_type": "code",
   "execution_count": 5,
   "metadata": {
    "collapsed": true
   },
   "outputs": [
    {
     "data": {
      "text/html": [
       "<div>\n",
       "<style scoped>\n",
       "    .dataframe tbody tr th:only-of-type {\n",
       "        vertical-align: middle;\n",
       "    }\n",
       "\n",
       "    .dataframe tbody tr th {\n",
       "        vertical-align: top;\n",
       "    }\n",
       "\n",
       "    .dataframe thead th {\n",
       "        text-align: right;\n",
       "    }\n",
       "</style>\n",
       "<table border=\"1\" class=\"dataframe\">\n",
       "  <thead>\n",
       "    <tr style=\"text-align: right;\">\n",
       "      <th></th>\n",
       "      <th>pickup_longitude</th>\n",
       "      <th>pickup_latitude</th>\n",
       "      <th>dropoff_longitude</th>\n",
       "      <th>dropoff_latitude</th>\n",
       "      <th>passenger_count</th>\n",
       "    </tr>\n",
       "  </thead>\n",
       "  <tbody>\n",
       "    <tr>\n",
       "      <th>count</th>\n",
       "      <td>9914.000000</td>\n",
       "      <td>9914.000000</td>\n",
       "      <td>9914.000000</td>\n",
       "      <td>9914.000000</td>\n",
       "      <td>9914.000000</td>\n",
       "    </tr>\n",
       "    <tr>\n",
       "      <th>mean</th>\n",
       "      <td>-73.974722</td>\n",
       "      <td>40.751041</td>\n",
       "      <td>-73.973657</td>\n",
       "      <td>40.751743</td>\n",
       "      <td>1.671273</td>\n",
       "    </tr>\n",
       "    <tr>\n",
       "      <th>std</th>\n",
       "      <td>0.042774</td>\n",
       "      <td>0.033541</td>\n",
       "      <td>0.039072</td>\n",
       "      <td>0.035435</td>\n",
       "      <td>1.278747</td>\n",
       "    </tr>\n",
       "    <tr>\n",
       "      <th>min</th>\n",
       "      <td>-74.252193</td>\n",
       "      <td>40.573143</td>\n",
       "      <td>-74.263242</td>\n",
       "      <td>40.568973</td>\n",
       "      <td>1.000000</td>\n",
       "    </tr>\n",
       "    <tr>\n",
       "      <th>25%</th>\n",
       "      <td>-73.992501</td>\n",
       "      <td>40.736125</td>\n",
       "      <td>-73.991247</td>\n",
       "      <td>40.735254</td>\n",
       "      <td>1.000000</td>\n",
       "    </tr>\n",
       "    <tr>\n",
       "      <th>50%</th>\n",
       "      <td>-73.982326</td>\n",
       "      <td>40.753051</td>\n",
       "      <td>-73.980015</td>\n",
       "      <td>40.754065</td>\n",
       "      <td>1.000000</td>\n",
       "    </tr>\n",
       "    <tr>\n",
       "      <th>75%</th>\n",
       "      <td>-73.968013</td>\n",
       "      <td>40.767113</td>\n",
       "      <td>-73.964059</td>\n",
       "      <td>40.768757</td>\n",
       "      <td>2.000000</td>\n",
       "    </tr>\n",
       "    <tr>\n",
       "      <th>max</th>\n",
       "      <td>-72.986532</td>\n",
       "      <td>41.709555</td>\n",
       "      <td>-72.990963</td>\n",
       "      <td>41.696683</td>\n",
       "      <td>6.000000</td>\n",
       "    </tr>\n",
       "  </tbody>\n",
       "</table>\n",
       "</div>"
      ],
      "text/plain": [
       "       pickup_longitude  pickup_latitude  dropoff_longitude  dropoff_latitude  \\\n",
       "count       9914.000000      9914.000000        9914.000000       9914.000000   \n",
       "mean         -73.974722        40.751041         -73.973657         40.751743   \n",
       "std            0.042774         0.033541           0.039072          0.035435   \n",
       "min          -74.252193        40.573143         -74.263242         40.568973   \n",
       "25%          -73.992501        40.736125         -73.991247         40.735254   \n",
       "50%          -73.982326        40.753051         -73.980015         40.754065   \n",
       "75%          -73.968013        40.767113         -73.964059         40.768757   \n",
       "max          -72.986532        41.709555         -72.990963         41.696683   \n",
       "\n",
       "       passenger_count  \n",
       "count      9914.000000  \n",
       "mean          1.671273  \n",
       "std           1.278747  \n",
       "min           1.000000  \n",
       "25%           1.000000  \n",
       "50%           1.000000  \n",
       "75%           2.000000  \n",
       "max           6.000000  "
      ]
     },
     "execution_count": 5,
     "metadata": {},
     "output_type": "execute_result"
    }
   ],
   "source": [
    "test.describe()"
   ]
  },
  {
   "cell_type": "code",
   "execution_count": 6,
   "metadata": {
    "collapsed": true
   },
   "outputs": [
    {
     "name": "stdout",
     "output_type": "stream",
     "text": [
      "<class 'pandas.core.frame.DataFrame'>\n",
      "RangeIndex: 16067 entries, 0 to 16066\n",
      "Data columns (total 7 columns):\n",
      "fare_amount          16042 non-null float64\n",
      "pickup_datetime      16067 non-null object\n",
      "pickup_longitude     16067 non-null float64\n",
      "pickup_latitude      16067 non-null float64\n",
      "dropoff_longitude    16067 non-null float64\n",
      "dropoff_latitude     16067 non-null float64\n",
      "passenger_count      16012 non-null float64\n",
      "dtypes: float64(6), object(1)\n",
      "memory usage: 878.8+ KB\n",
      "<class 'pandas.core.frame.DataFrame'>\n",
      "RangeIndex: 9914 entries, 0 to 9913\n",
      "Data columns (total 6 columns):\n",
      "pickup_datetime      9914 non-null object\n",
      "pickup_longitude     9914 non-null float64\n",
      "pickup_latitude      9914 non-null float64\n",
      "dropoff_longitude    9914 non-null float64\n",
      "dropoff_latitude     9914 non-null float64\n",
      "passenger_count      9914 non-null int64\n",
      "dtypes: float64(4), int64(1), object(1)\n",
      "memory usage: 464.8+ KB\n"
     ]
    },
    {
     "data": {
      "text/plain": [
       "(None, None)"
      ]
     },
     "execution_count": 6,
     "metadata": {},
     "output_type": "execute_result"
    }
   ],
   "source": [
    "#Checking data types\n",
    "train.info() , test.info()"
   ]
  },
  {
   "cell_type": "code",
   "execution_count": 7,
   "metadata": {},
   "outputs": [],
   "source": [
    "#lets make a copy of both the data fare\n",
    "test_copy=test.copy()\n",
    "train_copy=train.copy()"
   ]
  },
  {
   "cell_type": "markdown",
   "metadata": {},
   "source": [
    "We can clearly see that fare_amount and passenger_counts in train data have missing values"
   ]
  },
  {
   "cell_type": "markdown",
   "metadata": {},
   "source": [
    "# Data Exploration and Data cleaning"
   ]
  },
  {
   "cell_type": "code",
   "execution_count": 4,
   "metadata": {
    "collapsed": true
   },
   "outputs": [
    {
     "data": {
      "text/html": [
       "<div>\n",
       "<style scoped>\n",
       "    .dataframe tbody tr th:only-of-type {\n",
       "        vertical-align: middle;\n",
       "    }\n",
       "\n",
       "    .dataframe tbody tr th {\n",
       "        vertical-align: top;\n",
       "    }\n",
       "\n",
       "    .dataframe thead th {\n",
       "        text-align: right;\n",
       "    }\n",
       "</style>\n",
       "<table border=\"1\" class=\"dataframe\">\n",
       "  <thead>\n",
       "    <tr style=\"text-align: right;\">\n",
       "      <th></th>\n",
       "      <th>fare_amount</th>\n",
       "      <th>pickup_datetime</th>\n",
       "      <th>pickup_longitude</th>\n",
       "      <th>pickup_latitude</th>\n",
       "      <th>dropoff_longitude</th>\n",
       "      <th>dropoff_latitude</th>\n",
       "      <th>passenger_count</th>\n",
       "    </tr>\n",
       "  </thead>\n",
       "  <tbody>\n",
       "    <tr>\n",
       "      <th>0</th>\n",
       "      <td>4.5</td>\n",
       "      <td>2009-06-15 17:26:21 UTC</td>\n",
       "      <td>-73.844311</td>\n",
       "      <td>40.721319</td>\n",
       "      <td>-73.841610</td>\n",
       "      <td>40.712278</td>\n",
       "      <td>1.0</td>\n",
       "    </tr>\n",
       "    <tr>\n",
       "      <th>1</th>\n",
       "      <td>16.9</td>\n",
       "      <td>2010-01-05 16:52:16 UTC</td>\n",
       "      <td>-74.016048</td>\n",
       "      <td>40.711303</td>\n",
       "      <td>-73.979268</td>\n",
       "      <td>40.782004</td>\n",
       "      <td>1.0</td>\n",
       "    </tr>\n",
       "    <tr>\n",
       "      <th>2</th>\n",
       "      <td>5.7</td>\n",
       "      <td>2011-08-18 00:35:00 UTC</td>\n",
       "      <td>-73.982738</td>\n",
       "      <td>40.761270</td>\n",
       "      <td>-73.991242</td>\n",
       "      <td>40.750562</td>\n",
       "      <td>2.0</td>\n",
       "    </tr>\n",
       "    <tr>\n",
       "      <th>3</th>\n",
       "      <td>7.7</td>\n",
       "      <td>2012-04-21 04:30:42 UTC</td>\n",
       "      <td>-73.987130</td>\n",
       "      <td>40.733143</td>\n",
       "      <td>-73.991567</td>\n",
       "      <td>40.758092</td>\n",
       "      <td>1.0</td>\n",
       "    </tr>\n",
       "    <tr>\n",
       "      <th>4</th>\n",
       "      <td>5.3</td>\n",
       "      <td>2010-03-09 07:51:00 UTC</td>\n",
       "      <td>-73.968095</td>\n",
       "      <td>40.768008</td>\n",
       "      <td>-73.956655</td>\n",
       "      <td>40.783762</td>\n",
       "      <td>1.0</td>\n",
       "    </tr>\n",
       "  </tbody>\n",
       "</table>\n",
       "</div>"
      ],
      "text/plain": [
       "   fare_amount          pickup_datetime  pickup_longitude  pickup_latitude  \\\n",
       "0          4.5  2009-06-15 17:26:21 UTC        -73.844311        40.721319   \n",
       "1         16.9  2010-01-05 16:52:16 UTC        -74.016048        40.711303   \n",
       "2          5.7  2011-08-18 00:35:00 UTC        -73.982738        40.761270   \n",
       "3          7.7  2012-04-21 04:30:42 UTC        -73.987130        40.733143   \n",
       "4          5.3  2010-03-09 07:51:00 UTC        -73.968095        40.768008   \n",
       "\n",
       "   dropoff_longitude  dropoff_latitude  passenger_count  \n",
       "0         -73.841610         40.712278              1.0  \n",
       "1         -73.979268         40.782004              1.0  \n",
       "2         -73.991242         40.750562              2.0  \n",
       "3         -73.991567         40.758092              1.0  \n",
       "4         -73.956655         40.783762              1.0  "
      ]
     },
     "execution_count": 4,
     "metadata": {},
     "output_type": "execute_result"
    }
   ],
   "source": [
    "train.head()"
   ]
  },
  {
   "cell_type": "code",
   "execution_count": 5,
   "metadata": {
    "collapsed": true
   },
   "outputs": [
    {
     "data": {
      "text/html": [
       "<div>\n",
       "<style scoped>\n",
       "    .dataframe tbody tr th:only-of-type {\n",
       "        vertical-align: middle;\n",
       "    }\n",
       "\n",
       "    .dataframe tbody tr th {\n",
       "        vertical-align: top;\n",
       "    }\n",
       "\n",
       "    .dataframe thead th {\n",
       "        text-align: right;\n",
       "    }\n",
       "</style>\n",
       "<table border=\"1\" class=\"dataframe\">\n",
       "  <thead>\n",
       "    <tr style=\"text-align: right;\">\n",
       "      <th></th>\n",
       "      <th>pickup_datetime</th>\n",
       "      <th>pickup_longitude</th>\n",
       "      <th>pickup_latitude</th>\n",
       "      <th>dropoff_longitude</th>\n",
       "      <th>dropoff_latitude</th>\n",
       "      <th>passenger_count</th>\n",
       "    </tr>\n",
       "  </thead>\n",
       "  <tbody>\n",
       "    <tr>\n",
       "      <th>0</th>\n",
       "      <td>2015-01-27 13:08:24 UTC</td>\n",
       "      <td>-73.973320</td>\n",
       "      <td>40.763805</td>\n",
       "      <td>-73.981430</td>\n",
       "      <td>40.743835</td>\n",
       "      <td>1</td>\n",
       "    </tr>\n",
       "    <tr>\n",
       "      <th>1</th>\n",
       "      <td>2015-01-27 13:08:24 UTC</td>\n",
       "      <td>-73.986862</td>\n",
       "      <td>40.719383</td>\n",
       "      <td>-73.998886</td>\n",
       "      <td>40.739201</td>\n",
       "      <td>1</td>\n",
       "    </tr>\n",
       "    <tr>\n",
       "      <th>2</th>\n",
       "      <td>2011-10-08 11:53:44 UTC</td>\n",
       "      <td>-73.982524</td>\n",
       "      <td>40.751260</td>\n",
       "      <td>-73.979654</td>\n",
       "      <td>40.746139</td>\n",
       "      <td>1</td>\n",
       "    </tr>\n",
       "    <tr>\n",
       "      <th>3</th>\n",
       "      <td>2012-12-01 21:12:12 UTC</td>\n",
       "      <td>-73.981160</td>\n",
       "      <td>40.767807</td>\n",
       "      <td>-73.990448</td>\n",
       "      <td>40.751635</td>\n",
       "      <td>1</td>\n",
       "    </tr>\n",
       "    <tr>\n",
       "      <th>4</th>\n",
       "      <td>2012-12-01 21:12:12 UTC</td>\n",
       "      <td>-73.966046</td>\n",
       "      <td>40.789775</td>\n",
       "      <td>-73.988565</td>\n",
       "      <td>40.744427</td>\n",
       "      <td>1</td>\n",
       "    </tr>\n",
       "  </tbody>\n",
       "</table>\n",
       "</div>"
      ],
      "text/plain": [
       "           pickup_datetime  pickup_longitude  pickup_latitude  \\\n",
       "0  2015-01-27 13:08:24 UTC        -73.973320        40.763805   \n",
       "1  2015-01-27 13:08:24 UTC        -73.986862        40.719383   \n",
       "2  2011-10-08 11:53:44 UTC        -73.982524        40.751260   \n",
       "3  2012-12-01 21:12:12 UTC        -73.981160        40.767807   \n",
       "4  2012-12-01 21:12:12 UTC        -73.966046        40.789775   \n",
       "\n",
       "   dropoff_longitude  dropoff_latitude  passenger_count  \n",
       "0         -73.981430         40.743835                1  \n",
       "1         -73.998886         40.739201                1  \n",
       "2         -73.979654         40.746139                1  \n",
       "3         -73.990448         40.751635                1  \n",
       "4         -73.988565         40.744427                1  "
      ]
     },
     "execution_count": 5,
     "metadata": {},
     "output_type": "execute_result"
    }
   ],
   "source": [
    "test.head()"
   ]
  },
  {
   "cell_type": "markdown",
   "metadata": {},
   "source": [
    "1) Understanding passenger_count"
   ]
  },
  {
   "cell_type": "code",
   "execution_count": 9,
   "metadata": {
    "collapsed": true
   },
   "outputs": [
    {
     "data": {
      "text/plain": [
       "(count    16012.000000\n",
       " mean         2.625070\n",
       " std         60.844122\n",
       " min          0.000000\n",
       " 25%          1.000000\n",
       " 50%          1.000000\n",
       " 75%          2.000000\n",
       " max       5345.000000\n",
       " Name: passenger_count, dtype: float64, count    9914.000000\n",
       " mean        1.671273\n",
       " std         1.278747\n",
       " min         1.000000\n",
       " 25%         1.000000\n",
       " 50%         1.000000\n",
       " 75%         2.000000\n",
       " max         6.000000\n",
       " Name: passenger_count, dtype: float64)"
      ]
     },
     "execution_count": 9,
     "metadata": {},
     "output_type": "execute_result"
    }
   ],
   "source": [
    "train[\"passenger_count\"].describe() , test[\"passenger_count\"].describe()"
   ]
  },
  {
   "cell_type": "markdown",
   "metadata": {},
   "source": [
    "passenger_count maximum and minimum values in test data is 6 and 1. but over train data have maximum value of 5345 which is not making sense. Lets plot the distribution curve for passenger count to understand it batter."
   ]
  },
  {
   "cell_type": "code",
   "execution_count": 10,
   "metadata": {},
   "outputs": [
    {
     "name": "stderr",
     "output_type": "stream",
     "text": [
      "C:\\Users\\hp\\Anaconda3\\lib\\site-packages\\numpy\\lib\\histograms.py:839: RuntimeWarning: invalid value encountered in greater_equal\n",
      "  keep = (tmp_a >= first_edge)\n",
      "C:\\Users\\hp\\Anaconda3\\lib\\site-packages\\numpy\\lib\\histograms.py:840: RuntimeWarning: invalid value encountered in less_equal\n",
      "  keep &= (tmp_a <= last_edge)\n",
      "C:\\Users\\hp\\Anaconda3\\lib\\site-packages\\statsmodels\\nonparametric\\kde.py:447: RuntimeWarning: invalid value encountered in greater\n",
      "  X = X[np.logical_and(X > clip[0], X < clip[1])] # won't work for two columns.\n",
      "C:\\Users\\hp\\Anaconda3\\lib\\site-packages\\statsmodels\\nonparametric\\kde.py:447: RuntimeWarning: invalid value encountered in less\n",
      "  X = X[np.logical_and(X > clip[0], X < clip[1])] # won't work for two columns.\n"
     ]
    },
    {
     "data": {
      "image/png": "[encoded data removed]",
      "text/plain": [
       "<Figure size 1440x360 with 1 Axes>"
      ]
     },
     "metadata": {},
     "output_type": "display_data"
    }
   ],
   "source": [
    "sns.set_style(\"whitegrid\")\n",
    "plt.figure(figsize=(20,5))\n",
    "sns.distplot(train[\"passenger_count\"],bins=100,color=\"blue\",rug=True).set_title(\"train passenger_count\")\n",
    "plt.tight_layout()"
   ]
  },
  {
   "cell_type": "markdown",
   "metadata": {},
   "source": [
    "Lets check how many values lies outside the range of (1,6)"
   ]
  },
  {
   "cell_type": "code",
   "execution_count": 8,
   "metadata": {},
   "outputs": [
    {
     "data": {
      "text/plain": [
       "fare_amount          77\n",
       "pickup_datetime      78\n",
       "pickup_longitude     78\n",
       "pickup_latitude      78\n",
       "dropoff_longitude    78\n",
       "dropoff_latitude     78\n",
       "passenger_count      78\n",
       "dtype: int64"
      ]
     },
     "execution_count": 8,
     "metadata": {},
     "output_type": "execute_result"
    }
   ],
   "source": [
    "train[(train[\"passenger_count\"]<1) | (train[\"passenger_count\"]>6)].count()"
   ]
  },
  {
   "cell_type": "raw",
   "metadata": {},
   "source": [
    "total 78 values lies outside this range, what we can do is we can drop these values or we can replace them with NA then impute them using missing value imputation methods."
   ]
  },
  {
   "cell_type": "code",
   "execution_count": 4,
   "metadata": {},
   "outputs": [],
   "source": [
    "#Droping the observations\n",
    "train = train.drop(train[train['passenger_count']>6].index, axis=0)\n",
    "train = train.drop(train[train['passenger_count']<1].index, axis=0)"
   ]
  },
  {
   "cell_type": "code",
   "execution_count": 13,
   "metadata": {},
   "outputs": [],
   "source": [
    "#Replacing with NA in copied file\n",
    "#train.loc[((train[\"passenger_count\"]<1) | (train[\"passenger_count\"]>6)),\"passenger_count\"] = np.nan"
   ]
  },
  {
   "cell_type": "code",
   "execution_count": 5,
   "metadata": {},
   "outputs": [
    {
     "name": "stderr",
     "output_type": "stream",
     "text": [
      "C:\\Users\\hp\\Anaconda3\\lib\\site-packages\\numpy\\lib\\histograms.py:839: RuntimeWarning: invalid value encountered in greater_equal\n",
      "  keep = (tmp_a >= first_edge)\n",
      "C:\\Users\\hp\\Anaconda3\\lib\\site-packages\\numpy\\lib\\histograms.py:840: RuntimeWarning: invalid value encountered in less_equal\n",
      "  keep &= (tmp_a <= last_edge)\n",
      "C:\\Users\\hp\\Anaconda3\\lib\\site-packages\\statsmodels\\nonparametric\\kde.py:447: RuntimeWarning: invalid value encountered in greater\n",
      "  X = X[np.logical_and(X > clip[0], X < clip[1])] # won't work for two columns.\n",
      "C:\\Users\\hp\\Anaconda3\\lib\\site-packages\\statsmodels\\nonparametric\\kde.py:447: RuntimeWarning: invalid value encountered in less\n",
      "  X = X[np.logical_and(X > clip[0], X < clip[1])] # won't work for two columns.\n"
     ]
    },
    {
     "data": {
      "image/png": "[encoded data removed]",
      "text/plain": [
       "<Figure size 1440x360 with 1 Axes>"
      ]
     },
     "metadata": {},
     "output_type": "display_data"
    }
   ],
   "source": [
    "#Lets again plot the dist for passenger count \n",
    "sns.set_style(\"whitegrid\")\n",
    "plt.figure(figsize=(20,5))\n",
    "sns.distplot(train[\"passenger_count\"],bins=100,color=\"blue\",rug=True).set_title(\"train passenger_count\")\n",
    "plt.tight_layout()"
   ]
  },
  {
   "cell_type": "markdown",
   "metadata": {},
   "source": [
    "Most of the values for passenger_count is 1. As we can see above one value of passenger_couunt is not integer it liers between 1 and 2 , which is also not making any sense. so lets round the values of passenger_count to nearest integer which is 1"
   ]
  },
  {
   "cell_type": "code",
   "execution_count": 10,
   "metadata": {},
   "outputs": [],
   "source": [
    "train[\"passenger_count\"]=train[\"passenger_count\"].round()"
   ]
  },
  {
   "cell_type": "code",
   "execution_count": 11,
   "metadata": {
    "collapsed": true
   },
   "outputs": [
    {
     "data": {
      "text/plain": [
       "(6, count    15934.000000\n",
       " mean         1.649617\n",
       " std          1.265903\n",
       " min          1.000000\n",
       " 25%          1.000000\n",
       " 50%          1.000000\n",
       " 75%          2.000000\n",
       " max          6.000000\n",
       " Name: passenger_count, dtype: float64)"
      ]
     },
     "execution_count": 11,
     "metadata": {},
     "output_type": "execute_result"
    }
   ],
   "source": [
    "train[\"passenger_count\"].nunique(),train[\"passenger_count\"].describe()"
   ]
  },
  {
   "cell_type": "code",
   "execution_count": 12,
   "metadata": {},
   "outputs": [],
   "source": [
    "#passenger_count is the category type data type, lets convet it to its datatype\n",
    "train[\"passenger_count\"]=train[\"passenger_count\"].astype(object)\n",
    "test[\"passenger_count\"]=test[\"passenger_count\"].astype(object)"
   ]
  },
  {
   "cell_type": "code",
   "execution_count": 10,
   "metadata": {
    "collapsed": true
   },
   "outputs": [
    {
     "name": "stdout",
     "output_type": "stream",
     "text": [
      "<class 'pandas.core.frame.DataFrame'>\n",
      "Int64Index: 15989 entries, 0 to 16066\n",
      "Data columns (total 7 columns):\n",
      "fare_amount          15965 non-null float64\n",
      "pickup_datetime      15989 non-null object\n",
      "pickup_longitude     15989 non-null float64\n",
      "pickup_latitude      15989 non-null float64\n",
      "dropoff_longitude    15989 non-null float64\n",
      "dropoff_latitude     15989 non-null float64\n",
      "passenger_count      15934 non-null object\n",
      "dtypes: float64(5), object(2)\n",
      "memory usage: 999.3+ KB\n"
     ]
    }
   ],
   "source": [
    "train.info()"
   ]
  },
  {
   "cell_type": "code",
   "execution_count": 11,
   "metadata": {
    "collapsed": true
   },
   "outputs": [
    {
     "name": "stdout",
     "output_type": "stream",
     "text": [
      "<class 'pandas.core.frame.DataFrame'>\n",
      "RangeIndex: 9914 entries, 0 to 9913\n",
      "Data columns (total 6 columns):\n",
      "pickup_datetime      9914 non-null object\n",
      "pickup_longitude     9914 non-null float64\n",
      "pickup_latitude      9914 non-null float64\n",
      "dropoff_longitude    9914 non-null float64\n",
      "dropoff_latitude     9914 non-null float64\n",
      "passenger_count      9914 non-null object\n",
      "dtypes: float64(4), object(2)\n",
      "memory usage: 464.8+ KB\n"
     ]
    }
   ],
   "source": [
    "test.info()"
   ]
  },
  {
   "cell_type": "markdown",
   "metadata": {},
   "source": [
    "2) fare_amount"
   ]
  },
  {
   "cell_type": "code",
   "execution_count": 20,
   "metadata": {
    "collapsed": true
   },
   "outputs": [
    {
     "data": {
      "text/plain": [
       "count    15965.000000\n",
       "mean        15.044053\n",
       "std        431.497457\n",
       "min         -3.000000\n",
       "25%          6.000000\n",
       "50%          8.500000\n",
       "75%         12.500000\n",
       "max      54343.000000\n",
       "Name: fare_amount, dtype: float64"
      ]
     },
     "execution_count": 20,
     "metadata": {},
     "output_type": "execute_result"
    }
   ],
   "source": [
    "train[\"fare_amount\"].describe()"
   ]
  },
  {
   "cell_type": "markdown",
   "metadata": {},
   "source": [
    "As we can see some of the values of faer_amount is negative(as minimum value is -3) which is not making any sense. also the fare_Amount less than 1 and values which are extremly high is also have to be treat. so lets first plot the distribution of fare_amount."
   ]
  },
  {
   "cell_type": "code",
   "execution_count": 21,
   "metadata": {},
   "outputs": [
    {
     "data": {
      "image/png": "[encoded data removed]",
      "text/plain": [
       "<Figure size 1440x360 with 1 Axes>"
      ]
     },
     "metadata": {},
     "output_type": "display_data"
    }
   ],
   "source": [
    "sns.set_style(\"whitegrid\")\n",
    "plt.figure(figsize=(20,5))\n",
    "sns.distplot(train[\"fare_amount\"],bins=100,color=\"blue\",rug=True).set_title(\"fare_amount\")\n",
    "plt.tight_layout()"
   ]
  },
  {
   "cell_type": "markdown",
   "metadata": {},
   "source": [
    "So almost all the values are not near to maximum value of fare_amount implies this maximum value is nosiy data. lets plot distribution curver for fare_amount (0,500) for better under standiing"
   ]
  },
  {
   "cell_type": "code",
   "execution_count": 43,
   "metadata": {},
   "outputs": [
    {
     "data": {
      "image/png": "[encoded data removed]",
      "text/plain": [
       "<Figure size 1440x360 with 1 Axes>"
      ]
     },
     "metadata": {},
     "output_type": "display_data"
    }
   ],
   "source": [
    "sns.set_style(\"whitegrid\")\n",
    "plt.figure(figsize=(20,5))\n",
    "sns.distplot(train[\"fare_amount\"],bins=\"auto\",color=\"blue\").set_title(\"fare_amount\")\n",
    "plt.xlim(0,500)\n",
    "plt.tight_layout()"
   ]
  },
  {
   "cell_type": "markdown",
   "metadata": {},
   "source": [
    "Now, for the unsensible values of fare_amount(smaller than 1 and greater than 200) what we can do is we are going to remove this values or we can replce them with NA then impute them using missing value imputation "
   ]
  },
  {
   "cell_type": "code",
   "execution_count": 13,
   "metadata": {},
   "outputs": [],
   "source": [
    "#Removing these observations\n",
    "train = train.drop(train[train[\"fare_amount\"]<1].index, axis=0)\n",
    "train = train.drop(train[train[\"fare_amount\"]>200].index, axis=0)"
   ]
  },
  {
   "cell_type": "code",
   "execution_count": 10,
   "metadata": {},
   "outputs": [],
   "source": [
    "#Repalce the with NA\n",
    "# train.loc[train[\"fare_amount\"] < 1,\"fare_amount\"] = np.nan\n",
    "# train.loc[train[\"fare_amount\"] > 200,\"fare_amount\"] = np.nan"
   ]
  },
  {
   "cell_type": "code",
   "execution_count": 14,
   "metadata": {
    "collapsed": true
   },
   "outputs": [
    {
     "data": {
      "text/plain": [
       "count    15956.000000\n",
       "mean        11.319484\n",
       "std          9.663580\n",
       "min          1.140000\n",
       "25%          6.000000\n",
       "50%          8.500000\n",
       "75%         12.500000\n",
       "max        180.000000\n",
       "Name: fare_amount, dtype: float64"
      ]
     },
     "execution_count": 14,
     "metadata": {},
     "output_type": "execute_result"
    }
   ],
   "source": [
    "train[\"fare_amount\"].describe()"
   ]
  },
  {
   "cell_type": "code",
   "execution_count": 15,
   "metadata": {
    "collapsed": true
   },
   "outputs": [
    {
     "name": "stdout",
     "output_type": "stream",
     "text": [
      "<class 'pandas.core.frame.DataFrame'>\n",
      "Int64Index: 15980 entries, 0 to 16066\n",
      "Data columns (total 7 columns):\n",
      "fare_amount          15956 non-null float64\n",
      "pickup_datetime      15980 non-null object\n",
      "pickup_longitude     15980 non-null float64\n",
      "pickup_latitude      15980 non-null float64\n",
      "dropoff_longitude    15980 non-null float64\n",
      "dropoff_latitude     15980 non-null float64\n",
      "passenger_count      15925 non-null object\n",
      "dtypes: float64(5), object(2)\n",
      "memory usage: 998.8+ KB\n"
     ]
    }
   ],
   "source": [
    "train.info()"
   ]
  },
  {
   "cell_type": "markdown",
   "metadata": {},
   "source": [
    "3) latitude and longitude data"
   ]
  },
  {
   "cell_type": "markdown",
   "metadata": {},
   "source": [
    "As from latitude and longitude understanding, latitude is always between -90 to 90 and longitude is always between -180 to 180.\n",
    "lets check for the values which is outside these in our data."
   ]
  },
  {
   "cell_type": "code",
   "execution_count": 15,
   "metadata": {
    "scrolled": true
   },
   "outputs": [
    {
     "data": {
      "text/plain": [
       "(count    15980.000000\n",
       " mean        39.898386\n",
       " std          6.187519\n",
       " min        -74.006377\n",
       " 25%         40.734716\n",
       " 50%         40.753585\n",
       " 75%         40.768029\n",
       " max         41.366138\n",
       " Name: dropoff_latitude, dtype: float64, count    15980.000000\n",
       " mean       -72.463365\n",
       " std         10.572202\n",
       " min        -74.429332\n",
       " 25%        -73.991181\n",
       " 50%        -73.980166\n",
       " 75%        -73.963643\n",
       " max         40.802437\n",
       " Name: dropoff_longitude, dtype: float64, count    15980.000000\n",
       " mean        39.920403\n",
       " std          6.815687\n",
       " min        -74.006893\n",
       " 25%         40.734947\n",
       " 50%         40.752640\n",
       " 75%         40.767413\n",
       " max        401.083332\n",
       " Name: pickup_latitude, dtype: float64, count    15980.000000\n",
       " mean       -72.473075\n",
       " std         10.544433\n",
       " min        -74.438233\n",
       " 25%        -73.992155\n",
       " 50%        -73.981695\n",
       " 75%        -73.966830\n",
       " max         40.766125\n",
       " Name: pickup_longitude, dtype: float64)"
      ]
     },
     "execution_count": 15,
     "metadata": {},
     "output_type": "execute_result"
    }
   ],
   "source": [
    "train[\"dropoff_latitude\"].describe(),train[\"dropoff_longitude\"].describe(),train[\"pickup_latitude\"].describe(),train[\"pickup_longitude\"].describe()"
   ]
  },
  {
   "cell_type": "markdown",
   "metadata": {},
   "source": [
    "`from above as we can see that the values are lies under the sensible range for all except pickup_latitude as its maximum value is 401 which is not making any sence. so lets find out how many values are greater than 90."
   ]
  },
  {
   "cell_type": "code",
   "execution_count": 16,
   "metadata": {},
   "outputs": [
    {
     "data": {
      "text/plain": [
       "fare_amount          1\n",
       "pickup_datetime      1\n",
       "pickup_longitude     1\n",
       "pickup_latitude      1\n",
       "dropoff_longitude    1\n",
       "dropoff_latitude     1\n",
       "passenger_count      1\n",
       "dtype: int64"
      ]
     },
     "execution_count": 16,
     "metadata": {},
     "output_type": "execute_result"
    }
   ],
   "source": [
    "train[train['pickup_latitude']>90].count()"
   ]
  },
  {
   "cell_type": "markdown",
   "metadata": {},
   "source": [
    "we can drop this value or we can replace it with na than impute it using methods of missing value impuataion"
   ]
  },
  {
   "cell_type": "code",
   "execution_count": 17,
   "metadata": {},
   "outputs": [],
   "source": [
    "#Removing the Observation\n",
    "train = train.drop(train[train['pickup_latitude']>90].index, axis=0)"
   ]
  },
  {
   "cell_type": "code",
   "execution_count": 51,
   "metadata": {},
   "outputs": [],
   "source": [
    "# Replacing it with NA\n",
    "# train.loc[train[\"pickup_latitude\"]>90,\"pickup_latitude\"]=np.nan"
   ]
  },
  {
   "cell_type": "markdown",
   "metadata": {},
   "source": [
    "Lets plot distribution curve for latitude and longitude to understand the data"
   ]
  },
  {
   "cell_type": "code",
   "execution_count": 27,
   "metadata": {},
   "outputs": [
    {
     "data": {
      "image/png": "[encoded data removed]",
      "text/plain": [
       "<Figure size 1440x360 with 4 Axes>"
      ]
     },
     "metadata": {},
     "output_type": "display_data"
    }
   ],
   "source": [
    "sns.set_style(\"whitegrid\")\n",
    "plt.figure(figsize=(20,5))\n",
    "plt.subplot(221)\n",
    "sns.distplot(train[\"pickup_longitude\"],color=\"red\").set_title(\"pickup_longitude\")\n",
    "plt.subplot(222)\n",
    "sns.distplot(train[\"dropoff_longitude\"],color=\"black\").set_title(\"dropoff_longitude\")\n",
    "plt.subplot(223)\n",
    "sns.distplot(train[\"pickup_latitude\"],color=\"blue\").set_title(\"pickup_latitude\")\n",
    "plt.subplot(224)\n",
    "sns.distplot(train[\"dropoff_latitude\"],color=\"green\").set_title(\"dropoff_latitude\")\n",
    "plt.tight_layout()"
   ]
  },
  {
   "cell_type": "markdown",
   "metadata": {},
   "source": [
    "Most of the values for latitude lies near to 40 and longitude lies near to -73, From internet site Latlong.net we found out these points are for Newyork city. All the other values fare from these values are may be outliers or noisy data.Lets plot some visulaization for test latitude and longitude to find out."
   ]
  },
  {
   "cell_type": "code",
   "execution_count": 28,
   "metadata": {},
   "outputs": [
    {
     "data": {
      "image/png": "[encoded data removed]",
      "text/plain": [
       "<Figure size 1440x360 with 4 Axes>"
      ]
     },
     "metadata": {},
     "output_type": "display_data"
    }
   ],
   "source": [
    "sns.set_style(\"whitegrid\")\n",
    "plt.figure(figsize=(20,5))\n",
    "plt.subplot(221)\n",
    "sns.distplot(test[\"pickup_longitude\"],color=\"red\").set_title(\"pickup_longitude\")\n",
    "plt.subplot(222)\n",
    "sns.distplot(test[\"dropoff_longitude\"],color=\"black\").set_title(\"dropoff_longitude\")\n",
    "plt.subplot(223)\n",
    "sns.distplot(test[\"pickup_latitude\"],color=\"blue\").set_title(\"pickup_latitude\")\n",
    "plt.subplot(224)\n",
    "sns.distplot(test[\"dropoff_latitude\"],color=\"green\").set_title(\"dropoff_latitude\")\n",
    "plt.tight_layout()"
   ]
  },
  {
   "cell_type": "markdown",
   "metadata": {},
   "source": [
    "From above we can see that latitude range from (39,42) roughgly and longitude ranges from (-75,-72) rounghly.  "
   ]
  },
  {
   "cell_type": "code",
   "execution_count": 18,
   "metadata": {},
   "outputs": [],
   "source": [
    "a=train[(train[\"pickup_longitude\"] < -75) | (train[\"pickup_longitude\"]>-72) | (train[\"dropoff_longitude\"] < -75) | \n",
    "     (train[\"dropoff_longitude\"]>-72) | (train[\"pickup_latitude\"] < 39) | (train[\"pickup_latitude\"]> 42) \n",
    "         | (train[\"dropoff_latitude\"] < 39) | (train[\"dropoff_latitude\"]> 42)]"
   ]
  },
  {
   "cell_type": "code",
   "execution_count": 19,
   "metadata": {},
   "outputs": [
    {
     "data": {
      "text/html": [
       "<div>\n",
       "<style scoped>\n",
       "    .dataframe tbody tr th:only-of-type {\n",
       "        vertical-align: middle;\n",
       "    }\n",
       "\n",
       "    .dataframe tbody tr th {\n",
       "        vertical-align: top;\n",
       "    }\n",
       "\n",
       "    .dataframe thead th {\n",
       "        text-align: right;\n",
       "    }\n",
       "</style>\n",
       "<table border=\"1\" class=\"dataframe\">\n",
       "  <thead>\n",
       "    <tr style=\"text-align: right;\">\n",
       "      <th></th>\n",
       "      <th>fare_amount</th>\n",
       "      <th>pickup_datetime</th>\n",
       "      <th>pickup_longitude</th>\n",
       "      <th>pickup_latitude</th>\n",
       "      <th>dropoff_longitude</th>\n",
       "      <th>dropoff_latitude</th>\n",
       "      <th>passenger_count</th>\n",
       "    </tr>\n",
       "  </thead>\n",
       "  <tbody>\n",
       "    <tr>\n",
       "      <th>11</th>\n",
       "      <td>5.5</td>\n",
       "      <td>2012-12-24 11:24:00 UTC</td>\n",
       "      <td>0.0</td>\n",
       "      <td>0.0</td>\n",
       "      <td>0.0</td>\n",
       "      <td>0.0</td>\n",
       "      <td>3</td>\n",
       "    </tr>\n",
       "    <tr>\n",
       "      <th>15</th>\n",
       "      <td>5.0</td>\n",
       "      <td>2013-11-23 12:57:00 UTC</td>\n",
       "      <td>0.0</td>\n",
       "      <td>0.0</td>\n",
       "      <td>0.0</td>\n",
       "      <td>0.0</td>\n",
       "      <td>1</td>\n",
       "    </tr>\n",
       "    <tr>\n",
       "      <th>26</th>\n",
       "      <td>NaN</td>\n",
       "      <td>2011-02-07 20:01:00 UTC</td>\n",
       "      <td>0.0</td>\n",
       "      <td>0.0</td>\n",
       "      <td>0.0</td>\n",
       "      <td>0.0</td>\n",
       "      <td>1</td>\n",
       "    </tr>\n",
       "    <tr>\n",
       "      <th>124</th>\n",
       "      <td>8.0</td>\n",
       "      <td>2013-01-17 17:22:00 UTC</td>\n",
       "      <td>0.0</td>\n",
       "      <td>0.0</td>\n",
       "      <td>0.0</td>\n",
       "      <td>0.0</td>\n",
       "      <td>2</td>\n",
       "    </tr>\n",
       "    <tr>\n",
       "      <th>192</th>\n",
       "      <td>3.7</td>\n",
       "      <td>2010-09-05 17:08:00 UTC</td>\n",
       "      <td>0.0</td>\n",
       "      <td>0.0</td>\n",
       "      <td>0.0</td>\n",
       "      <td>0.0</td>\n",
       "      <td>5</td>\n",
       "    </tr>\n",
       "    <tr>\n",
       "      <th>...</th>\n",
       "      <td>...</td>\n",
       "      <td>...</td>\n",
       "      <td>...</td>\n",
       "      <td>...</td>\n",
       "      <td>...</td>\n",
       "      <td>...</td>\n",
       "      <td>...</td>\n",
       "    </tr>\n",
       "    <tr>\n",
       "      <th>15920</th>\n",
       "      <td>8.1</td>\n",
       "      <td>2012-05-18 04:44:00 UTC</td>\n",
       "      <td>0.0</td>\n",
       "      <td>0.0</td>\n",
       "      <td>0.0</td>\n",
       "      <td>0.0</td>\n",
       "      <td>1</td>\n",
       "    </tr>\n",
       "    <tr>\n",
       "      <th>15929</th>\n",
       "      <td>10.9</td>\n",
       "      <td>2010-05-18 20:34:00 UTC</td>\n",
       "      <td>0.0</td>\n",
       "      <td>0.0</td>\n",
       "      <td>0.0</td>\n",
       "      <td>0.0</td>\n",
       "      <td>5</td>\n",
       "    </tr>\n",
       "    <tr>\n",
       "      <th>15937</th>\n",
       "      <td>3.3</td>\n",
       "      <td>2009-10-01 20:32:00 UTC</td>\n",
       "      <td>0.0</td>\n",
       "      <td>0.0</td>\n",
       "      <td>0.0</td>\n",
       "      <td>0.0</td>\n",
       "      <td>3</td>\n",
       "    </tr>\n",
       "    <tr>\n",
       "      <th>16014</th>\n",
       "      <td>10.9</td>\n",
       "      <td>2011-03-04 14:05:00 UTC</td>\n",
       "      <td>0.0</td>\n",
       "      <td>0.0</td>\n",
       "      <td>0.0</td>\n",
       "      <td>0.0</td>\n",
       "      <td>2</td>\n",
       "    </tr>\n",
       "    <tr>\n",
       "      <th>16056</th>\n",
       "      <td>38.3</td>\n",
       "      <td>2012-12-17 14:59:16 UTC</td>\n",
       "      <td>0.0</td>\n",
       "      <td>0.0</td>\n",
       "      <td>0.0</td>\n",
       "      <td>0.0</td>\n",
       "      <td>1</td>\n",
       "    </tr>\n",
       "  </tbody>\n",
       "</table>\n",
       "<p>333 rows × 7 columns</p>\n",
       "</div>"
      ],
      "text/plain": [
       "       fare_amount          pickup_datetime  pickup_longitude  \\\n",
       "11             5.5  2012-12-24 11:24:00 UTC               0.0   \n",
       "15             5.0  2013-11-23 12:57:00 UTC               0.0   \n",
       "26             NaN  2011-02-07 20:01:00 UTC               0.0   \n",
       "124            8.0  2013-01-17 17:22:00 UTC               0.0   \n",
       "192            3.7  2010-09-05 17:08:00 UTC               0.0   \n",
       "...            ...                      ...               ...   \n",
       "15920          8.1  2012-05-18 04:44:00 UTC               0.0   \n",
       "15929         10.9  2010-05-18 20:34:00 UTC               0.0   \n",
       "15937          3.3  2009-10-01 20:32:00 UTC               0.0   \n",
       "16014         10.9  2011-03-04 14:05:00 UTC               0.0   \n",
       "16056         38.3  2012-12-17 14:59:16 UTC               0.0   \n",
       "\n",
       "       pickup_latitude  dropoff_longitude  dropoff_latitude passenger_count  \n",
       "11                 0.0                0.0               0.0               3  \n",
       "15                 0.0                0.0               0.0               1  \n",
       "26                 0.0                0.0               0.0               1  \n",
       "124                0.0                0.0               0.0               2  \n",
       "192                0.0                0.0               0.0               5  \n",
       "...                ...                ...               ...             ...  \n",
       "15920              0.0                0.0               0.0               1  \n",
       "15929              0.0                0.0               0.0               5  \n",
       "15937              0.0                0.0               0.0               3  \n",
       "16014              0.0                0.0               0.0               2  \n",
       "16056              0.0                0.0               0.0               1  \n",
       "\n",
       "[333 rows x 7 columns]"
      ]
     },
     "execution_count": 19,
     "metadata": {},
     "output_type": "execute_result"
    }
   ],
   "source": [
    "a"
   ]
  },
  {
   "cell_type": "markdown",
   "metadata": {},
   "source": [
    "There are total 333 such observation but most of these values of latitude and longitude is 0. lets find out how many observation with 0 latitude and longitude"
   ]
  },
  {
   "cell_type": "markdown",
   "metadata": {},
   "source": [
    "Now what we can do is we can remove these observations or we can replace them with na than impute them as missing value"
   ]
  },
  {
   "cell_type": "code",
   "execution_count": 20,
   "metadata": {},
   "outputs": [
    {
     "data": {
      "text/plain": [
       "(15979, 7)"
      ]
     },
     "execution_count": 20,
     "metadata": {},
     "output_type": "execute_result"
    }
   ],
   "source": [
    "train.shape"
   ]
  },
  {
   "cell_type": "code",
   "execution_count": 21,
   "metadata": {},
   "outputs": [],
   "source": [
    "#Removing the observations\n",
    "train = train.drop(train[train['pickup_latitude']>42].index, axis=0)\n",
    "train = train.drop(train[train['pickup_latitude']<39].index, axis=0)\n",
    "train = train.drop(train[train['dropoff_latitude']>42].index, axis=0)\n",
    "train = train.drop(train[train['dropoff_latitude']<39].index, axis=0)\n",
    "train = train.drop(train[train['pickup_longitude']>-72].index, axis=0)\n",
    "train = train.drop(train[train['pickup_longitude']<-75].index, axis=0)\n",
    "train = train.drop(train[train['dropoff_longitude']>-72].index, axis=0)\n",
    "train = train.drop(train[train['dropoff_longitude']<-75].index, axis=0)"
   ]
  },
  {
   "cell_type": "code",
   "execution_count": 22,
   "metadata": {},
   "outputs": [
    {
     "data": {
      "text/plain": [
       "(15646, 7)"
      ]
     },
     "execution_count": 22,
     "metadata": {},
     "output_type": "execute_result"
    }
   ],
   "source": [
    "train.shape"
   ]
  },
  {
   "cell_type": "code",
   "execution_count": 64,
   "metadata": {},
   "outputs": [],
   "source": [
    "#Replacing with NA\n",
    "#train.loc[train[\"pickup_latitude\"]>42,\"pickup_latitude\"]=np.nan\n",
    "#train.loc[train[\"pickup_latitudek\"]<39,\"pickup_latitude\"]=np.nan\n",
    "#train.loc[train[\"dropoff_latitude\"]>42,\"dropoff_latitude\"]=np.nan\n",
    "#train.loc[train[\"dropoff_latitude\"]<39,\"dropoff_latitude\"]=np.nan\n",
    "#train.loc[train[\"pickup_longitude\"]>-72,\"pickup_longitude\"]=np.nan\n",
    "#train.loc[train[\"pickup_longitude\"]<-75,\"pickup_longitude\"]=np.nan\n",
    "#train.loc[train[\"dropoff_longitude\"]>-72,\"dropoff_longitude\"]=np.nan\n",
    "#train.loc[train[\"dropoff_longitude\"]<-75,\"dropoff_longitude\"]=np.nan"
   ]
  },
  {
   "cell_type": "code",
   "execution_count": 35,
   "metadata": {},
   "outputs": [
    {
     "data": {
      "image/png": "[encoded data removed]",
      "text/plain": [
       "<Figure size 1440x360 with 4 Axes>"
      ]
     },
     "metadata": {},
     "output_type": "display_data"
    }
   ],
   "source": [
    "#Visulaization for latitude and longitude after cleaning\n",
    "sns.set_style(\"whitegrid\")\n",
    "plt.figure(figsize=(20,5))\n",
    "plt.subplot(221)\n",
    "sns.distplot(train[\"pickup_longitude\"],color=\"red\").set_title(\"pickup_longitude\")\n",
    "plt.subplot(222)\n",
    "sns.distplot(train[\"dropoff_longitude\"],color=\"black\").set_title(\"dropoff_longitude\")\n",
    "plt.subplot(223)\n",
    "sns.distplot(train[\"pickup_latitude\"],color=\"blue\").set_title(\"pickup_latitude\")\n",
    "plt.subplot(224)\n",
    "sns.distplot(train[\"dropoff_latitude\"],color=\"green\").set_title(\"dropoff_latitude\")\n",
    "plt.tight_layout()"
   ]
  },
  {
   "cell_type": "code",
   "execution_count": 36,
   "metadata": {},
   "outputs": [
    {
     "data": {
      "text/plain": [
       "Text(336.9714285714286, 0.5, 'longitude')"
      ]
     },
     "execution_count": 36,
     "metadata": {},
     "output_type": "execute_result"
    },
    {
     "data": {
      "text/plain": [
       "<Figure size 720x720 with 0 Axes>"
      ]
     },
     "metadata": {},
     "output_type": "display_data"
    },
    {
     "data": {
      "image/png": "[encoded data removed]",
      "text/plain": [
       "<Figure size 432x432 with 3 Axes>"
      ]
     },
     "metadata": {},
     "output_type": "display_data"
    }
   ],
   "source": [
    "#Pickup_location\n",
    "sns.set_style(\"whitegrid\")\n",
    "plt.figure(figsize=(10,10))\n",
    "sns.jointplot(kind=\"scatter\", x=\"pickup_latitude\", y=\"pickup_longitude\",data=train,color='blue')\n",
    "plt.title(\"pickup_locations\")\n",
    "plt.xlabel(\"latitude\")\n",
    "plt.ylabel(\"longitude\")"
   ]
  },
  {
   "cell_type": "code",
   "execution_count": 37,
   "metadata": {},
   "outputs": [
    {
     "data": {
      "text/plain": [
       "Text(336.9714285714286, 0.5, 'longitude')"
      ]
     },
     "execution_count": 37,
     "metadata": {},
     "output_type": "execute_result"
    },
    {
     "data": {
      "text/plain": [
       "<Figure size 720x720 with 0 Axes>"
      ]
     },
     "metadata": {},
     "output_type": "display_data"
    },
    {
     "data": {
      "image/png": "[encoded data removed]",
      "text/plain": [
       "<Figure size 432x432 with 3 Axes>"
      ]
     },
     "metadata": {},
     "output_type": "display_data"
    }
   ],
   "source": [
    "#dropoff_locations\n",
    "sns.set_style(\"whitegrid\")\n",
    "plt.figure(figsize=(10,10))\n",
    "sns.jointplot(kind=\"scatter\", x=\"dropoff_latitude\", y=\"dropoff_longitude\",data=train,color='red')\n",
    "plt.title(\"dropoff_locations\")\n",
    "plt.xlabel(\"latitude\")\n",
    "plt.ylabel(\"longitude\")"
   ]
  },
  {
   "cell_type": "markdown",
   "metadata": {},
   "source": [
    "4) pickup_Datetime"
   ]
  },
  {
   "cell_type": "code",
   "execution_count": 23,
   "metadata": {},
   "outputs": [
    {
     "data": {
      "text/plain": [
       "'2010-01-05 16:52:16 UTC'"
      ]
     },
     "execution_count": 23,
     "metadata": {},
     "output_type": "execute_result"
    }
   ],
   "source": [
    "train[\"pickup_datetime\"].loc[1]"
   ]
  },
  {
   "cell_type": "code",
   "execution_count": 23,
   "metadata": {},
   "outputs": [],
   "source": [
    "#Lets change ite to datetime data type\n",
    "train[\"pickup_datetime\"]=pd.to_datetime(train[\"pickup_datetime\"], format= \"%Y-%m-%d %H:%M:%S UTC\", errors=\"coerce\")\n",
    "test[\"pickup_datetime\"]=pd.to_datetime(test[\"pickup_datetime\"], format= \"%Y-%m-%d %H:%M:%S UTC\")"
   ]
  },
  {
   "cell_type": "code",
   "execution_count": 25,
   "metadata": {},
   "outputs": [
    {
     "data": {
      "text/html": [
       "<div>\n",
       "<style scoped>\n",
       "    .dataframe tbody tr th:only-of-type {\n",
       "        vertical-align: middle;\n",
       "    }\n",
       "\n",
       "    .dataframe tbody tr th {\n",
       "        vertical-align: top;\n",
       "    }\n",
       "\n",
       "    .dataframe thead th {\n",
       "        text-align: right;\n",
       "    }\n",
       "</style>\n",
       "<table border=\"1\" class=\"dataframe\">\n",
       "  <thead>\n",
       "    <tr style=\"text-align: right;\">\n",
       "      <th></th>\n",
       "      <th>fare_amount</th>\n",
       "      <th>pickup_longitude</th>\n",
       "      <th>pickup_latitude</th>\n",
       "      <th>dropoff_longitude</th>\n",
       "      <th>dropoff_latitude</th>\n",
       "    </tr>\n",
       "  </thead>\n",
       "  <tbody>\n",
       "    <tr>\n",
       "      <th>count</th>\n",
       "      <td>15624.000000</td>\n",
       "      <td>15646.000000</td>\n",
       "      <td>15646.000000</td>\n",
       "      <td>15646.000000</td>\n",
       "      <td>15646.000000</td>\n",
       "    </tr>\n",
       "    <tr>\n",
       "      <th>mean</th>\n",
       "      <td>11.308458</td>\n",
       "      <td>-73.974832</td>\n",
       "      <td>40.750930</td>\n",
       "      <td>-73.973855</td>\n",
       "      <td>40.751418</td>\n",
       "    </tr>\n",
       "    <tr>\n",
       "      <th>std</th>\n",
       "      <td>9.610691</td>\n",
       "      <td>0.041510</td>\n",
       "      <td>0.037990</td>\n",
       "      <td>0.039343</td>\n",
       "      <td>0.039650</td>\n",
       "    </tr>\n",
       "    <tr>\n",
       "      <th>min</th>\n",
       "      <td>1.140000</td>\n",
       "      <td>-74.438233</td>\n",
       "      <td>39.603178</td>\n",
       "      <td>-74.429332</td>\n",
       "      <td>39.604972</td>\n",
       "    </tr>\n",
       "    <tr>\n",
       "      <th>25%</th>\n",
       "      <td>6.000000</td>\n",
       "      <td>-73.992392</td>\n",
       "      <td>40.736587</td>\n",
       "      <td>-73.991372</td>\n",
       "      <td>40.736321</td>\n",
       "    </tr>\n",
       "    <tr>\n",
       "      <th>50%</th>\n",
       "      <td>8.500000</td>\n",
       "      <td>-73.982053</td>\n",
       "      <td>40.753357</td>\n",
       "      <td>-73.980567</td>\n",
       "      <td>40.754256</td>\n",
       "    </tr>\n",
       "    <tr>\n",
       "      <th>75%</th>\n",
       "      <td>12.500000</td>\n",
       "      <td>-73.968104</td>\n",
       "      <td>40.767811</td>\n",
       "      <td>-73.965396</td>\n",
       "      <td>40.768332</td>\n",
       "    </tr>\n",
       "    <tr>\n",
       "      <th>max</th>\n",
       "      <td>180.000000</td>\n",
       "      <td>-73.137393</td>\n",
       "      <td>41.366138</td>\n",
       "      <td>-73.137393</td>\n",
       "      <td>41.366138</td>\n",
       "    </tr>\n",
       "  </tbody>\n",
       "</table>\n",
       "</div>"
      ],
      "text/plain": [
       "        fare_amount  pickup_longitude  pickup_latitude  dropoff_longitude  \\\n",
       "count  15624.000000      15646.000000     15646.000000       15646.000000   \n",
       "mean      11.308458        -73.974832        40.750930         -73.973855   \n",
       "std        9.610691          0.041510         0.037990           0.039343   \n",
       "min        1.140000        -74.438233        39.603178         -74.429332   \n",
       "25%        6.000000        -73.992392        40.736587         -73.991372   \n",
       "50%        8.500000        -73.982053        40.753357         -73.980567   \n",
       "75%       12.500000        -73.968104        40.767811         -73.965396   \n",
       "max      180.000000        -73.137393        41.366138         -73.137393   \n",
       "\n",
       "       dropoff_latitude  \n",
       "count      15646.000000  \n",
       "mean          40.751418  \n",
       "std            0.039650  \n",
       "min           39.604972  \n",
       "25%           40.736321  \n",
       "50%           40.754256  \n",
       "75%           40.768332  \n",
       "max           41.366138  "
      ]
     },
     "execution_count": 25,
     "metadata": {},
     "output_type": "execute_result"
    }
   ],
   "source": [
    "train.describe()"
   ]
  },
  {
   "cell_type": "code",
   "execution_count": 26,
   "metadata": {},
   "outputs": [
    {
     "name": "stdout",
     "output_type": "stream",
     "text": [
      "<class 'pandas.core.frame.DataFrame'>\n",
      "Int64Index: 15646 entries, 0 to 16066\n",
      "Data columns (total 7 columns):\n",
      "fare_amount          15624 non-null float64\n",
      "pickup_datetime      15645 non-null datetime64[ns]\n",
      "pickup_longitude     15646 non-null float64\n",
      "pickup_latitude      15646 non-null float64\n",
      "dropoff_longitude    15646 non-null float64\n",
      "dropoff_latitude     15646 non-null float64\n",
      "passenger_count      15591 non-null object\n",
      "dtypes: datetime64[ns](1), float64(5), object(1)\n",
      "memory usage: 1.6+ MB\n"
     ]
    }
   ],
   "source": [
    "train.info()"
   ]
  },
  {
   "cell_type": "markdown",
   "metadata": {},
   "source": [
    "We have done with our data cleaning process lets check for missing values now"
   ]
  },
  {
   "cell_type": "markdown",
   "metadata": {},
   "source": [
    "# Missing values"
   ]
  },
  {
   "cell_type": "code",
   "execution_count": 24,
   "metadata": {},
   "outputs": [
    {
     "data": {
      "text/html": [
       "<div>\n",
       "<style scoped>\n",
       "    .dataframe tbody tr th:only-of-type {\n",
       "        vertical-align: middle;\n",
       "    }\n",
       "\n",
       "    .dataframe tbody tr th {\n",
       "        vertical-align: top;\n",
       "    }\n",
       "\n",
       "    .dataframe thead th {\n",
       "        text-align: right;\n",
       "    }\n",
       "</style>\n",
       "<table border=\"1\" class=\"dataframe\">\n",
       "  <thead>\n",
       "    <tr style=\"text-align: right;\">\n",
       "      <th></th>\n",
       "      <th>index</th>\n",
       "      <th>0</th>\n",
       "    </tr>\n",
       "  </thead>\n",
       "  <tbody>\n",
       "    <tr>\n",
       "      <th>0</th>\n",
       "      <td>fare_amount</td>\n",
       "      <td>22</td>\n",
       "    </tr>\n",
       "    <tr>\n",
       "      <th>1</th>\n",
       "      <td>pickup_datetime</td>\n",
       "      <td>1</td>\n",
       "    </tr>\n",
       "    <tr>\n",
       "      <th>2</th>\n",
       "      <td>pickup_longitude</td>\n",
       "      <td>0</td>\n",
       "    </tr>\n",
       "    <tr>\n",
       "      <th>3</th>\n",
       "      <td>pickup_latitude</td>\n",
       "      <td>0</td>\n",
       "    </tr>\n",
       "    <tr>\n",
       "      <th>4</th>\n",
       "      <td>dropoff_longitude</td>\n",
       "      <td>0</td>\n",
       "    </tr>\n",
       "    <tr>\n",
       "      <th>5</th>\n",
       "      <td>dropoff_latitude</td>\n",
       "      <td>0</td>\n",
       "    </tr>\n",
       "    <tr>\n",
       "      <th>6</th>\n",
       "      <td>passenger_count</td>\n",
       "      <td>55</td>\n",
       "    </tr>\n",
       "  </tbody>\n",
       "</table>\n",
       "</div>"
      ],
      "text/plain": [
       "               index   0\n",
       "0        fare_amount  22\n",
       "1    pickup_datetime   1\n",
       "2   pickup_longitude   0\n",
       "3    pickup_latitude   0\n",
       "4  dropoff_longitude   0\n",
       "5   dropoff_latitude   0\n",
       "6    passenger_count  55"
      ]
     },
     "execution_count": 24,
     "metadata": {},
     "output_type": "execute_result"
    }
   ],
   "source": [
    "#Checking for missing value\n",
    "missing_value= pd.DataFrame(train.isnull().sum())\n",
    "missing_value = missing_value.reset_index()\n",
    "missing_value"
   ]
  },
  {
   "cell_type": "code",
   "execution_count": 25,
   "metadata": {},
   "outputs": [
    {
     "data": {
      "text/html": [
       "<div>\n",
       "<style scoped>\n",
       "    .dataframe tbody tr th:only-of-type {\n",
       "        vertical-align: middle;\n",
       "    }\n",
       "\n",
       "    .dataframe tbody tr th {\n",
       "        vertical-align: top;\n",
       "    }\n",
       "\n",
       "    .dataframe thead th {\n",
       "        text-align: right;\n",
       "    }\n",
       "</style>\n",
       "<table border=\"1\" class=\"dataframe\">\n",
       "  <thead>\n",
       "    <tr style=\"text-align: right;\">\n",
       "      <th></th>\n",
       "      <th>Variables</th>\n",
       "      <th>Missing_percentage</th>\n",
       "    </tr>\n",
       "  </thead>\n",
       "  <tbody>\n",
       "    <tr>\n",
       "      <th>0</th>\n",
       "      <td>passenger_count</td>\n",
       "      <td>0.351528</td>\n",
       "    </tr>\n",
       "    <tr>\n",
       "      <th>1</th>\n",
       "      <td>fare_amount</td>\n",
       "      <td>0.140611</td>\n",
       "    </tr>\n",
       "    <tr>\n",
       "      <th>2</th>\n",
       "      <td>pickup_datetime</td>\n",
       "      <td>0.006391</td>\n",
       "    </tr>\n",
       "    <tr>\n",
       "      <th>3</th>\n",
       "      <td>pickup_longitude</td>\n",
       "      <td>0.000000</td>\n",
       "    </tr>\n",
       "    <tr>\n",
       "      <th>4</th>\n",
       "      <td>pickup_latitude</td>\n",
       "      <td>0.000000</td>\n",
       "    </tr>\n",
       "    <tr>\n",
       "      <th>5</th>\n",
       "      <td>dropoff_longitude</td>\n",
       "      <td>0.000000</td>\n",
       "    </tr>\n",
       "    <tr>\n",
       "      <th>6</th>\n",
       "      <td>dropoff_latitude</td>\n",
       "      <td>0.000000</td>\n",
       "    </tr>\n",
       "  </tbody>\n",
       "</table>\n",
       "</div>"
      ],
      "text/plain": [
       "           Variables  Missing_percentage\n",
       "0    passenger_count            0.351528\n",
       "1        fare_amount            0.140611\n",
       "2    pickup_datetime            0.006391\n",
       "3   pickup_longitude            0.000000\n",
       "4    pickup_latitude            0.000000\n",
       "5  dropoff_longitude            0.000000\n",
       "6   dropoff_latitude            0.000000"
      ]
     },
     "execution_count": 25,
     "metadata": {},
     "output_type": "execute_result"
    }
   ],
   "source": [
    "#Converting it in Missing %\n",
    "missing_value = missing_value.rename(columns = {'index': 'Variables', 0: 'Missing_percentage'})\n",
    "missing_value['Missing_percentage'] = (missing_value['Missing_percentage']/len(train))*100\n",
    "missing_value = missing_value.sort_values('Missing_percentage', ascending = False).reset_index(drop = True)\n",
    "missing_value"
   ]
  },
  {
   "cell_type": "markdown",
   "metadata": {},
   "source": [
    "we can drop these missing values or we can impute them using missing value imputation methods"
   ]
  },
  {
   "cell_type": "code",
   "execution_count": 26,
   "metadata": {},
   "outputs": [],
   "source": [
    "#dropping missing values\n",
    "train = train.drop(train[train[\"passenger_count\"].isnull()].index,axis = 0)\n",
    "train = train.drop(train[train[\"fare_amount\"].isnull()].index,axis = 0)\n",
    "train = train.drop(train[train[\"pickup_datetime\"].isnull()].index,axis = 0)"
   ]
  },
  {
   "cell_type": "code",
   "execution_count": 27,
   "metadata": {},
   "outputs": [
    {
     "data": {
      "text/plain": [
       "fare_amount          0\n",
       "pickup_datetime      0\n",
       "pickup_longitude     0\n",
       "pickup_latitude      0\n",
       "dropoff_longitude    0\n",
       "dropoff_latitude     0\n",
       "passenger_count      0\n",
       "dtype: int64"
      ]
     },
     "execution_count": 27,
     "metadata": {},
     "output_type": "execute_result"
    }
   ],
   "source": [
    "train.isnull().sum()"
   ]
  },
  {
   "cell_type": "code",
   "execution_count": 28,
   "metadata": {},
   "outputs": [
    {
     "data": {
      "text/plain": [
       "(15568, 7)"
      ]
     },
     "execution_count": 28,
     "metadata": {},
     "output_type": "execute_result"
    }
   ],
   "source": [
    "train.shape"
   ]
  },
  {
   "cell_type": "markdown",
   "metadata": {},
   "source": [
    "\n",
    "#imputing missing values"
   ]
  },
  {
   "cell_type": "markdown",
   "metadata": {},
   "source": [
    "we can use different methods for missing value imputations- central tendency method and KNN Imputation method\n",
    "#So before using KNN Imputation for missing lets drop the pickup_datetime variable,we merge it again."
   ]
  },
  {
   "cell_type": "code",
   "execution_count": 39,
   "metadata": {},
   "outputs": [],
   "source": [
    "#pickup_datetime=pd.DataFrame(train[\"pickup_datetime\"])"
   ]
  },
  {
   "cell_type": "code",
   "execution_count": 40,
   "metadata": {},
   "outputs": [],
   "source": [
    "#pickup_datetime=pickup_datetime.reset_index(drop=True)"
   ]
  },
  {
   "cell_type": "markdown",
   "metadata": {},
   "source": [
    "1) passenger_count"
   ]
  },
  {
   "cell_type": "code",
   "execution_count": 85,
   "metadata": {},
   "outputs": [],
   "source": [
    "#   We first create a missing value than impute it using different methods we select the method for which the impute \n",
    "#   value is closest to actual value.\n",
    "#   Passenger count have only integer values so it is a categorical type data, we can impute missing values by mode \n",
    "#   or by KNN imputation method.\n",
    "#   Actual value: 1.0\n",
    "#   Value when we use mode: 1.0 \n",
    "#   value on using KNN: 1.0"
   ]
  },
  {
   "cell_type": "code",
   "execution_count": 41,
   "metadata": {
    "scrolled": true
   },
   "outputs": [
    {
     "data": {
      "text/plain": [
       "1.0"
      ]
     },
     "execution_count": 41,
     "metadata": {},
     "output_type": "execute_result"
    }
   ],
   "source": [
    "#Lets first check the value at some random position\n",
    "#train[\"passenger_count\"].loc[1000]"
   ]
  },
  {
   "cell_type": "code",
   "execution_count": 43,
   "metadata": {
    "scrolled": true
   },
   "outputs": [
    {
     "name": "stderr",
     "output_type": "stream",
     "text": [
      "C:\\Users\\hp\\Anaconda3\\lib\\site-packages\\pandas\\core\\indexing.py:205: SettingWithCopyWarning: \n",
      "A value is trying to be set on a copy of a slice from a DataFrame\n",
      "\n",
      "See the caveats in the documentation: http://pandas.pydata.org/pandas-docs/stable/user_guide/indexing.html#returning-a-view-versus-a-copy\n",
      "  self._setitem_with_indexer(indexer, value)\n"
     ]
    },
    {
     "data": {
      "text/plain": [
       "1.0"
      ]
     },
     "execution_count": 43,
     "metadata": {},
     "output_type": "execute_result"
    }
   ],
   "source": [
    "#imputation using mode\n",
    "#df=train.copy()\n",
    "#df[\"passenger_count\"].loc[1000]=np.nan\n",
    "#df['passenger_count'].fillna(df['passenger_count'].mode()[0]).loc[1000]"
   ]
  },
  {
   "cell_type": "code",
   "execution_count": 44,
   "metadata": {},
   "outputs": [
    {
     "name": "stdout",
     "output_type": "stream",
     "text": [
      "Imputing row 1/16067 with 0 missing, elapsed time: 135.881\n",
      "Imputing row 101/16067 with 0 missing, elapsed time: 139.714\n",
      "Imputing row 201/16067 with 0 missing, elapsed time: 139.801\n",
      "Imputing row 301/16067 with 0 missing, elapsed time: 139.906\n",
      "Imputing row 401/16067 with 0 missing, elapsed time: 139.913\n",
      "Imputing row 501/16067 with 1 missing, elapsed time: 139.989\n",
      "Imputing row 601/16067 with 0 missing, elapsed time: 140.007\n",
      "Imputing row 701/16067 with 0 missing, elapsed time: 140.023\n",
      "Imputing row 801/16067 with 0 missing, elapsed time: 140.030\n",
      "Imputing row 901/16067 with 0 missing, elapsed time: 140.038\n",
      "Imputing row 1001/16067 with 0 missing, elapsed time: 140.109\n",
      "Imputing row 1101/16067 with 0 missing, elapsed time: 140.187\n",
      "Imputing row 1201/16067 with 1 missing, elapsed time: 140.246\n",
      "Imputing row 1301/16067 with 0 missing, elapsed time: 140.259\n",
      "Imputing row 1401/16067 with 1 missing, elapsed time: 140.264\n",
      "Imputing row 1501/16067 with 0 missing, elapsed time: 140.268\n",
      "Imputing row 1601/16067 with 0 missing, elapsed time: 140.272\n",
      "Imputing row 1701/16067 with 0 missing, elapsed time: 140.276\n",
      "Imputing row 1801/16067 with 0 missing, elapsed time: 140.283\n",
      "Imputing row 1901/16067 with 0 missing, elapsed time: 140.288\n",
      "Imputing row 2001/16067 with 0 missing, elapsed time: 140.292\n",
      "Imputing row 2101/16067 with 0 missing, elapsed time: 140.294\n",
      "Imputing row 2201/16067 with 1 missing, elapsed time: 140.297\n",
      "Imputing row 2301/16067 with 0 missing, elapsed time: 140.302\n",
      "Imputing row 2401/16067 with 0 missing, elapsed time: 140.304\n",
      "Imputing row 2501/16067 with 0 missing, elapsed time: 140.309\n",
      "Imputing row 2601/16067 with 0 missing, elapsed time: 140.311\n",
      "Imputing row 2701/16067 with 0 missing, elapsed time: 140.312\n",
      "Imputing row 2801/16067 with 0 missing, elapsed time: 140.315\n",
      "Imputing row 2901/16067 with 0 missing, elapsed time: 140.318\n",
      "Imputing row 3001/16067 with 0 missing, elapsed time: 140.320\n",
      "Imputing row 3101/16067 with 0 missing, elapsed time: 140.323\n",
      "Imputing row 3201/16067 with 0 missing, elapsed time: 140.327\n",
      "Imputing row 3301/16067 with 0 missing, elapsed time: 140.327\n",
      "Imputing row 3401/16067 with 0 missing, elapsed time: 140.332\n",
      "Imputing row 3501/16067 with 0 missing, elapsed time: 140.336\n",
      "Imputing row 3601/16067 with 0 missing, elapsed time: 140.339\n",
      "Imputing row 3701/16067 with 0 missing, elapsed time: 140.339\n",
      "Imputing row 3801/16067 with 0 missing, elapsed time: 140.342\n",
      "Imputing row 3901/16067 with 0 missing, elapsed time: 140.350\n",
      "Imputing row 4001/16067 with 0 missing, elapsed time: 140.353\n",
      "Imputing row 4101/16067 with 0 missing, elapsed time: 140.355\n",
      "Imputing row 4201/16067 with 0 missing, elapsed time: 140.357\n",
      "Imputing row 4301/16067 with 0 missing, elapsed time: 140.380\n",
      "Imputing row 4401/16067 with 0 missing, elapsed time: 140.382\n",
      "Imputing row 4501/16067 with 0 missing, elapsed time: 140.386\n",
      "Imputing row 4601/16067 with 4 missing, elapsed time: 140.390\n",
      "Imputing row 4701/16067 with 0 missing, elapsed time: 140.394\n",
      "Imputing row 4801/16067 with 0 missing, elapsed time: 140.398\n",
      "Imputing row 4901/16067 with 0 missing, elapsed time: 140.402\n",
      "Imputing row 5001/16067 with 0 missing, elapsed time: 140.402\n",
      "Imputing row 5101/16067 with 0 missing, elapsed time: 140.404\n",
      "Imputing row 5201/16067 with 0 missing, elapsed time: 140.406\n",
      "Imputing row 5301/16067 with 0 missing, elapsed time: 140.409\n",
      "Imputing row 5401/16067 with 0 missing, elapsed time: 140.410\n",
      "Imputing row 5501/16067 with 0 missing, elapsed time: 140.412\n",
      "Imputing row 5601/16067 with 0 missing, elapsed time: 140.415\n",
      "Imputing row 5701/16067 with 0 missing, elapsed time: 140.421\n",
      "Imputing row 5801/16067 with 0 missing, elapsed time: 140.424\n",
      "Imputing row 5901/16067 with 0 missing, elapsed time: 140.426\n",
      "Imputing row 6001/16067 with 0 missing, elapsed time: 140.428\n",
      "Imputing row 6101/16067 with 0 missing, elapsed time: 140.501\n",
      "Imputing row 6201/16067 with 0 missing, elapsed time: 140.507\n",
      "Imputing row 6301/16067 with 0 missing, elapsed time: 140.513\n",
      "Imputing row 6401/16067 with 0 missing, elapsed time: 140.518\n",
      "Imputing row 6501/16067 with 0 missing, elapsed time: 140.519\n",
      "Imputing row 6601/16067 with 0 missing, elapsed time: 140.522\n",
      "Imputing row 6701/16067 with 0 missing, elapsed time: 140.526\n",
      "Imputing row 6801/16067 with 0 missing, elapsed time: 140.531\n",
      "Imputing row 6901/16067 with 0 missing, elapsed time: 140.534\n",
      "Imputing row 7001/16067 with 0 missing, elapsed time: 140.536\n",
      "Imputing row 7101/16067 with 0 missing, elapsed time: 140.539\n",
      "Imputing row 7201/16067 with 0 missing, elapsed time: 140.540\n",
      "Imputing row 7301/16067 with 0 missing, elapsed time: 140.543\n",
      "Imputing row 7401/16067 with 0 missing, elapsed time: 140.545\n",
      "Imputing row 7501/16067 with 0 missing, elapsed time: 140.547\n",
      "Imputing row 7601/16067 with 0 missing, elapsed time: 140.550\n",
      "Imputing row 7701/16067 with 0 missing, elapsed time: 140.893\n",
      "Imputing row 7801/16067 with 0 missing, elapsed time: 140.898\n",
      "Imputing row 7901/16067 with 0 missing, elapsed time: 140.906\n",
      "Imputing row 8001/16067 with 0 missing, elapsed time: 140.910\n",
      "Imputing row 8101/16067 with 0 missing, elapsed time: 140.914\n",
      "Imputing row 8201/16067 with 0 missing, elapsed time: 140.919\n",
      "Imputing row 8301/16067 with 0 missing, elapsed time: 140.924\n",
      "Imputing row 8401/16067 with 0 missing, elapsed time: 140.927\n",
      "Imputing row 8501/16067 with 0 missing, elapsed time: 140.931\n",
      "Imputing row 8601/16067 with 0 missing, elapsed time: 140.933\n",
      "Imputing row 8701/16067 with 0 missing, elapsed time: 140.936\n",
      "Imputing row 8801/16067 with 0 missing, elapsed time: 140.939\n",
      "Imputing row 8901/16067 with 0 missing, elapsed time: 140.941\n",
      "Imputing row 9001/16067 with 0 missing, elapsed time: 140.943\n",
      "Imputing row 9101/16067 with 0 missing, elapsed time: 140.944\n",
      "Imputing row 9201/16067 with 0 missing, elapsed time: 140.945\n",
      "Imputing row 9301/16067 with 0 missing, elapsed time: 140.947\n",
      "Imputing row 9401/16067 with 0 missing, elapsed time: 140.949\n",
      "Imputing row 9501/16067 with 0 missing, elapsed time: 140.949\n",
      "Imputing row 9601/16067 with 4 missing, elapsed time: 140.951\n",
      "Imputing row 9701/16067 with 0 missing, elapsed time: 140.953\n",
      "Imputing row 9801/16067 with 0 missing, elapsed time: 140.955\n",
      "Imputing row 9901/16067 with 0 missing, elapsed time: 140.957\n",
      "Imputing row 10001/16067 with 0 missing, elapsed time: 140.959\n",
      "Imputing row 10101/16067 with 0 missing, elapsed time: 140.960\n",
      "Imputing row 10201/16067 with 0 missing, elapsed time: 140.962\n",
      "Imputing row 10301/16067 with 0 missing, elapsed time: 140.964\n",
      "Imputing row 10401/16067 with 0 missing, elapsed time: 140.966\n",
      "Imputing row 10501/16067 with 0 missing, elapsed time: 140.970\n",
      "Imputing row 10601/16067 with 0 missing, elapsed time: 140.973\n",
      "Imputing row 10701/16067 with 0 missing, elapsed time: 141.090\n",
      "Imputing row 10801/16067 with 0 missing, elapsed time: 141.128\n",
      "Imputing row 10901/16067 with 0 missing, elapsed time: 141.129\n",
      "Imputing row 11001/16067 with 0 missing, elapsed time: 141.137\n",
      "Imputing row 11101/16067 with 0 missing, elapsed time: 141.142\n",
      "Imputing row 11201/16067 with 0 missing, elapsed time: 141.147\n",
      "Imputing row 11301/16067 with 0 missing, elapsed time: 141.153\n",
      "Imputing row 11401/16067 with 0 missing, elapsed time: 141.157\n",
      "Imputing row 11501/16067 with 0 missing, elapsed time: 141.165\n",
      "Imputing row 11601/16067 with 0 missing, elapsed time: 141.170\n",
      "Imputing row 11701/16067 with 0 missing, elapsed time: 141.177\n",
      "Imputing row 11801/16067 with 0 missing, elapsed time: 141.181\n",
      "Imputing row 11901/16067 with 0 missing, elapsed time: 141.187\n",
      "Imputing row 12001/16067 with 0 missing, elapsed time: 141.190\n",
      "Imputing row 12101/16067 with 0 missing, elapsed time: 141.193\n",
      "Imputing row 12201/16067 with 0 missing, elapsed time: 141.196\n",
      "Imputing row 12301/16067 with 4 missing, elapsed time: 141.202\n",
      "Imputing row 12401/16067 with 0 missing, elapsed time: 141.205\n",
      "Imputing row 12501/16067 with 0 missing, elapsed time: 141.211\n",
      "Imputing row 12601/16067 with 0 missing, elapsed time: 141.216\n",
      "Imputing row 12701/16067 with 0 missing, elapsed time: 141.221\n",
      "Imputing row 12801/16067 with 0 missing, elapsed time: 141.228\n",
      "Imputing row 12901/16067 with 0 missing, elapsed time: 141.232\n",
      "Imputing row 13001/16067 with 0 missing, elapsed time: 141.240\n",
      "Imputing row 13101/16067 with 0 missing, elapsed time: 141.249\n",
      "Imputing row 13201/16067 with 0 missing, elapsed time: 141.255\n",
      "Imputing row 13301/16067 with 0 missing, elapsed time: 141.259\n",
      "Imputing row 13401/16067 with 0 missing, elapsed time: 141.262\n",
      "Imputing row 13501/16067 with 0 missing, elapsed time: 141.263\n",
      "Imputing row 13601/16067 with 0 missing, elapsed time: 141.265\n",
      "Imputing row 13701/16067 with 0 missing, elapsed time: 141.267\n",
      "Imputing row 13801/16067 with 0 missing, elapsed time: 141.268\n",
      "Imputing row 13901/16067 with 0 missing, elapsed time: 141.271\n",
      "Imputing row 14001/16067 with 0 missing, elapsed time: 141.276\n",
      "Imputing row 14101/16067 with 0 missing, elapsed time: 141.279\n",
      "Imputing row 14201/16067 with 0 missing, elapsed time: 141.281\n",
      "Imputing row 14301/16067 with 0 missing, elapsed time: 141.285\n",
      "Imputing row 14401/16067 with 0 missing, elapsed time: 141.287\n",
      "Imputing row 14501/16067 with 0 missing, elapsed time: 141.287\n",
      "Imputing row 14601/16067 with 0 missing, elapsed time: 141.288\n",
      "Imputing row 14701/16067 with 0 missing, elapsed time: 141.288\n",
      "Imputing row 14801/16067 with 0 missing, elapsed time: 141.290\n",
      "Imputing row 14901/16067 with 0 missing, elapsed time: 141.293\n",
      "Imputing row 15001/16067 with 0 missing, elapsed time: 141.294\n",
      "Imputing row 15101/16067 with 0 missing, elapsed time: 141.298\n",
      "Imputing row 15201/16067 with 0 missing, elapsed time: 141.299\n",
      "Imputing row 15301/16067 with 0 missing, elapsed time: 141.303\n",
      "Imputing row 15401/16067 with 0 missing, elapsed time: 141.305\n",
      "Imputing row 15501/16067 with 0 missing, elapsed time: 141.308\n",
      "Imputing row 15601/16067 with 0 missing, elapsed time: 141.310\n",
      "Imputing row 15701/16067 with 0 missing, elapsed time: 141.312\n",
      "Imputing row 15801/16067 with 0 missing, elapsed time: 141.316\n",
      "Imputing row 15901/16067 with 0 missing, elapsed time: 141.316\n"
     ]
    },
    {
     "name": "stdout",
     "output_type": "stream",
     "text": [
      "Imputing row 16001/16067 with 0 missing, elapsed time: 141.368\n"
     ]
    },
    {
     "data": {
      "text/plain": [
       "fare_amount           6.000000\n",
       "pickup_longitude    -74.000405\n",
       "pickup_latitude      40.718570\n",
       "dropoff_longitude   -74.000040\n",
       "dropoff_latitude     40.726592\n",
       "passenger_count       1.200000\n",
       "Name: 500, dtype: float64"
      ]
     },
     "execution_count": 44,
     "metadata": {},
     "output_type": "execute_result"
    }
   ],
   "source": [
    "#Now impute passenger_count using KNN Imputation method\n",
    "#df=train.copy()\n",
    "#df[\"passenger_count\"].loc[1000]=np.nan\n",
    "#columns=[\"fare_amount\",\"pickup_longitude\",\"pickup_latitude\",\"dropoff_longitude\", \"dropoff_latitude\", \"passenger_count\"]\n",
    "#df=pd.DataFrame(KNN(k = 5).fit_transform(df.drop('pickup_datetime',axis=1)),columns=columns)\n",
    "#df.loc[1000]"
   ]
  },
  {
   "cell_type": "markdown",
   "metadata": {},
   "source": [
    "2) fare_amount"
   ]
  },
  {
   "cell_type": "code",
   "execution_count": 35,
   "metadata": {},
   "outputs": [],
   "source": [
    "#We first create a missing value than impute it using mean, median and KNN method to find out the best fit method.\n",
    "  #Actual value = 7.0\n",
    "  #Value when we impute using mean = 11.31\n",
    "  #Value when we impute using median = 8.5\n",
    "  #Value when we impute using KNN = 7.46"
   ]
  },
  {
   "cell_type": "code",
   "execution_count": 50,
   "metadata": {},
   "outputs": [
    {
     "data": {
      "text/plain": [
       "7.0"
      ]
     },
     "execution_count": 50,
     "metadata": {},
     "output_type": "execute_result"
    }
   ],
   "source": [
    "#train[\"fare_amount\"].loc[1000]"
   ]
  },
  {
   "cell_type": "code",
   "execution_count": 51,
   "metadata": {},
   "outputs": [
    {
     "name": "stderr",
     "output_type": "stream",
     "text": [
      "C:\\Users\\hp\\Anaconda3\\lib\\site-packages\\pandas\\core\\indexing.py:205: SettingWithCopyWarning: \n",
      "A value is trying to be set on a copy of a slice from a DataFrame\n",
      "\n",
      "See the caveats in the documentation: http://pandas.pydata.org/pandas-docs/stable/user_guide/indexing.html#returning-a-view-versus-a-copy\n",
      "  self._setitem_with_indexer(indexer, value)\n"
     ]
    },
    {
     "data": {
      "text/plain": [
       "11.30857597305387"
      ]
     },
     "execution_count": 51,
     "metadata": {},
     "output_type": "execute_result"
    }
   ],
   "source": [
    "#imputation using mean\n",
    "#df=train.copy()\n",
    "#df[\"fare_amount\"].loc[1000]=np.nan\n",
    "#df['fare_amount'].fillna(df['fare_amount'].mean()).loc[1000]"
   ]
  },
  {
   "cell_type": "code",
   "execution_count": 52,
   "metadata": {},
   "outputs": [
    {
     "data": {
      "text/plain": [
       "8.5"
      ]
     },
     "execution_count": 52,
     "metadata": {},
     "output_type": "execute_result"
    }
   ],
   "source": [
    "#imputation using median\n",
    "#df=train.copy()\n",
    "#df[\"fare_amount\"].loc[1000]=np.nan\n",
    "#df['fare_amount'].fillna(df['fare_amount'].median()).loc[1000]"
   ]
  },
  {
   "cell_type": "code",
   "execution_count": 49,
   "metadata": {},
   "outputs": [
    {
     "name": "stderr",
     "output_type": "stream",
     "text": [
      "C:\\Users\\hp\\Anaconda3\\lib\\site-packages\\pandas\\core\\indexing.py:205: SettingWithCopyWarning: \n",
      "A value is trying to be set on a copy of a slice from a DataFrame\n",
      "\n",
      "See the caveats in the documentation: http://pandas.pydata.org/pandas-docs/stable/user_guide/indexing.html#returning-a-view-versus-a-copy\n",
      "  self._setitem_with_indexer(indexer, value)\n"
     ]
    },
    {
     "name": "stdout",
     "output_type": "stream",
     "text": [
      "Imputing row 1/16067 with 0 missing, elapsed time: 70.041\n",
      "Imputing row 101/16067 with 0 missing, elapsed time: 70.182\n",
      "Imputing row 201/16067 with 0 missing, elapsed time: 70.345\n",
      "Imputing row 301/16067 with 0 missing, elapsed time: 70.531\n",
      "Imputing row 401/16067 with 0 missing, elapsed time: 70.533\n",
      "Imputing row 501/16067 with 0 missing, elapsed time: 70.536\n",
      "Imputing row 601/16067 with 0 missing, elapsed time: 70.660\n",
      "Imputing row 701/16067 with 0 missing, elapsed time: 70.662\n",
      "Imputing row 801/16067 with 0 missing, elapsed time: 70.665\n",
      "Imputing row 901/16067 with 0 missing, elapsed time: 70.667\n",
      "Imputing row 1001/16067 with 1 missing, elapsed time: 70.670\n",
      "Imputing row 1101/16067 with 0 missing, elapsed time: 70.671\n",
      "Imputing row 1201/16067 with 1 missing, elapsed time: 70.672\n",
      "Imputing row 1301/16067 with 0 missing, elapsed time: 70.673\n",
      "Imputing row 1401/16067 with 1 missing, elapsed time: 70.676\n",
      "Imputing row 1501/16067 with 0 missing, elapsed time: 70.677\n",
      "Imputing row 1601/16067 with 0 missing, elapsed time: 70.679\n",
      "Imputing row 1701/16067 with 0 missing, elapsed time: 70.681\n",
      "Imputing row 1801/16067 with 0 missing, elapsed time: 70.684\n",
      "Imputing row 1901/16067 with 0 missing, elapsed time: 70.686\n",
      "Imputing row 2001/16067 with 0 missing, elapsed time: 70.687\n",
      "Imputing row 2101/16067 with 0 missing, elapsed time: 70.689\n",
      "Imputing row 2201/16067 with 1 missing, elapsed time: 70.692\n",
      "Imputing row 2301/16067 with 0 missing, elapsed time: 70.694\n",
      "Imputing row 2401/16067 with 0 missing, elapsed time: 70.695\n",
      "Imputing row 2501/16067 with 0 missing, elapsed time: 70.698\n",
      "Imputing row 2601/16067 with 0 missing, elapsed time: 70.700\n",
      "Imputing row 2701/16067 with 0 missing, elapsed time: 70.700\n",
      "Imputing row 2801/16067 with 0 missing, elapsed time: 70.703\n",
      "Imputing row 2901/16067 with 0 missing, elapsed time: 70.704\n",
      "Imputing row 3001/16067 with 0 missing, elapsed time: 70.706\n",
      "Imputing row 3101/16067 with 0 missing, elapsed time: 70.708\n",
      "Imputing row 3201/16067 with 0 missing, elapsed time: 70.713\n",
      "Imputing row 3301/16067 with 0 missing, elapsed time: 70.714\n",
      "Imputing row 3401/16067 with 0 missing, elapsed time: 70.717\n",
      "Imputing row 3501/16067 with 0 missing, elapsed time: 70.720\n",
      "Imputing row 3601/16067 with 0 missing, elapsed time: 70.722\n",
      "Imputing row 3701/16067 with 0 missing, elapsed time: 70.723\n",
      "Imputing row 3801/16067 with 0 missing, elapsed time: 70.727\n",
      "Imputing row 3901/16067 with 0 missing, elapsed time: 70.733\n",
      "Imputing row 4001/16067 with 0 missing, elapsed time: 70.735\n",
      "Imputing row 4101/16067 with 0 missing, elapsed time: 70.737\n",
      "Imputing row 4201/16067 with 0 missing, elapsed time: 70.739\n",
      "Imputing row 4301/16067 with 0 missing, elapsed time: 70.741\n",
      "Imputing row 4401/16067 with 0 missing, elapsed time: 70.744\n",
      "Imputing row 4501/16067 with 0 missing, elapsed time: 70.748\n",
      "Imputing row 4601/16067 with 4 missing, elapsed time: 70.751\n",
      "Imputing row 4701/16067 with 0 missing, elapsed time: 70.754\n",
      "Imputing row 4801/16067 with 0 missing, elapsed time: 70.757\n",
      "Imputing row 4901/16067 with 0 missing, elapsed time: 70.760\n",
      "Imputing row 5001/16067 with 0 missing, elapsed time: 70.762\n",
      "Imputing row 5101/16067 with 0 missing, elapsed time: 70.763\n",
      "Imputing row 5201/16067 with 0 missing, elapsed time: 70.766\n",
      "Imputing row 5301/16067 with 0 missing, elapsed time: 70.768\n",
      "Imputing row 5401/16067 with 0 missing, elapsed time: 70.769\n",
      "Imputing row 5501/16067 with 0 missing, elapsed time: 70.772\n",
      "Imputing row 5601/16067 with 0 missing, elapsed time: 70.776\n",
      "Imputing row 5701/16067 with 0 missing, elapsed time: 70.779\n",
      "Imputing row 5801/16067 with 0 missing, elapsed time: 70.782\n",
      "Imputing row 5901/16067 with 0 missing, elapsed time: 70.783\n",
      "Imputing row 6001/16067 with 0 missing, elapsed time: 70.785\n",
      "Imputing row 6101/16067 with 0 missing, elapsed time: 70.788\n",
      "Imputing row 6201/16067 with 0 missing, elapsed time: 70.790\n",
      "Imputing row 6301/16067 with 0 missing, elapsed time: 70.791\n",
      "Imputing row 6401/16067 with 0 missing, elapsed time: 70.793\n",
      "Imputing row 6501/16067 with 0 missing, elapsed time: 70.794\n",
      "Imputing row 6601/16067 with 0 missing, elapsed time: 70.796\n",
      "Imputing row 6701/16067 with 0 missing, elapsed time: 70.798\n",
      "Imputing row 6801/16067 with 0 missing, elapsed time: 70.801\n",
      "Imputing row 6901/16067 with 0 missing, elapsed time: 70.803\n",
      "Imputing row 7001/16067 with 0 missing, elapsed time: 70.814\n",
      "Imputing row 7101/16067 with 0 missing, elapsed time: 70.817\n",
      "Imputing row 7201/16067 with 0 missing, elapsed time: 70.818\n",
      "Imputing row 7301/16067 with 0 missing, elapsed time: 70.820\n",
      "Imputing row 7401/16067 with 0 missing, elapsed time: 70.822\n",
      "Imputing row 7501/16067 with 0 missing, elapsed time: 70.824\n",
      "Imputing row 7601/16067 with 0 missing, elapsed time: 70.827\n",
      "Imputing row 7701/16067 with 0 missing, elapsed time: 70.830\n",
      "Imputing row 7801/16067 with 0 missing, elapsed time: 70.831\n",
      "Imputing row 7901/16067 with 0 missing, elapsed time: 70.833\n",
      "Imputing row 8001/16067 with 0 missing, elapsed time: 70.834\n",
      "Imputing row 8101/16067 with 0 missing, elapsed time: 70.899\n",
      "Imputing row 8201/16067 with 0 missing, elapsed time: 70.902\n",
      "Imputing row 8301/16067 with 0 missing, elapsed time: 70.905\n",
      "Imputing row 8401/16067 with 0 missing, elapsed time: 70.907\n",
      "Imputing row 8501/16067 with 0 missing, elapsed time: 70.911\n",
      "Imputing row 8601/16067 with 0 missing, elapsed time: 70.913\n",
      "Imputing row 8701/16067 with 0 missing, elapsed time: 70.918\n",
      "Imputing row 8801/16067 with 0 missing, elapsed time: 70.921\n",
      "Imputing row 8901/16067 with 0 missing, elapsed time: 70.923\n",
      "Imputing row 9001/16067 with 0 missing, elapsed time: 70.925\n",
      "Imputing row 9101/16067 with 0 missing, elapsed time: 70.927\n",
      "Imputing row 9201/16067 with 0 missing, elapsed time: 70.929\n",
      "Imputing row 9301/16067 with 0 missing, elapsed time: 70.931\n",
      "Imputing row 9401/16067 with 0 missing, elapsed time: 70.933\n",
      "Imputing row 9501/16067 with 0 missing, elapsed time: 70.934\n",
      "Imputing row 9601/16067 with 4 missing, elapsed time: 70.936\n",
      "Imputing row 9701/16067 with 0 missing, elapsed time: 70.938\n",
      "Imputing row 9801/16067 with 0 missing, elapsed time: 70.942\n",
      "Imputing row 9901/16067 with 0 missing, elapsed time: 70.944\n",
      "Imputing row 10001/16067 with 0 missing, elapsed time: 70.946\n",
      "Imputing row 10101/16067 with 0 missing, elapsed time: 70.949\n",
      "Imputing row 10201/16067 with 0 missing, elapsed time: 70.950\n",
      "Imputing row 10301/16067 with 0 missing, elapsed time: 70.953\n",
      "Imputing row 10401/16067 with 0 missing, elapsed time: 70.955\n",
      "Imputing row 10501/16067 with 0 missing, elapsed time: 70.960\n",
      "Imputing row 10601/16067 with 0 missing, elapsed time: 70.962\n",
      "Imputing row 10701/16067 with 0 missing, elapsed time: 70.964\n",
      "Imputing row 10801/16067 with 0 missing, elapsed time: 70.966\n",
      "Imputing row 10901/16067 with 0 missing, elapsed time: 70.966\n",
      "Imputing row 11001/16067 with 0 missing, elapsed time: 70.969\n",
      "Imputing row 11101/16067 with 0 missing, elapsed time: 70.970\n",
      "Imputing row 11201/16067 with 0 missing, elapsed time: 70.972\n",
      "Imputing row 11301/16067 with 0 missing, elapsed time: 70.974\n",
      "Imputing row 11401/16067 with 0 missing, elapsed time: 70.976\n",
      "Imputing row 11501/16067 with 0 missing, elapsed time: 70.979\n",
      "Imputing row 11601/16067 with 0 missing, elapsed time: 70.981\n",
      "Imputing row 11701/16067 with 0 missing, elapsed time: 70.984\n",
      "Imputing row 11801/16067 with 0 missing, elapsed time: 70.985\n",
      "Imputing row 11901/16067 with 0 missing, elapsed time: 70.987\n",
      "Imputing row 12001/16067 with 0 missing, elapsed time: 70.988\n",
      "Imputing row 12101/16067 with 0 missing, elapsed time: 70.990\n",
      "Imputing row 12201/16067 with 0 missing, elapsed time: 70.992\n",
      "Imputing row 12301/16067 with 4 missing, elapsed time: 70.994\n",
      "Imputing row 12401/16067 with 0 missing, elapsed time: 70.996\n",
      "Imputing row 12501/16067 with 0 missing, elapsed time: 70.998\n",
      "Imputing row 12601/16067 with 0 missing, elapsed time: 71.000\n",
      "Imputing row 12701/16067 with 0 missing, elapsed time: 71.002\n",
      "Imputing row 12801/16067 with 0 missing, elapsed time: 71.004\n",
      "Imputing row 12901/16067 with 0 missing, elapsed time: 71.006\n",
      "Imputing row 13001/16067 with 0 missing, elapsed time: 71.008\n",
      "Imputing row 13101/16067 with 0 missing, elapsed time: 71.013\n",
      "Imputing row 13201/16067 with 0 missing, elapsed time: 71.015\n",
      "Imputing row 13301/16067 with 0 missing, elapsed time: 71.018\n",
      "Imputing row 13401/16067 with 0 missing, elapsed time: 71.020\n",
      "Imputing row 13501/16067 with 0 missing, elapsed time: 71.022\n",
      "Imputing row 13601/16067 with 0 missing, elapsed time: 71.023\n",
      "Imputing row 13701/16067 with 0 missing, elapsed time: 71.025\n",
      "Imputing row 13801/16067 with 0 missing, elapsed time: 71.027\n",
      "Imputing row 13901/16067 with 0 missing, elapsed time: 71.028\n",
      "Imputing row 14001/16067 with 0 missing, elapsed time: 71.030\n",
      "Imputing row 14101/16067 with 0 missing, elapsed time: 71.031\n",
      "Imputing row 14201/16067 with 0 missing, elapsed time: 71.034\n",
      "Imputing row 14301/16067 with 0 missing, elapsed time: 71.036\n",
      "Imputing row 14401/16067 with 0 missing, elapsed time: 71.038\n",
      "Imputing row 14501/16067 with 0 missing, elapsed time: 71.039\n",
      "Imputing row 14601/16067 with 0 missing, elapsed time: 71.040\n",
      "Imputing row 14701/16067 with 0 missing, elapsed time: 71.041\n",
      "Imputing row 14801/16067 with 0 missing, elapsed time: 71.042\n",
      "Imputing row 14901/16067 with 0 missing, elapsed time: 71.044\n",
      "Imputing row 15001/16067 with 0 missing, elapsed time: 71.045\n",
      "Imputing row 15101/16067 with 0 missing, elapsed time: 71.047\n",
      "Imputing row 15201/16067 with 0 missing, elapsed time: 71.048\n",
      "Imputing row 15301/16067 with 0 missing, elapsed time: 71.050\n",
      "Imputing row 15401/16067 with 0 missing, elapsed time: 71.051\n",
      "Imputing row 15501/16067 with 0 missing, elapsed time: 71.054\n",
      "Imputing row 15601/16067 with 0 missing, elapsed time: 71.055\n",
      "Imputing row 15701/16067 with 0 missing, elapsed time: 71.057\n",
      "Imputing row 15801/16067 with 0 missing, elapsed time: 71.058\n",
      "Imputing row 15901/16067 with 0 missing, elapsed time: 71.059\n",
      "Imputing row 16001/16067 with 0 missing, elapsed time: 71.062\n"
     ]
    },
    {
     "data": {
      "text/plain": [
       "fare_amount           7.460000\n",
       "pickup_longitude    -73.995420\n",
       "pickup_latitude      40.759662\n",
       "dropoff_longitude   -73.987607\n",
       "dropoff_latitude     40.751247\n",
       "passenger_count       1.000000\n",
       "Name: 1000, dtype: float64"
      ]
     },
     "execution_count": 49,
     "metadata": {},
     "output_type": "execute_result"
    }
   ],
   "source": [
    "#imputation using KNN\n",
    "#df=train.copy()\n",
    "#df[\"fare_amount\"].loc[1000]=np.nan\n",
    "#columns=['fare_amount', 'pickup_longitude', 'pickup_latitude','dropoff_longitude', 'dropoff_latitude', 'passenger_count']\n",
    "#pickup_datetime=pd.DataFrame(df[\"pickup_datetime\"])\n",
    "#pd.DataFrame(KNN(k = 5).fit_transform(df.drop('pickup_datetime',axis=1)),columns=columns).loc[1000]"
   ]
  },
  {
   "cell_type": "markdown",
   "metadata": {},
   "source": [
    "3) latitude and longitude "
   ]
  },
  {
   "cell_type": "code",
   "execution_count": 65,
   "metadata": {},
   "outputs": [],
   "source": [
    "#We first create a missing value than impute it using mean, median and KNN method to find out the best fit method.\n",
    "#              pickup_longitude      pickup_latitude      dropoff_longitude       dropoff_latitude                 \n",
    "#Actual value     -73.9954              40.7597               -73.9876              40.7512\n",
    "#mean             -73.9748              40.7509               -73.9738              40.7514\n",
    "#median           -73.9820              40.7533               -73.9806              40.7542\n",
    "#KNN              -73.9945              40.7465               -73.9882              40.7451"
   ]
  },
  {
   "cell_type": "code",
   "execution_count": 55,
   "metadata": {
    "collapsed": true
   },
   "outputs": [
    {
     "data": {
      "text/plain": [
       "fare_amount                            7\n",
       "pickup_datetime      2014-06-15 17:11:00\n",
       "pickup_longitude                -73.9954\n",
       "pickup_latitude                  40.7597\n",
       "dropoff_longitude               -73.9876\n",
       "dropoff_latitude                 40.7512\n",
       "passenger_count                        1\n",
       "Name: 1000, dtype: object"
      ]
     },
     "execution_count": 55,
     "metadata": {},
     "output_type": "execute_result"
    }
   ],
   "source": [
    "#train.loc[1000]"
   ]
  },
  {
   "cell_type": "code",
   "execution_count": 56,
   "metadata": {
    "collapsed": true
   },
   "outputs": [
    {
     "data": {
      "text/plain": [
       "fare_amount                            7\n",
       "pickup_datetime      2014-06-15 17:11:00\n",
       "pickup_longitude                -73.9748\n",
       "pickup_latitude                  40.7509\n",
       "dropoff_longitude               -73.9738\n",
       "dropoff_latitude                 40.7514\n",
       "passenger_count                        1\n",
       "Name: 1000, dtype: object"
      ]
     },
     "execution_count": 56,
     "metadata": {},
     "output_type": "execute_result"
    }
   ],
   "source": [
    "#imputation using mean\n",
    "#df=train.copy()\n",
    "#for i in[\"pickup_latitude\",\"pickup_longitude\",\"dropoff_latitude\",\"dropoff_longitude\"]:\n",
    "#    df[i].loc[1000]=np.nan\n",
    "#    df[i]=df[i].fillna(df[i].mean())\n",
    "    \n",
    "#df.loc[1000]"
   ]
  },
  {
   "cell_type": "code",
   "execution_count": 57,
   "metadata": {
    "collapsed": true
   },
   "outputs": [
    {
     "data": {
      "text/plain": [
       "fare_amount                            7\n",
       "pickup_datetime      2014-06-15 17:11:00\n",
       "pickup_longitude                 -73.982\n",
       "pickup_latitude                  40.7533\n",
       "dropoff_longitude               -73.9806\n",
       "dropoff_latitude                 40.7542\n",
       "passenger_count                        1\n",
       "Name: 1000, dtype: object"
      ]
     },
     "execution_count": 57,
     "metadata": {},
     "output_type": "execute_result"
    }
   ],
   "source": [
    "#imputation using median\n",
    "#df=train.copy()\n",
    "#for i in[\"pickup_latitude\",\"pickup_longitude\",\"dropoff_latitude\",\"dropoff_longitude\"]:\n",
    "#    df[i].loc[1000]=np.nan\n",
    "#    df[i]=df[i].fillna(df[i].median())\n",
    "    \n",
    "#df.loc[1000]"
   ]
  },
  {
   "cell_type": "code",
   "execution_count": 62,
   "metadata": {},
   "outputs": [],
   "source": [
    "#imputation using KNN\n",
    "#df=train.copy()"
   ]
  },
  {
   "cell_type": "code",
   "execution_count": 63,
   "metadata": {},
   "outputs": [
    {
     "data": {
      "text/plain": [
       "fare_amount                            7\n",
       "pickup_datetime      2014-06-15 17:11:00\n",
       "pickup_longitude                     NaN\n",
       "pickup_latitude                      NaN\n",
       "dropoff_longitude                    NaN\n",
       "dropoff_latitude                     NaN\n",
       "passenger_count                        1\n",
       "Name: 1000, dtype: object"
      ]
     },
     "execution_count": 63,
     "metadata": {},
     "output_type": "execute_result"
    }
   ],
   "source": [
    "#for i in[\"pickup_latitude\",\"pickup_longitude\",\"dropoff_latitude\",\"dropoff_longitude\"]:\n",
    "#    df[i].loc[1000]=np.nan\n",
    "    \n",
    "#df.loc[1000]"
   ]
  },
  {
   "cell_type": "code",
   "execution_count": 64,
   "metadata": {
    "collapsed": true
   },
   "outputs": [
    {
     "name": "stdout",
     "output_type": "stream",
     "text": [
      "Imputing row 1/16067 with 0 missing, elapsed time: 71.396\n",
      "Imputing row 101/16067 with 0 missing, elapsed time: 71.549\n",
      "Imputing row 201/16067 with 0 missing, elapsed time: 71.560\n",
      "Imputing row 301/16067 with 0 missing, elapsed time: 71.579\n",
      "Imputing row 401/16067 with 0 missing, elapsed time: 71.590\n",
      "Imputing row 501/16067 with 0 missing, elapsed time: 71.607\n",
      "Imputing row 601/16067 with 0 missing, elapsed time: 71.614\n",
      "Imputing row 701/16067 with 0 missing, elapsed time: 72.219\n",
      "Imputing row 801/16067 with 0 missing, elapsed time: 72.227\n",
      "Imputing row 901/16067 with 0 missing, elapsed time: 72.238\n",
      "Imputing row 1001/16067 with 4 missing, elapsed time: 72.246\n",
      "Imputing row 1101/16067 with 0 missing, elapsed time: 72.250\n",
      "Imputing row 1201/16067 with 1 missing, elapsed time: 72.253\n",
      "Imputing row 1301/16067 with 0 missing, elapsed time: 72.255\n",
      "Imputing row 1401/16067 with 1 missing, elapsed time: 72.261\n",
      "Imputing row 1501/16067 with 0 missing, elapsed time: 72.263\n",
      "Imputing row 1601/16067 with 0 missing, elapsed time: 72.269\n",
      "Imputing row 1701/16067 with 0 missing, elapsed time: 72.272\n",
      "Imputing row 1801/16067 with 0 missing, elapsed time: 72.277\n",
      "Imputing row 1901/16067 with 0 missing, elapsed time: 72.280\n",
      "Imputing row 2001/16067 with 0 missing, elapsed time: 72.284\n",
      "Imputing row 2101/16067 with 0 missing, elapsed time: 72.286\n",
      "Imputing row 2201/16067 with 1 missing, elapsed time: 72.290\n",
      "Imputing row 2301/16067 with 0 missing, elapsed time: 72.296\n",
      "Imputing row 2401/16067 with 0 missing, elapsed time: 72.298\n",
      "Imputing row 2501/16067 with 0 missing, elapsed time: 72.304\n",
      "Imputing row 2601/16067 with 0 missing, elapsed time: 72.308\n",
      "Imputing row 2701/16067 with 0 missing, elapsed time: 72.310\n",
      "Imputing row 2801/16067 with 0 missing, elapsed time: 72.315\n",
      "Imputing row 2901/16067 with 0 missing, elapsed time: 72.317\n",
      "Imputing row 3001/16067 with 0 missing, elapsed time: 72.319\n",
      "Imputing row 3101/16067 with 0 missing, elapsed time: 72.321\n",
      "Imputing row 3201/16067 with 0 missing, elapsed time: 72.325\n",
      "Imputing row 3301/16067 with 0 missing, elapsed time: 72.326\n",
      "Imputing row 3401/16067 with 0 missing, elapsed time: 72.329\n",
      "Imputing row 3501/16067 with 0 missing, elapsed time: 72.332\n",
      "Imputing row 3601/16067 with 0 missing, elapsed time: 72.334\n",
      "Imputing row 3701/16067 with 0 missing, elapsed time: 72.335\n",
      "Imputing row 3801/16067 with 0 missing, elapsed time: 72.338\n",
      "Imputing row 3901/16067 with 0 missing, elapsed time: 72.341\n",
      "Imputing row 4001/16067 with 0 missing, elapsed time: 72.345\n",
      "Imputing row 4101/16067 with 0 missing, elapsed time: 72.346\n",
      "Imputing row 4201/16067 with 0 missing, elapsed time: 72.349\n",
      "Imputing row 4301/16067 with 0 missing, elapsed time: 72.351\n",
      "Imputing row 4401/16067 with 0 missing, elapsed time: 72.353\n",
      "Imputing row 4501/16067 with 0 missing, elapsed time: 72.356\n",
      "Imputing row 4601/16067 with 4 missing, elapsed time: 72.359\n",
      "Imputing row 4701/16067 with 0 missing, elapsed time: 72.361\n",
      "Imputing row 4801/16067 with 0 missing, elapsed time: 72.364\n",
      "Imputing row 4901/16067 with 0 missing, elapsed time: 72.368\n",
      "Imputing row 5001/16067 with 0 missing, elapsed time: 72.368\n",
      "Imputing row 5101/16067 with 0 missing, elapsed time: 72.369\n",
      "Imputing row 5201/16067 with 0 missing, elapsed time: 72.373\n",
      "Imputing row 5301/16067 with 0 missing, elapsed time: 72.375\n",
      "Imputing row 5401/16067 with 0 missing, elapsed time: 72.376\n",
      "Imputing row 5501/16067 with 0 missing, elapsed time: 72.380\n",
      "Imputing row 5601/16067 with 0 missing, elapsed time: 72.383\n",
      "Imputing row 5701/16067 with 0 missing, elapsed time: 72.385\n",
      "Imputing row 5801/16067 with 0 missing, elapsed time: 72.388\n",
      "Imputing row 5901/16067 with 0 missing, elapsed time: 72.389\n",
      "Imputing row 6001/16067 with 0 missing, elapsed time: 72.391\n",
      "Imputing row 6101/16067 with 0 missing, elapsed time: 72.398\n",
      "Imputing row 6201/16067 with 0 missing, elapsed time: 72.402\n",
      "Imputing row 6301/16067 with 0 missing, elapsed time: 72.405\n",
      "Imputing row 6401/16067 with 0 missing, elapsed time: 72.408\n",
      "Imputing row 6501/16067 with 0 missing, elapsed time: 72.409\n",
      "Imputing row 6601/16067 with 0 missing, elapsed time: 72.412\n",
      "Imputing row 6701/16067 with 0 missing, elapsed time: 72.415\n",
      "Imputing row 6801/16067 with 0 missing, elapsed time: 72.421\n",
      "Imputing row 6901/16067 with 0 missing, elapsed time: 72.422\n",
      "Imputing row 7001/16067 with 0 missing, elapsed time: 72.424\n",
      "Imputing row 7101/16067 with 0 missing, elapsed time: 72.426\n",
      "Imputing row 7201/16067 with 0 missing, elapsed time: 72.427\n",
      "Imputing row 7301/16067 with 0 missing, elapsed time: 72.430\n",
      "Imputing row 7401/16067 with 0 missing, elapsed time: 72.433\n",
      "Imputing row 7501/16067 with 0 missing, elapsed time: 72.438\n",
      "Imputing row 7601/16067 with 0 missing, elapsed time: 72.441\n",
      "Imputing row 7701/16067 with 0 missing, elapsed time: 72.445\n",
      "Imputing row 7801/16067 with 0 missing, elapsed time: 72.448\n",
      "Imputing row 7901/16067 with 0 missing, elapsed time: 72.450\n",
      "Imputing row 8001/16067 with 0 missing, elapsed time: 72.453\n",
      "Imputing row 8101/16067 with 0 missing, elapsed time: 72.456\n",
      "Imputing row 8201/16067 with 0 missing, elapsed time: 72.459\n",
      "Imputing row 8301/16067 with 0 missing, elapsed time: 72.461\n",
      "Imputing row 8401/16067 with 0 missing, elapsed time: 72.462\n",
      "Imputing row 8501/16067 with 0 missing, elapsed time: 72.644\n",
      "Imputing row 8601/16067 with 0 missing, elapsed time: 72.646\n",
      "Imputing row 8701/16067 with 0 missing, elapsed time: 72.649\n",
      "Imputing row 8801/16067 with 0 missing, elapsed time: 72.652\n",
      "Imputing row 8901/16067 with 0 missing, elapsed time: 72.654\n",
      "Imputing row 9001/16067 with 0 missing, elapsed time: 72.656\n",
      "Imputing row 9101/16067 with 0 missing, elapsed time: 72.658\n",
      "Imputing row 9201/16067 with 0 missing, elapsed time: 72.660\n",
      "Imputing row 9301/16067 with 0 missing, elapsed time: 72.663\n",
      "Imputing row 9401/16067 with 0 missing, elapsed time: 72.665\n",
      "Imputing row 9501/16067 with 0 missing, elapsed time: 72.665\n",
      "Imputing row 9601/16067 with 4 missing, elapsed time: 72.667\n",
      "Imputing row 9701/16067 with 0 missing, elapsed time: 72.670\n",
      "Imputing row 9801/16067 with 0 missing, elapsed time: 72.673\n",
      "Imputing row 9901/16067 with 0 missing, elapsed time: 72.675\n",
      "Imputing row 10001/16067 with 0 missing, elapsed time: 72.677\n",
      "Imputing row 10101/16067 with 0 missing, elapsed time: 72.679\n",
      "Imputing row 10201/16067 with 0 missing, elapsed time: 72.681\n",
      "Imputing row 10301/16067 with 0 missing, elapsed time: 72.684\n",
      "Imputing row 10401/16067 with 0 missing, elapsed time: 72.685\n",
      "Imputing row 10501/16067 with 0 missing, elapsed time: 72.689\n",
      "Imputing row 10601/16067 with 0 missing, elapsed time: 72.690\n",
      "Imputing row 10701/16067 with 0 missing, elapsed time: 72.692\n",
      "Imputing row 10801/16067 with 0 missing, elapsed time: 72.694\n",
      "Imputing row 10901/16067 with 0 missing, elapsed time: 72.694\n",
      "Imputing row 11001/16067 with 0 missing, elapsed time: 72.696\n",
      "Imputing row 11101/16067 with 0 missing, elapsed time: 72.697\n",
      "Imputing row 11201/16067 with 0 missing, elapsed time: 72.699\n",
      "Imputing row 11301/16067 with 0 missing, elapsed time: 72.700\n",
      "Imputing row 11401/16067 with 0 missing, elapsed time: 72.702\n",
      "Imputing row 11501/16067 with 0 missing, elapsed time: 72.704\n",
      "Imputing row 11601/16067 with 0 missing, elapsed time: 72.706\n",
      "Imputing row 11701/16067 with 0 missing, elapsed time: 72.709\n",
      "Imputing row 11801/16067 with 0 missing, elapsed time: 72.709\n",
      "Imputing row 11901/16067 with 0 missing, elapsed time: 72.711\n",
      "Imputing row 12001/16067 with 0 missing, elapsed time: 72.713\n",
      "Imputing row 12101/16067 with 0 missing, elapsed time: 72.713\n",
      "Imputing row 12201/16067 with 0 missing, elapsed time: 72.715\n",
      "Imputing row 12301/16067 with 4 missing, elapsed time: 72.717\n",
      "Imputing row 12401/16067 with 0 missing, elapsed time: 72.719\n",
      "Imputing row 12501/16067 with 0 missing, elapsed time: 72.721\n",
      "Imputing row 12601/16067 with 0 missing, elapsed time: 72.722\n",
      "Imputing row 12701/16067 with 0 missing, elapsed time: 72.723\n",
      "Imputing row 12801/16067 with 0 missing, elapsed time: 72.725\n",
      "Imputing row 12901/16067 with 0 missing, elapsed time: 72.727\n",
      "Imputing row 13001/16067 with 0 missing, elapsed time: 72.729\n",
      "Imputing row 13101/16067 with 0 missing, elapsed time: 72.733\n",
      "Imputing row 13201/16067 with 0 missing, elapsed time: 72.735\n",
      "Imputing row 13301/16067 with 0 missing, elapsed time: 72.739\n",
      "Imputing row 13401/16067 with 0 missing, elapsed time: 72.743\n",
      "Imputing row 13501/16067 with 0 missing, elapsed time: 72.746\n",
      "Imputing row 13601/16067 with 0 missing, elapsed time: 72.750\n",
      "Imputing row 13701/16067 with 0 missing, elapsed time: 72.752\n",
      "Imputing row 13801/16067 with 0 missing, elapsed time: 72.756\n",
      "Imputing row 13901/16067 with 0 missing, elapsed time: 72.759\n",
      "Imputing row 14001/16067 with 0 missing, elapsed time: 72.764\n",
      "Imputing row 14101/16067 with 0 missing, elapsed time: 72.767\n",
      "Imputing row 14201/16067 with 0 missing, elapsed time: 72.771\n",
      "Imputing row 14301/16067 with 0 missing, elapsed time: 72.775\n",
      "Imputing row 14401/16067 with 0 missing, elapsed time: 72.779\n",
      "Imputing row 14501/16067 with 0 missing, elapsed time: 72.780\n",
      "Imputing row 14601/16067 with 0 missing, elapsed time: 72.783\n",
      "Imputing row 14701/16067 with 0 missing, elapsed time: 72.785\n",
      "Imputing row 14801/16067 with 0 missing, elapsed time: 72.788\n",
      "Imputing row 14901/16067 with 0 missing, elapsed time: 72.791\n",
      "Imputing row 15001/16067 with 0 missing, elapsed time: 72.793\n",
      "Imputing row 15101/16067 with 0 missing, elapsed time: 72.797\n",
      "Imputing row 15201/16067 with 0 missing, elapsed time: 72.798\n",
      "Imputing row 15301/16067 with 0 missing, elapsed time: 72.802\n",
      "Imputing row 15401/16067 with 0 missing, elapsed time: 72.807\n",
      "Imputing row 15501/16067 with 0 missing, elapsed time: 72.811\n",
      "Imputing row 15601/16067 with 0 missing, elapsed time: 72.813\n",
      "Imputing row 15701/16067 with 0 missing, elapsed time: 72.817\n",
      "Imputing row 15801/16067 with 0 missing, elapsed time: 72.819\n",
      "Imputing row 15901/16067 with 0 missing, elapsed time: 72.820\n",
      "Imputing row 16001/16067 with 0 missing, elapsed time: 72.824\n"
     ]
    },
    {
     "data": {
      "text/plain": [
       "fare_amount           7.000000\n",
       "pickup_longitude    -73.994539\n",
       "pickup_latitude      40.746501\n",
       "dropoff_longitude   -73.988266\n",
       "dropoff_latitude     40.745178\n",
       "passenger_count       1.000000\n",
       "Name: 1000, dtype: float64"
      ]
     },
     "execution_count": 64,
     "metadata": {},
     "output_type": "execute_result"
    }
   ],
   "source": [
    "#columns=['fare_amount', 'pickup_longitude', 'pickup_latitude','dropoff_longitude', 'dropoff_latitude', 'passenger_count']\n",
    "#pickup_datetime=pd.DataFrame(df[\"pickup_datetime\"])\n",
    "#df=pd.DataFrame(KNN(k = 5).fit_transform(df.drop('pickup_datetime',axis=1)),columns=columns)\n",
    "#df.loc[1000]"
   ]
  },
  {
   "cell_type": "code",
   "execution_count": 67,
   "metadata": {},
   "outputs": [
    {
     "data": {
      "text/plain": [
       "fare_amount           34\n",
       "pickup_datetime        1\n",
       "pickup_longitude     324\n",
       "pickup_latitude      325\n",
       "dropoff_longitude    324\n",
       "dropoff_latitude     322\n",
       "passenger_count      133\n",
       "dtype: int64"
      ]
     },
     "execution_count": 67,
     "metadata": {},
     "output_type": "execute_result"
    }
   ],
   "source": [
    "#train.isna().sum()"
   ]
  },
  {
   "cell_type": "code",
   "execution_count": 68,
   "metadata": {},
   "outputs": [],
   "source": [
    "#we use Mean and median for imputing dropoff_latitude and pickup_latitude, and KNN for all other variable\n",
    "#train[\"dropoff_latitude\"]=train[\"dropoff_latitude\"].fillna(train[\"dropoff_latitude\"].median())\n",
    "#train[\"pickup_latitude\"]=train[\"pickup_latitude\"].fillna(train[\"pickup_latitude\"].mean())"
   ]
  },
  {
   "cell_type": "code",
   "execution_count": 69,
   "metadata": {
    "scrolled": true
   },
   "outputs": [
    {
     "data": {
      "text/plain": [
       "fare_amount           34\n",
       "pickup_datetime        1\n",
       "pickup_longitude     324\n",
       "pickup_latitude        0\n",
       "dropoff_longitude    324\n",
       "dropoff_latitude       0\n",
       "passenger_count      133\n",
       "dtype: int64"
      ]
     },
     "execution_count": 69,
     "metadata": {},
     "output_type": "execute_result"
    }
   ],
   "source": [
    "#train.isna().sum()"
   ]
  },
  {
   "cell_type": "code",
   "execution_count": 70,
   "metadata": {
    "collapsed": true
   },
   "outputs": [
    {
     "name": "stdout",
     "output_type": "stream",
     "text": [
      "Imputing row 1/16067 with 0 missing, elapsed time: 71.428\n",
      "Imputing row 101/16067 with 0 missing, elapsed time: 73.352\n",
      "Imputing row 201/16067 with 0 missing, elapsed time: 73.361\n",
      "Imputing row 301/16067 with 0 missing, elapsed time: 73.366\n",
      "Imputing row 401/16067 with 0 missing, elapsed time: 73.370\n",
      "Imputing row 501/16067 with 0 missing, elapsed time: 73.373\n",
      "Imputing row 601/16067 with 0 missing, elapsed time: 73.377\n",
      "Imputing row 701/16067 with 0 missing, elapsed time: 73.379\n",
      "Imputing row 801/16067 with 0 missing, elapsed time: 73.383\n",
      "Imputing row 901/16067 with 0 missing, elapsed time: 73.386\n",
      "Imputing row 1001/16067 with 0 missing, elapsed time: 73.389\n",
      "Imputing row 1101/16067 with 0 missing, elapsed time: 73.391\n",
      "Imputing row 1201/16067 with 1 missing, elapsed time: 73.394\n",
      "Imputing row 1301/16067 with 0 missing, elapsed time: 73.395\n",
      "Imputing row 1401/16067 with 1 missing, elapsed time: 73.398\n",
      "Imputing row 1501/16067 with 0 missing, elapsed time: 73.400\n",
      "Imputing row 1601/16067 with 0 missing, elapsed time: 73.402\n",
      "Imputing row 1701/16067 with 0 missing, elapsed time: 73.404\n",
      "Imputing row 1801/16067 with 0 missing, elapsed time: 73.406\n",
      "Imputing row 1901/16067 with 0 missing, elapsed time: 73.409\n",
      "Imputing row 2001/16067 with 0 missing, elapsed time: 73.410\n",
      "Imputing row 2101/16067 with 0 missing, elapsed time: 73.412\n",
      "Imputing row 2201/16067 with 1 missing, elapsed time: 73.414\n",
      "Imputing row 2301/16067 with 0 missing, elapsed time: 73.416\n",
      "Imputing row 2401/16067 with 0 missing, elapsed time: 73.417\n",
      "Imputing row 2501/16067 with 0 missing, elapsed time: 73.421\n",
      "Imputing row 2601/16067 with 0 missing, elapsed time: 73.423\n",
      "Imputing row 2701/16067 with 0 missing, elapsed time: 73.423\n",
      "Imputing row 2801/16067 with 0 missing, elapsed time: 73.426\n",
      "Imputing row 2901/16067 with 0 missing, elapsed time: 73.427\n",
      "Imputing row 3001/16067 with 0 missing, elapsed time: 73.429\n",
      "Imputing row 3101/16067 with 0 missing, elapsed time: 73.431\n",
      "Imputing row 3201/16067 with 0 missing, elapsed time: 73.433\n",
      "Imputing row 3301/16067 with 0 missing, elapsed time: 73.434\n",
      "Imputing row 3401/16067 with 0 missing, elapsed time: 73.436\n",
      "Imputing row 3501/16067 with 0 missing, elapsed time: 73.439\n",
      "Imputing row 3601/16067 with 0 missing, elapsed time: 73.441\n",
      "Imputing row 3701/16067 with 0 missing, elapsed time: 73.441\n",
      "Imputing row 3801/16067 with 0 missing, elapsed time: 73.443\n",
      "Imputing row 3901/16067 with 0 missing, elapsed time: 73.446\n",
      "Imputing row 4001/16067 with 0 missing, elapsed time: 73.448\n",
      "Imputing row 4101/16067 with 0 missing, elapsed time: 73.449\n",
      "Imputing row 4201/16067 with 0 missing, elapsed time: 73.451\n",
      "Imputing row 4301/16067 with 0 missing, elapsed time: 73.453\n",
      "Imputing row 4401/16067 with 0 missing, elapsed time: 73.454\n",
      "Imputing row 4501/16067 with 0 missing, elapsed time: 73.456\n",
      "Imputing row 4601/16067 with 2 missing, elapsed time: 73.458\n",
      "Imputing row 4701/16067 with 0 missing, elapsed time: 73.460\n",
      "Imputing row 4801/16067 with 0 missing, elapsed time: 73.462\n",
      "Imputing row 4901/16067 with 0 missing, elapsed time: 73.464\n",
      "Imputing row 5001/16067 with 0 missing, elapsed time: 73.465\n",
      "Imputing row 5101/16067 with 0 missing, elapsed time: 73.466\n",
      "Imputing row 5201/16067 with 0 missing, elapsed time: 73.468\n",
      "Imputing row 5301/16067 with 0 missing, elapsed time: 73.470\n",
      "Imputing row 5401/16067 with 0 missing, elapsed time: 73.471\n",
      "Imputing row 5501/16067 with 0 missing, elapsed time: 73.473\n",
      "Imputing row 5601/16067 with 0 missing, elapsed time: 73.475\n",
      "Imputing row 5701/16067 with 0 missing, elapsed time: 73.478\n",
      "Imputing row 5801/16067 with 0 missing, elapsed time: 73.480\n",
      "Imputing row 5901/16067 with 0 missing, elapsed time: 73.482\n",
      "Imputing row 6001/16067 with 0 missing, elapsed time: 73.483\n",
      "Imputing row 6101/16067 with 0 missing, elapsed time: 73.485\n",
      "Imputing row 6201/16067 with 0 missing, elapsed time: 73.487\n",
      "Imputing row 6301/16067 with 0 missing, elapsed time: 73.488\n",
      "Imputing row 6401/16067 with 0 missing, elapsed time: 73.490\n",
      "Imputing row 6501/16067 with 0 missing, elapsed time: 73.490\n",
      "Imputing row 6601/16067 with 0 missing, elapsed time: 73.492\n",
      "Imputing row 6701/16067 with 0 missing, elapsed time: 73.493\n",
      "Imputing row 6801/16067 with 0 missing, elapsed time: 73.496\n",
      "Imputing row 6901/16067 with 0 missing, elapsed time: 73.497\n",
      "Imputing row 7001/16067 with 0 missing, elapsed time: 73.499\n",
      "Imputing row 7101/16067 with 0 missing, elapsed time: 73.501\n",
      "Imputing row 7201/16067 with 0 missing, elapsed time: 73.502\n",
      "Imputing row 7301/16067 with 0 missing, elapsed time: 73.504\n",
      "Imputing row 7401/16067 with 0 missing, elapsed time: 73.506\n",
      "Imputing row 7501/16067 with 0 missing, elapsed time: 73.507\n",
      "Imputing row 7601/16067 with 0 missing, elapsed time: 73.510\n",
      "Imputing row 7701/16067 with 0 missing, elapsed time: 73.512\n",
      "Imputing row 7801/16067 with 0 missing, elapsed time: 73.513\n",
      "Imputing row 7901/16067 with 0 missing, elapsed time: 73.515\n",
      "Imputing row 8001/16067 with 0 missing, elapsed time: 73.516\n",
      "Imputing row 8101/16067 with 0 missing, elapsed time: 73.518\n",
      "Imputing row 8201/16067 with 0 missing, elapsed time: 73.520\n",
      "Imputing row 8301/16067 with 0 missing, elapsed time: 73.522\n",
      "Imputing row 8401/16067 with 0 missing, elapsed time: 73.523\n",
      "Imputing row 8501/16067 with 0 missing, elapsed time: 73.527\n",
      "Imputing row 8601/16067 with 0 missing, elapsed time: 73.528\n",
      "Imputing row 8701/16067 with 0 missing, elapsed time: 73.531\n",
      "Imputing row 8801/16067 with 0 missing, elapsed time: 73.533\n",
      "Imputing row 8901/16067 with 0 missing, elapsed time: 73.535\n",
      "Imputing row 9001/16067 with 0 missing, elapsed time: 73.536\n",
      "Imputing row 9101/16067 with 0 missing, elapsed time: 73.664\n",
      "Imputing row 9201/16067 with 0 missing, elapsed time: 73.666\n",
      "Imputing row 9301/16067 with 0 missing, elapsed time: 73.669\n",
      "Imputing row 9401/16067 with 0 missing, elapsed time: 73.671\n",
      "Imputing row 9501/16067 with 0 missing, elapsed time: 73.672\n",
      "Imputing row 9601/16067 with 2 missing, elapsed time: 73.674\n",
      "Imputing row 9701/16067 with 0 missing, elapsed time: 73.677\n",
      "Imputing row 9801/16067 with 0 missing, elapsed time: 73.680\n",
      "Imputing row 9901/16067 with 0 missing, elapsed time: 73.683\n",
      "Imputing row 10001/16067 with 0 missing, elapsed time: 73.684\n",
      "Imputing row 10101/16067 with 0 missing, elapsed time: 73.692\n",
      "Imputing row 10201/16067 with 0 missing, elapsed time: 73.694\n",
      "Imputing row 10301/16067 with 0 missing, elapsed time: 73.697\n",
      "Imputing row 10401/16067 with 0 missing, elapsed time: 73.698\n",
      "Imputing row 10501/16067 with 0 missing, elapsed time: 73.702\n",
      "Imputing row 10601/16067 with 0 missing, elapsed time: 73.703\n",
      "Imputing row 10701/16067 with 0 missing, elapsed time: 73.705\n",
      "Imputing row 10801/16067 with 0 missing, elapsed time: 73.707\n",
      "Imputing row 10901/16067 with 0 missing, elapsed time: 73.707\n",
      "Imputing row 11001/16067 with 0 missing, elapsed time: 73.709\n",
      "Imputing row 11101/16067 with 0 missing, elapsed time: 73.711\n",
      "Imputing row 11201/16067 with 0 missing, elapsed time: 73.712\n",
      "Imputing row 11301/16067 with 0 missing, elapsed time: 73.714\n",
      "Imputing row 11401/16067 with 0 missing, elapsed time: 73.715\n",
      "Imputing row 11501/16067 with 0 missing, elapsed time: 73.717\n",
      "Imputing row 11601/16067 with 0 missing, elapsed time: 73.718\n",
      "Imputing row 11701/16067 with 0 missing, elapsed time: 73.721\n",
      "Imputing row 11801/16067 with 0 missing, elapsed time: 73.723\n",
      "Imputing row 11901/16067 with 0 missing, elapsed time: 73.724\n",
      "Imputing row 12001/16067 with 0 missing, elapsed time: 73.727\n",
      "Imputing row 12101/16067 with 0 missing, elapsed time: 73.728\n",
      "Imputing row 12201/16067 with 0 missing, elapsed time: 73.730\n",
      "Imputing row 12301/16067 with 2 missing, elapsed time: 73.734\n",
      "Imputing row 12401/16067 with 0 missing, elapsed time: 73.736\n",
      "Imputing row 12501/16067 with 0 missing, elapsed time: 73.737\n",
      "Imputing row 12601/16067 with 0 missing, elapsed time: 73.740\n",
      "Imputing row 12701/16067 with 0 missing, elapsed time: 73.742\n",
      "Imputing row 12801/16067 with 0 missing, elapsed time: 73.745\n",
      "Imputing row 12901/16067 with 0 missing, elapsed time: 73.746\n",
      "Imputing row 13001/16067 with 0 missing, elapsed time: 73.748\n",
      "Imputing row 13101/16067 with 0 missing, elapsed time: 73.753\n",
      "Imputing row 13201/16067 with 0 missing, elapsed time: 73.756\n",
      "Imputing row 13301/16067 with 0 missing, elapsed time: 73.760\n",
      "Imputing row 13401/16067 with 0 missing, elapsed time: 73.763\n",
      "Imputing row 13501/16067 with 0 missing, elapsed time: 73.765\n",
      "Imputing row 13601/16067 with 0 missing, elapsed time: 73.768\n",
      "Imputing row 13701/16067 with 0 missing, elapsed time: 73.771\n",
      "Imputing row 13801/16067 with 0 missing, elapsed time: 73.773\n",
      "Imputing row 13901/16067 with 0 missing, elapsed time: 73.775\n",
      "Imputing row 14001/16067 with 0 missing, elapsed time: 73.779\n",
      "Imputing row 14101/16067 with 0 missing, elapsed time: 73.782\n",
      "Imputing row 14201/16067 with 0 missing, elapsed time: 73.785\n",
      "Imputing row 14301/16067 with 0 missing, elapsed time: 73.789\n",
      "Imputing row 14401/16067 with 0 missing, elapsed time: 73.792\n",
      "Imputing row 14501/16067 with 0 missing, elapsed time: 73.794\n",
      "Imputing row 14601/16067 with 0 missing, elapsed time: 73.796\n",
      "Imputing row 14701/16067 with 0 missing, elapsed time: 73.797\n",
      "Imputing row 14801/16067 with 0 missing, elapsed time: 73.799\n",
      "Imputing row 14901/16067 with 0 missing, elapsed time: 73.801\n",
      "Imputing row 15001/16067 with 0 missing, elapsed time: 73.803\n",
      "Imputing row 15101/16067 with 0 missing, elapsed time: 73.807\n",
      "Imputing row 15201/16067 with 0 missing, elapsed time: 73.809\n",
      "Imputing row 15301/16067 with 0 missing, elapsed time: 73.812\n",
      "Imputing row 15401/16067 with 0 missing, elapsed time: 73.815\n",
      "Imputing row 15501/16067 with 0 missing, elapsed time: 73.818\n",
      "Imputing row 15601/16067 with 0 missing, elapsed time: 73.821\n",
      "Imputing row 15701/16067 with 0 missing, elapsed time: 73.824\n",
      "Imputing row 15801/16067 with 0 missing, elapsed time: 73.827\n",
      "Imputing row 15901/16067 with 0 missing, elapsed time: 73.829\n",
      "Imputing row 16001/16067 with 0 missing, elapsed time: 73.834\n"
     ]
    }
   ],
   "source": [
    "#columns=['fare_amount', 'pickup_longitude', 'pickup_latitude','dropoff_longitude', 'dropoff_latitude', 'passenger_count']\n",
    "#train=pd.DataFrame(KNN(k = 5).fit_transform(train.drop('pickup_datetime',axis=1)),columns=columns)"
   ]
  },
  {
   "cell_type": "code",
   "execution_count": 71,
   "metadata": {},
   "outputs": [
    {
     "data": {
      "text/plain": [
       "fare_amount          0\n",
       "pickup_longitude     0\n",
       "pickup_latitude      0\n",
       "dropoff_longitude    0\n",
       "dropoff_latitude     0\n",
       "passenger_count      0\n",
       "dtype: int64"
      ]
     },
     "execution_count": 71,
     "metadata": {},
     "output_type": "execute_result"
    }
   ],
   "source": [
    "#train.isna().sum()"
   ]
  },
  {
   "cell_type": "code",
   "execution_count": 72,
   "metadata": {},
   "outputs": [
    {
     "data": {
      "text/html": [
       "<div>\n",
       "<style scoped>\n",
       "    .dataframe tbody tr th:only-of-type {\n",
       "        vertical-align: middle;\n",
       "    }\n",
       "\n",
       "    .dataframe tbody tr th {\n",
       "        vertical-align: top;\n",
       "    }\n",
       "\n",
       "    .dataframe thead th {\n",
       "        text-align: right;\n",
       "    }\n",
       "</style>\n",
       "<table border=\"1\" class=\"dataframe\">\n",
       "  <thead>\n",
       "    <tr style=\"text-align: right;\">\n",
       "      <th></th>\n",
       "      <th>fare_amount</th>\n",
       "      <th>pickup_longitude</th>\n",
       "      <th>pickup_latitude</th>\n",
       "      <th>dropoff_longitude</th>\n",
       "      <th>dropoff_latitude</th>\n",
       "      <th>passenger_count</th>\n",
       "    </tr>\n",
       "  </thead>\n",
       "  <tbody>\n",
       "    <tr>\n",
       "      <th>count</th>\n",
       "      <td>16067.000000</td>\n",
       "      <td>16067.000000</td>\n",
       "      <td>16067.000000</td>\n",
       "      <td>16067.000000</td>\n",
       "      <td>16067.000000</td>\n",
       "      <td>16067.000000</td>\n",
       "    </tr>\n",
       "    <tr>\n",
       "      <th>mean</th>\n",
       "      <td>11.304986</td>\n",
       "      <td>-73.974963</td>\n",
       "      <td>40.750903</td>\n",
       "      <td>-73.973935</td>\n",
       "      <td>40.751451</td>\n",
       "      <td>1.649746</td>\n",
       "    </tr>\n",
       "    <tr>\n",
       "      <th>std</th>\n",
       "      <td>9.642839</td>\n",
       "      <td>0.041120</td>\n",
       "      <td>0.037558</td>\n",
       "      <td>0.039018</td>\n",
       "      <td>0.039221</td>\n",
       "      <td>1.262196</td>\n",
       "    </tr>\n",
       "    <tr>\n",
       "      <th>min</th>\n",
       "      <td>1.140000</td>\n",
       "      <td>-74.438233</td>\n",
       "      <td>39.603178</td>\n",
       "      <td>-74.429332</td>\n",
       "      <td>39.604972</td>\n",
       "      <td>1.000000</td>\n",
       "    </tr>\n",
       "    <tr>\n",
       "      <th>25%</th>\n",
       "      <td>6.000000</td>\n",
       "      <td>-73.992256</td>\n",
       "      <td>40.737081</td>\n",
       "      <td>-73.991212</td>\n",
       "      <td>40.736876</td>\n",
       "      <td>1.000000</td>\n",
       "    </tr>\n",
       "    <tr>\n",
       "      <th>50%</th>\n",
       "      <td>8.500000</td>\n",
       "      <td>-73.982118</td>\n",
       "      <td>40.752603</td>\n",
       "      <td>-73.980601</td>\n",
       "      <td>40.754242</td>\n",
       "      <td>1.000000</td>\n",
       "    </tr>\n",
       "    <tr>\n",
       "      <th>75%</th>\n",
       "      <td>12.500000</td>\n",
       "      <td>-73.968378</td>\n",
       "      <td>40.767374</td>\n",
       "      <td>-73.965705</td>\n",
       "      <td>40.768013</td>\n",
       "      <td>2.000000</td>\n",
       "    </tr>\n",
       "    <tr>\n",
       "      <th>max</th>\n",
       "      <td>180.000000</td>\n",
       "      <td>-73.137393</td>\n",
       "      <td>41.366138</td>\n",
       "      <td>-73.137393</td>\n",
       "      <td>41.366138</td>\n",
       "      <td>6.000000</td>\n",
       "    </tr>\n",
       "  </tbody>\n",
       "</table>\n",
       "</div>"
      ],
      "text/plain": [
       "        fare_amount  pickup_longitude  pickup_latitude  dropoff_longitude  \\\n",
       "count  16067.000000      16067.000000     16067.000000       16067.000000   \n",
       "mean      11.304986        -73.974963        40.750903         -73.973935   \n",
       "std        9.642839          0.041120         0.037558           0.039018   \n",
       "min        1.140000        -74.438233        39.603178         -74.429332   \n",
       "25%        6.000000        -73.992256        40.737081         -73.991212   \n",
       "50%        8.500000        -73.982118        40.752603         -73.980601   \n",
       "75%       12.500000        -73.968378        40.767374         -73.965705   \n",
       "max      180.000000        -73.137393        41.366138         -73.137393   \n",
       "\n",
       "       dropoff_latitude  passenger_count  \n",
       "count      16067.000000     16067.000000  \n",
       "mean          40.751451         1.649746  \n",
       "std            0.039221         1.262196  \n",
       "min           39.604972         1.000000  \n",
       "25%           40.736876         1.000000  \n",
       "50%           40.754242         1.000000  \n",
       "75%           40.768013         2.000000  \n",
       "max           41.366138         6.000000  "
      ]
     },
     "execution_count": 72,
     "metadata": {},
     "output_type": "execute_result"
    }
   ],
   "source": [
    "#train.describe()"
   ]
  },
  {
   "cell_type": "code",
   "execution_count": 73,
   "metadata": {},
   "outputs": [
    {
     "data": {
      "text/html": [
       "<div>\n",
       "<style scoped>\n",
       "    .dataframe tbody tr th:only-of-type {\n",
       "        vertical-align: middle;\n",
       "    }\n",
       "\n",
       "    .dataframe tbody tr th {\n",
       "        vertical-align: top;\n",
       "    }\n",
       "\n",
       "    .dataframe thead th {\n",
       "        text-align: right;\n",
       "    }\n",
       "</style>\n",
       "<table border=\"1\" class=\"dataframe\">\n",
       "  <thead>\n",
       "    <tr style=\"text-align: right;\">\n",
       "      <th></th>\n",
       "      <th>pickup_datetime</th>\n",
       "      <th>fare_amount</th>\n",
       "      <th>pickup_longitude</th>\n",
       "      <th>pickup_latitude</th>\n",
       "      <th>dropoff_longitude</th>\n",
       "      <th>dropoff_latitude</th>\n",
       "      <th>passenger_count</th>\n",
       "    </tr>\n",
       "  </thead>\n",
       "  <tbody>\n",
       "    <tr>\n",
       "      <th>0</th>\n",
       "      <td>2009-06-15 17:26:21</td>\n",
       "      <td>4.5</td>\n",
       "      <td>-73.844311</td>\n",
       "      <td>40.721319</td>\n",
       "      <td>-73.841610</td>\n",
       "      <td>40.712278</td>\n",
       "      <td>1.0</td>\n",
       "    </tr>\n",
       "    <tr>\n",
       "      <th>1</th>\n",
       "      <td>2010-01-05 16:52:16</td>\n",
       "      <td>16.9</td>\n",
       "      <td>-74.016048</td>\n",
       "      <td>40.711303</td>\n",
       "      <td>-73.979268</td>\n",
       "      <td>40.782004</td>\n",
       "      <td>1.0</td>\n",
       "    </tr>\n",
       "    <tr>\n",
       "      <th>2</th>\n",
       "      <td>2011-08-18 00:35:00</td>\n",
       "      <td>5.7</td>\n",
       "      <td>-73.982738</td>\n",
       "      <td>40.761270</td>\n",
       "      <td>-73.991242</td>\n",
       "      <td>40.750562</td>\n",
       "      <td>2.0</td>\n",
       "    </tr>\n",
       "    <tr>\n",
       "      <th>3</th>\n",
       "      <td>2012-04-21 04:30:42</td>\n",
       "      <td>7.7</td>\n",
       "      <td>-73.987130</td>\n",
       "      <td>40.733143</td>\n",
       "      <td>-73.991567</td>\n",
       "      <td>40.758092</td>\n",
       "      <td>1.0</td>\n",
       "    </tr>\n",
       "    <tr>\n",
       "      <th>4</th>\n",
       "      <td>2010-03-09 07:51:00</td>\n",
       "      <td>5.3</td>\n",
       "      <td>-73.968095</td>\n",
       "      <td>40.768008</td>\n",
       "      <td>-73.956655</td>\n",
       "      <td>40.783762</td>\n",
       "      <td>1.0</td>\n",
       "    </tr>\n",
       "  </tbody>\n",
       "</table>\n",
       "</div>"
      ],
      "text/plain": [
       "      pickup_datetime  fare_amount  pickup_longitude  pickup_latitude  \\\n",
       "0 2009-06-15 17:26:21          4.5        -73.844311        40.721319   \n",
       "1 2010-01-05 16:52:16         16.9        -74.016048        40.711303   \n",
       "2 2011-08-18 00:35:00          5.7        -73.982738        40.761270   \n",
       "3 2012-04-21 04:30:42          7.7        -73.987130        40.733143   \n",
       "4 2010-03-09 07:51:00          5.3        -73.968095        40.768008   \n",
       "\n",
       "   dropoff_longitude  dropoff_latitude  passenger_count  \n",
       "0         -73.841610         40.712278              1.0  \n",
       "1         -73.979268         40.782004              1.0  \n",
       "2         -73.991242         40.750562              2.0  \n",
       "3         -73.991567         40.758092              1.0  \n",
       "4         -73.956655         40.783762              1.0  "
      ]
     },
     "execution_count": 73,
     "metadata": {},
     "output_type": "execute_result"
    }
   ],
   "source": [
    "# we will Join 2 Dataframes pickup_datetime and train\n",
    "#train = pd.merge(pickup_datetime,train,right_index=True,left_index=True)\n",
    "#train.head()"
   ]
  },
  {
   "cell_type": "code",
   "execution_count": 74,
   "metadata": {},
   "outputs": [
    {
     "name": "stdout",
     "output_type": "stream",
     "text": [
      "<class 'pandas.core.frame.DataFrame'>\n",
      "RangeIndex: 16067 entries, 0 to 16066\n",
      "Data columns (total 7 columns):\n",
      "pickup_datetime      16066 non-null datetime64[ns]\n",
      "fare_amount          16067 non-null float64\n",
      "pickup_longitude     16067 non-null float64\n",
      "pickup_latitude      16067 non-null float64\n",
      "dropoff_longitude    16067 non-null float64\n",
      "dropoff_latitude     16067 non-null float64\n",
      "passenger_count      16067 non-null float64\n",
      "dtypes: datetime64[ns](1), float64(6)\n",
      "memory usage: 878.8 KB\n"
     ]
    }
   ],
   "source": [
    "#train.info()"
   ]
  },
  {
   "cell_type": "code",
   "execution_count": 75,
   "metadata": {},
   "outputs": [],
   "source": [
    "#train = train.drop(train[train[\"pickup_datetime\"].isnull()].index,axis = 0)"
   ]
  },
  {
   "cell_type": "code",
   "execution_count": 114,
   "metadata": {},
   "outputs": [],
   "source": [
    "#train[\"passenger_count\"]=train[\"passenger_count\"].round()"
   ]
  },
  {
   "cell_type": "code",
   "execution_count": 76,
   "metadata": {
    "collapsed": true
   },
   "outputs": [
    {
     "name": "stdout",
     "output_type": "stream",
     "text": [
      "<class 'pandas.core.frame.DataFrame'>\n",
      "Int64Index: 16066 entries, 0 to 16066\n",
      "Data columns (total 7 columns):\n",
      "pickup_datetime      16066 non-null datetime64[ns]\n",
      "fare_amount          16066 non-null float64\n",
      "pickup_longitude     16066 non-null float64\n",
      "pickup_latitude      16066 non-null float64\n",
      "dropoff_longitude    16066 non-null float64\n",
      "dropoff_latitude     16066 non-null float64\n",
      "passenger_count      16066 non-null float64\n",
      "dtypes: datetime64[ns](1), float64(6)\n",
      "memory usage: 1004.1 KB\n"
     ]
    }
   ],
   "source": [
    "#train.info()"
   ]
  },
  {
   "cell_type": "code",
   "execution_count": 78,
   "metadata": {
    "collapsed": true
   },
   "outputs": [
    {
     "data": {
      "image/png": "[encoded data removed]",
      "text/plain": [
       "<Figure size 1440x360 with 4 Axes>"
      ]
     },
     "metadata": {},
     "output_type": "display_data"
    }
   ],
   "source": [
    "#lets plot some visualization with between latitude/longitude and fare_amount after missinf value imputation\n",
    "#sns.set_style(\"whitegrid\")\n",
    "#plt.figure(figsize=(20,5))\n",
    "#plt.subplot(221)\n",
    "#sns.distplot(train[\"pickup_longitude\"],color=\"red\").set_title(\"pickup_longitude\")\n",
    "#plt.subplot(222)\n",
    "#sns.distplot(train[\"dropoff_longitude\"],color=\"black\").set_title(\"dropoff_longitude\")\n",
    "#plt.subplot(223)\n",
    "#sns.distplot(train[\"pickup_latitude\"],color=\"blue\").set_title(\"pickup_latitude\")\n",
    "#plt.subplot(224)\n",
    "#sns.distplot(train[\"dropoff_latitude\"],color=\"green\").set_title(\"dropoff_latitude\")\n",
    "#plt.tight_layout()"
   ]
  },
  {
   "cell_type": "markdown",
   "metadata": {},
   "source": [
    "# Feature Engineering"
   ]
  },
  {
   "cell_type": "markdown",
   "metadata": {},
   "source": [
    "#  1)Trip Distance"
   ]
  },
  {
   "cell_type": "code",
   "execution_count": 29,
   "metadata": {},
   "outputs": [],
   "source": [
    "#Using heversine method\n",
    "df=[train,test]\n",
    "for i in df:\n",
    "    radius= 6378.1 \n",
    "    dif_lat = np.radians(i[\"dropoff_latitude\"] - i[\"pickup_latitude\"])\n",
    "    dif_long = np.radians(i[\"dropoff_longitude\"] - i[\"pickup_longitude\"])\n",
    "    a = np.sin(dif_lat/2) * np.sin(dif_lat/2) + (np.cos(np.radians(i[\"pickup_latitude\"]))\n",
    "                                                         *np.cos(np.radians(i[\"dropoff_latitude\"])) \n",
    "                                                         * np.sin(dif_long/2) * np.sin(dif_long/2))\n",
    "    c = 2 * np.arctan2(np.sqrt(a), np.sqrt(1 - a))\n",
    "    i[\"trip_distance\"] = radius * c  # output distance in Kilometers    "
   ]
  },
  {
   "cell_type": "code",
   "execution_count": 30,
   "metadata": {},
   "outputs": [
    {
     "data": {
      "text/plain": [
       "((15568, 8), (9914, 7))"
      ]
     },
     "execution_count": 30,
     "metadata": {},
     "output_type": "execute_result"
    }
   ],
   "source": [
    "train.shape  , test.shape"
   ]
  },
  {
   "cell_type": "code",
   "execution_count": 31,
   "metadata": {},
   "outputs": [
    {
     "data": {
      "image/png": "[encoded data removed]",
      "text/plain": [
       "<Figure size 1440x360 with 1 Axes>"
      ]
     },
     "metadata": {
      "needs_background": "light"
     },
     "output_type": "display_data"
    }
   ],
   "source": [
    "#See the Distribution of Trip_distance\n",
    "plt.figure(figsize=(20,5))\n",
    "sns.distplot(train[\"trip_distance\"],bins=50)\n",
    "plt.title(\"Distribution of trip_distance\")\n",
    "plt.xlabel(\"trip_distance\")\n",
    "plt.tight_layout()"
   ]
  },
  {
   "cell_type": "code",
   "execution_count": 32,
   "metadata": {},
   "outputs": [
    {
     "name": "stderr",
     "output_type": "stream",
     "text": [
      "C:\\Users\\hp\\Anaconda3\\lib\\site-packages\\ipykernel_launcher.py:6: UserWarning: Tight layout not applied. tight_layout cannot make axes width small enough to accommodate all axes decorations\n",
      "  \n"
     ]
    },
    {
     "data": {
      "image/png": "[encoded data removed]",
      "text/plain": [
       "<Figure size 432x432 with 3 Axes>"
      ]
     },
     "metadata": {
      "needs_background": "light"
     },
     "output_type": "display_data"
    }
   ],
   "source": [
    "#Lets plot a curve to find the relation between trip_distance anf fare_amount\n",
    "sns.jointplot(x=\"fare_amount\",y=\"trip_distance\",data=train,kind=\"scatter\",color=\"blue\")\n",
    "plt.xlabel(\"fare_amount\")\n",
    "plt.ylabel(\"trip_distance\")\n",
    "plt.title(\"Trip Distance vs Fare Amount\")\n",
    "plt.tight_layout()"
   ]
  },
  {
   "cell_type": "markdown",
   "metadata": {},
   "source": [
    "# 2)pickup_year,month,week day ,time "
   ]
  },
  {
   "cell_type": "code",
   "execution_count": 33,
   "metadata": {},
   "outputs": [],
   "source": [
    "#Creating some features based on pickup_datetime variable\n",
    "df=[train,test]\n",
    "for i in df:\n",
    "    i[\"year\"]=i[\"pickup_datetime\"].apply(lambda x:x.year)\n",
    "    i[\"month\"]=i[\"pickup_datetime\"].apply(lambda x:x.month)\n",
    "    i[\"dayofweek\"]=i[\"pickup_datetime\"].apply(lambda x:x.dayofweek)\n",
    "    i[\"hour\"]=i[\"pickup_datetime\"].apply(lambda x:x.hour)"
   ]
  },
  {
   "cell_type": "code",
   "execution_count": 35,
   "metadata": {
    "scrolled": true
   },
   "outputs": [
    {
     "data": {
      "text/plain": [
       "(   fare_amount     pickup_datetime  pickup_longitude  pickup_latitude  \\\n",
       " 0          4.5 2009-06-15 17:26:21        -73.844311        40.721319   \n",
       " 1         16.9 2010-01-05 16:52:16        -74.016048        40.711303   \n",
       " 2          5.7 2011-08-18 00:35:00        -73.982738        40.761270   \n",
       " 3          7.7 2012-04-21 04:30:42        -73.987130        40.733143   \n",
       " 4          5.3 2010-03-09 07:51:00        -73.968095        40.768008   \n",
       " \n",
       "    dropoff_longitude  dropoff_latitude passenger_count  trip_distance  year  \\\n",
       " 0         -73.841610         40.712278               1       1.031913  2009   \n",
       " 1         -73.979268         40.782004               1       8.459551  2010   \n",
       " 2         -73.991242         40.750562               2       1.391074  2011   \n",
       " 3         -73.991567         40.758092               1       2.802390  2012   \n",
       " 4         -73.956655         40.783762               1       2.001385  2010   \n",
       " \n",
       "    month  dayofweek  hour  \n",
       " 0      6          0    17  \n",
       " 1      1          1    16  \n",
       " 2      8          3     0  \n",
       " 3      4          5     4  \n",
       " 4      3          1     7  ,\n",
       "       pickup_datetime  pickup_longitude  pickup_latitude  dropoff_longitude  \\\n",
       " 0 2015-01-27 13:08:24        -73.973320        40.763805         -73.981430   \n",
       " 1 2015-01-27 13:08:24        -73.986862        40.719383         -73.998886   \n",
       " 2 2011-10-08 11:53:44        -73.982524        40.751260         -73.979654   \n",
       " 3 2012-12-01 21:12:12        -73.981160        40.767807         -73.990448   \n",
       " 4 2012-12-01 21:12:12        -73.966046        40.789775         -73.988565   \n",
       " \n",
       "    dropoff_latitude passenger_count  trip_distance  year  month  dayofweek  \\\n",
       " 0         40.743835               1       2.325849  2015      1          1   \n",
       " 1         40.739201               1       2.428056  2015      1          1   \n",
       " 2         40.746139               1       0.619317  2011     10          5   \n",
       " 3         40.751635               1       1.963218  2012     12          5   \n",
       " 4         40.744427               1       5.393305  2012     12          5   \n",
       " \n",
       "    hour  \n",
       " 0    13  \n",
       " 1    13  \n",
       " 2    11  \n",
       " 3    21  \n",
       " 4    21  )"
      ]
     },
     "execution_count": 35,
     "metadata": {},
     "output_type": "execute_result"
    }
   ],
   "source": [
    "train.head() , test.head()"
   ]
  },
  {
   "cell_type": "code",
   "execution_count": 38,
   "metadata": {},
   "outputs": [],
   "source": [
    "#before droping pickup_datetime columns lets make a data fare that help us to merge predicted value with test data\n",
    "test_pickup_datetime=pd.DataFrame(test[\"pickup_datetime\"])"
   ]
  },
  {
   "cell_type": "code",
   "execution_count": 40,
   "metadata": {},
   "outputs": [
    {
     "data": {
      "text/html": [
       "<div>\n",
       "<style scoped>\n",
       "    .dataframe tbody tr th:only-of-type {\n",
       "        vertical-align: middle;\n",
       "    }\n",
       "\n",
       "    .dataframe tbody tr th {\n",
       "        vertical-align: top;\n",
       "    }\n",
       "\n",
       "    .dataframe thead th {\n",
       "        text-align: right;\n",
       "    }\n",
       "</style>\n",
       "<table border=\"1\" class=\"dataframe\">\n",
       "  <thead>\n",
       "    <tr style=\"text-align: right;\">\n",
       "      <th></th>\n",
       "      <th>pickup_datetime</th>\n",
       "    </tr>\n",
       "  </thead>\n",
       "  <tbody>\n",
       "    <tr>\n",
       "      <th>0</th>\n",
       "      <td>2015-01-27 13:08:24</td>\n",
       "    </tr>\n",
       "    <tr>\n",
       "      <th>1</th>\n",
       "      <td>2015-01-27 13:08:24</td>\n",
       "    </tr>\n",
       "    <tr>\n",
       "      <th>2</th>\n",
       "      <td>2011-10-08 11:53:44</td>\n",
       "    </tr>\n",
       "    <tr>\n",
       "      <th>3</th>\n",
       "      <td>2012-12-01 21:12:12</td>\n",
       "    </tr>\n",
       "    <tr>\n",
       "      <th>4</th>\n",
       "      <td>2012-12-01 21:12:12</td>\n",
       "    </tr>\n",
       "  </tbody>\n",
       "</table>\n",
       "</div>"
      ],
      "text/plain": [
       "      pickup_datetime\n",
       "0 2015-01-27 13:08:24\n",
       "1 2015-01-27 13:08:24\n",
       "2 2011-10-08 11:53:44\n",
       "3 2012-12-01 21:12:12\n",
       "4 2012-12-01 21:12:12"
      ]
     },
     "execution_count": 40,
     "metadata": {},
     "output_type": "execute_result"
    }
   ],
   "source": [
    "test_pickup_datetime.head()"
   ]
  },
  {
   "cell_type": "code",
   "execution_count": 41,
   "metadata": {},
   "outputs": [],
   "source": [
    "#Droping pickup_datetime variable\n",
    "train=train.drop(\"pickup_datetime\",axis=1)\n",
    "test=test.drop(\"pickup_datetime\",axis=1)"
   ]
  },
  {
   "cell_type": "markdown",
   "metadata": {},
   "source": [
    "#First lets see how fare_amount varies with year,month,day,hour by ploting some visualizations"
   ]
  },
  {
   "cell_type": "markdown",
   "metadata": {},
   "source": [
    "a) fare_amount with year"
   ]
  },
  {
   "cell_type": "code",
   "execution_count": 54,
   "metadata": {},
   "outputs": [
    {
     "data": {
      "image/png": "[encoded data removed]",
      "text/plain": [
       "<Figure size 1440x360 with 1 Axes>"
      ]
     },
     "metadata": {},
     "output_type": "display_data"
    }
   ],
   "source": [
    "#Lets check how numbers of trips vary with year\n",
    "plt.figure(figsize=[20,5])\n",
    "ax=sns.countplot(train[\"year\"]).set_title(\"trips per year\")"
   ]
  },
  {
   "cell_type": "code",
   "execution_count": 55,
   "metadata": {},
   "outputs": [],
   "source": [
    "avgfare_year=train.groupby([\"year\"])[\"fare_amount\"].mean().reset_index()\n",
    "avgfare_year=avgfare_year.rename(columns={\"fare_amount\":\"Avg_fare\"})"
   ]
  },
  {
   "cell_type": "code",
   "execution_count": 56,
   "metadata": {
    "collapsed": true
   },
   "outputs": [
    {
     "data": {
      "text/html": [
       "<div>\n",
       "<style scoped>\n",
       "    .dataframe tbody tr th:only-of-type {\n",
       "        vertical-align: middle;\n",
       "    }\n",
       "\n",
       "    .dataframe tbody tr th {\n",
       "        vertical-align: top;\n",
       "    }\n",
       "\n",
       "    .dataframe thead th {\n",
       "        text-align: right;\n",
       "    }\n",
       "</style>\n",
       "<table border=\"1\" class=\"dataframe\">\n",
       "  <thead>\n",
       "    <tr style=\"text-align: right;\">\n",
       "      <th></th>\n",
       "      <th>year</th>\n",
       "      <th>Avg_fare</th>\n",
       "    </tr>\n",
       "  </thead>\n",
       "  <tbody>\n",
       "    <tr>\n",
       "      <th>0</th>\n",
       "      <td>2009</td>\n",
       "      <td>10.237289</td>\n",
       "    </tr>\n",
       "    <tr>\n",
       "      <th>1</th>\n",
       "      <td>2010</td>\n",
       "      <td>9.983124</td>\n",
       "    </tr>\n",
       "    <tr>\n",
       "      <th>2</th>\n",
       "      <td>2011</td>\n",
       "      <td>10.348716</td>\n",
       "    </tr>\n",
       "    <tr>\n",
       "      <th>3</th>\n",
       "      <td>2012</td>\n",
       "      <td>11.418901</td>\n",
       "    </tr>\n",
       "    <tr>\n",
       "      <th>4</th>\n",
       "      <td>2013</td>\n",
       "      <td>12.267346</td>\n",
       "    </tr>\n",
       "    <tr>\n",
       "      <th>5</th>\n",
       "      <td>2014</td>\n",
       "      <td>13.008834</td>\n",
       "    </tr>\n",
       "    <tr>\n",
       "      <th>6</th>\n",
       "      <td>2015</td>\n",
       "      <td>12.791984</td>\n",
       "    </tr>\n",
       "  </tbody>\n",
       "</table>\n",
       "</div>"
      ],
      "text/plain": [
       "   year   Avg_fare\n",
       "0  2009  10.237289\n",
       "1  2010   9.983124\n",
       "2  2011  10.348716\n",
       "3  2012  11.418901\n",
       "4  2013  12.267346\n",
       "5  2014  13.008834\n",
       "6  2015  12.791984"
      ]
     },
     "execution_count": 56,
     "metadata": {},
     "output_type": "execute_result"
    }
   ],
   "source": [
    "avgfare_year"
   ]
  },
  {
   "cell_type": "code",
   "execution_count": 57,
   "metadata": {},
   "outputs": [
    {
     "data": {
      "text/plain": [
       "Text(0.5, 1.0, 'Avg Fare Amount over Years')"
      ]
     },
     "execution_count": 57,
     "metadata": {},
     "output_type": "execute_result"
    },
    {
     "data": {
      "image/png": "[encoded data removed]",
      "text/plain": [
       "<Figure size 432x288 with 1 Axes>"
      ]
     },
     "metadata": {},
     "output_type": "display_data"
    }
   ],
   "source": [
    "#Lets check how fare_amount varies with year\n",
    "sns.barplot(x='year',y='Avg_fare',data=avgfare_year).set_title(\"Avg Fare Amount over Years\")               "
   ]
  },
  {
   "cell_type": "markdown",
   "metadata": {},
   "source": [
    "From above we can clearly say that fare_amount is increasing with pickup_year"
   ]
  },
  {
   "cell_type": "markdown",
   "metadata": {},
   "source": [
    "b) fare_amount and month"
   ]
  },
  {
   "cell_type": "code",
   "execution_count": 58,
   "metadata": {},
   "outputs": [
    {
     "data": {
      "image/png": "[encoded data removed]",
      "text/plain": [
       "<Figure size 1440x360 with 1 Axes>"
      ]
     },
     "metadata": {},
     "output_type": "display_data"
    }
   ],
   "source": [
    "#Lets check how numbers of trips vary with months\n",
    "plt.figure(figsize=[20,5])\n",
    "ax=sns.countplot(train[\"month\"]).set_title(\"trips per month\")"
   ]
  },
  {
   "cell_type": "code",
   "execution_count": 59,
   "metadata": {},
   "outputs": [],
   "source": [
    "avgfare_month=train.groupby([\"month\"])[\"fare_amount\"].mean().reset_index()\n",
    "avgfare_month=avgfare_month.rename(columns={\"fare_amount\":\"Avg_fare\"})"
   ]
  },
  {
   "cell_type": "code",
   "execution_count": 60,
   "metadata": {},
   "outputs": [
    {
     "data": {
      "text/plain": [
       "Text(0.5, 1.0, 'Avg Fare Amount over months')"
      ]
     },
     "execution_count": 60,
     "metadata": {},
     "output_type": "execute_result"
    },
    {
     "data": {
      "image/png": "[encoded data removed]",
      "text/plain": [
       "<Figure size 432x288 with 1 Axes>"
      ]
     },
     "metadata": {},
     "output_type": "display_data"
    }
   ],
   "source": [
    "#Lets check how fare_amount varies with \n",
    "sns.barplot(x='month',y='Avg_fare',data=avgfare_month).set_title(\"Avg Fare Amount over months\")"
   ]
  },
  {
   "cell_type": "markdown",
   "metadata": {},
   "source": [
    "avg fare amount is varying with months, avg fare from month 2 to 5 and 8 to 12 is high as compare to other months"
   ]
  },
  {
   "cell_type": "markdown",
   "metadata": {},
   "source": [
    "c) fare_amount and pickup_dayofweek"
   ]
  },
  {
   "cell_type": "code",
   "execution_count": 61,
   "metadata": {},
   "outputs": [
    {
     "data": {
      "image/png": "[encoded data removed]",
      "text/plain": [
       "<Figure size 1440x360 with 1 Axes>"
      ]
     },
     "metadata": {},
     "output_type": "display_data"
    }
   ],
   "source": [
    "#Lets check how numbers of trips vary with day\n",
    "plt.figure(figsize=[20,5])\n",
    "ax=sns.countplot(train[\"dayofweek\"]).set_title(\"trips per day\")"
   ]
  },
  {
   "cell_type": "code",
   "execution_count": 62,
   "metadata": {},
   "outputs": [],
   "source": [
    "avgfare_day=train.groupby([\"dayofweek\"])[\"fare_amount\"].mean().reset_index()\n",
    "avgfare_day=avgfare_day.rename(columns={\"fare_amount\":\"Avg_fare\"})"
   ]
  },
  {
   "cell_type": "code",
   "execution_count": 63,
   "metadata": {},
   "outputs": [
    {
     "data": {
      "text/plain": [
       "Text(0.5, 1.0, 'Avg Fare Amount over day')"
      ]
     },
     "execution_count": 63,
     "metadata": {},
     "output_type": "execute_result"
    },
    {
     "data": {
      "image/png": "[encoded data removed]",
      "text/plain": [
       "<Figure size 432x288 with 1 Axes>"
      ]
     },
     "metadata": {},
     "output_type": "display_data"
    }
   ],
   "source": [
    "#Lets check how fare_amount varies with year\n",
    "sns.barplot(x='dayofweek',y='Avg_fare',data=avgfare_day).set_title(\"Avg Fare Amount over day\")"
   ]
  },
  {
   "cell_type": "markdown",
   "metadata": {},
   "source": [
    "fare is almost same on every day of week except for weekends, it is slightly higher on saturday and sunday"
   ]
  },
  {
   "cell_type": "markdown",
   "metadata": {},
   "source": [
    "d) fare_amount with hour"
   ]
  },
  {
   "cell_type": "code",
   "execution_count": 64,
   "metadata": {},
   "outputs": [
    {
     "data": {
      "image/png": "[encoded data removed]",
      "text/plain": [
       "<Figure size 1440x360 with 1 Axes>"
      ]
     },
     "metadata": {},
     "output_type": "display_data"
    }
   ],
   "source": [
    "#Lets check how numbers of trips vary with day\n",
    "plt.figure(figsize=[20,5])\n",
    "ax=sns.countplot(train[\"hour\"]).set_title(\"trips per hour\")"
   ]
  },
  {
   "cell_type": "code",
   "execution_count": 65,
   "metadata": {},
   "outputs": [],
   "source": [
    "avgfare_hour=train.groupby([\"hour\"])[\"fare_amount\"].mean().reset_index()\n",
    "avgfare_hour=avgfare_hour.rename(columns={\"fare_amount\":\"Avg_fare\"})"
   ]
  },
  {
   "cell_type": "code",
   "execution_count": 66,
   "metadata": {},
   "outputs": [
    {
     "data": {
      "text/plain": [
       "Text(0.5, 1.0, 'Avg Fare Amount over hour')"
      ]
     },
     "execution_count": 66,
     "metadata": {},
     "output_type": "execute_result"
    },
    {
     "data": {
      "image/png": "[encoded data removed]",
      "text/plain": [
       "<Figure size 1440x360 with 1 Axes>"
      ]
     },
     "metadata": {},
     "output_type": "display_data"
    }
   ],
   "source": [
    "#Lets check how fare_amount varies with hour\n",
    "plt.figure(figsize=(20,5))\n",
    "sns.barplot(x='hour',y='Avg_fare',data=avgfare_hour).set_title(\"Avg Fare Amount over hour\")"
   ]
  },
  {
   "cell_type": "markdown",
   "metadata": {},
   "source": [
    "fare_amount is highest at 5 AM. It is higher from 1 AM to 5 AM and 2 PM to 4 PM"
   ]
  },
  {
   "cell_type": "code",
   "execution_count": 37,
   "metadata": {},
   "outputs": [
    {
     "data": {
      "text/plain": [
       "((15568, 11), (9914, 10))"
      ]
     },
     "execution_count": 37,
     "metadata": {},
     "output_type": "execute_result"
    }
   ],
   "source": [
    "train.shape, test.shape"
   ]
  },
  {
   "cell_type": "code",
   "execution_count": 38,
   "metadata": {
    "collapsed": true
   },
   "outputs": [
    {
     "data": {
      "text/html": [
       "<div>\n",
       "<style scoped>\n",
       "    .dataframe tbody tr th:only-of-type {\n",
       "        vertical-align: middle;\n",
       "    }\n",
       "\n",
       "    .dataframe tbody tr th {\n",
       "        vertical-align: top;\n",
       "    }\n",
       "\n",
       "    .dataframe thead th {\n",
       "        text-align: right;\n",
       "    }\n",
       "</style>\n",
       "<table border=\"1\" class=\"dataframe\">\n",
       "  <thead>\n",
       "    <tr style=\"text-align: right;\">\n",
       "      <th></th>\n",
       "      <th>fare_amount</th>\n",
       "      <th>pickup_longitude</th>\n",
       "      <th>pickup_latitude</th>\n",
       "      <th>dropoff_longitude</th>\n",
       "      <th>dropoff_latitude</th>\n",
       "      <th>trip_distance</th>\n",
       "      <th>year</th>\n",
       "      <th>month</th>\n",
       "      <th>dayofweek</th>\n",
       "      <th>hour</th>\n",
       "    </tr>\n",
       "  </thead>\n",
       "  <tbody>\n",
       "    <tr>\n",
       "      <th>count</th>\n",
       "      <td>15568.000000</td>\n",
       "      <td>15568.000000</td>\n",
       "      <td>15568.000000</td>\n",
       "      <td>15568.000000</td>\n",
       "      <td>15568.000000</td>\n",
       "      <td>15568.000000</td>\n",
       "      <td>15568.000000</td>\n",
       "      <td>15568.000000</td>\n",
       "      <td>15568.000000</td>\n",
       "      <td>15568.000000</td>\n",
       "    </tr>\n",
       "    <tr>\n",
       "      <th>mean</th>\n",
       "      <td>11.310989</td>\n",
       "      <td>-73.974803</td>\n",
       "      <td>40.750920</td>\n",
       "      <td>-73.973839</td>\n",
       "      <td>40.751410</td>\n",
       "      <td>3.412856</td>\n",
       "      <td>2011.733428</td>\n",
       "      <td>6.268885</td>\n",
       "      <td>3.033530</td>\n",
       "      <td>13.501156</td>\n",
       "    </tr>\n",
       "    <tr>\n",
       "      <th>std</th>\n",
       "      <td>9.615190</td>\n",
       "      <td>0.041564</td>\n",
       "      <td>0.038032</td>\n",
       "      <td>0.039393</td>\n",
       "      <td>0.039694</td>\n",
       "      <td>4.593500</td>\n",
       "      <td>1.869270</td>\n",
       "      <td>3.447543</td>\n",
       "      <td>1.970106</td>\n",
       "      <td>6.507419</td>\n",
       "    </tr>\n",
       "    <tr>\n",
       "      <th>min</th>\n",
       "      <td>1.140000</td>\n",
       "      <td>-74.438233</td>\n",
       "      <td>39.603178</td>\n",
       "      <td>-74.429332</td>\n",
       "      <td>39.604972</td>\n",
       "      <td>0.000000</td>\n",
       "      <td>2009.000000</td>\n",
       "      <td>1.000000</td>\n",
       "      <td>0.000000</td>\n",
       "      <td>0.000000</td>\n",
       "    </tr>\n",
       "    <tr>\n",
       "      <th>25%</th>\n",
       "      <td>6.000000</td>\n",
       "      <td>-73.992375</td>\n",
       "      <td>40.736589</td>\n",
       "      <td>-73.991372</td>\n",
       "      <td>40.736333</td>\n",
       "      <td>1.258931</td>\n",
       "      <td>2010.000000</td>\n",
       "      <td>3.000000</td>\n",
       "      <td>1.000000</td>\n",
       "      <td>9.000000</td>\n",
       "    </tr>\n",
       "    <tr>\n",
       "      <th>50%</th>\n",
       "      <td>8.500000</td>\n",
       "      <td>-73.982051</td>\n",
       "      <td>40.753357</td>\n",
       "      <td>-73.980563</td>\n",
       "      <td>40.754242</td>\n",
       "      <td>2.174004</td>\n",
       "      <td>2012.000000</td>\n",
       "      <td>6.000000</td>\n",
       "      <td>3.000000</td>\n",
       "      <td>14.000000</td>\n",
       "    </tr>\n",
       "    <tr>\n",
       "      <th>75%</th>\n",
       "      <td>12.500000</td>\n",
       "      <td>-73.968082</td>\n",
       "      <td>40.767808</td>\n",
       "      <td>-73.965397</td>\n",
       "      <td>40.768331</td>\n",
       "      <td>3.903528</td>\n",
       "      <td>2013.000000</td>\n",
       "      <td>9.000000</td>\n",
       "      <td>5.000000</td>\n",
       "      <td>19.000000</td>\n",
       "    </tr>\n",
       "    <tr>\n",
       "      <th>max</th>\n",
       "      <td>180.000000</td>\n",
       "      <td>-73.137393</td>\n",
       "      <td>41.366138</td>\n",
       "      <td>-73.137393</td>\n",
       "      <td>41.366138</td>\n",
       "      <td>130.095302</td>\n",
       "      <td>2015.000000</td>\n",
       "      <td>12.000000</td>\n",
       "      <td>6.000000</td>\n",
       "      <td>23.000000</td>\n",
       "    </tr>\n",
       "  </tbody>\n",
       "</table>\n",
       "</div>"
      ],
      "text/plain": [
       "        fare_amount  pickup_longitude  pickup_latitude  dropoff_longitude  \\\n",
       "count  15568.000000      15568.000000     15568.000000       15568.000000   \n",
       "mean      11.310989        -73.974803        40.750920         -73.973839   \n",
       "std        9.615190          0.041564         0.038032           0.039393   \n",
       "min        1.140000        -74.438233        39.603178         -74.429332   \n",
       "25%        6.000000        -73.992375        40.736589         -73.991372   \n",
       "50%        8.500000        -73.982051        40.753357         -73.980563   \n",
       "75%       12.500000        -73.968082        40.767808         -73.965397   \n",
       "max      180.000000        -73.137393        41.366138         -73.137393   \n",
       "\n",
       "       dropoff_latitude  trip_distance          year         month  \\\n",
       "count      15568.000000   15568.000000  15568.000000  15568.000000   \n",
       "mean          40.751410       3.412856   2011.733428      6.268885   \n",
       "std            0.039694       4.593500      1.869270      3.447543   \n",
       "min           39.604972       0.000000   2009.000000      1.000000   \n",
       "25%           40.736333       1.258931   2010.000000      3.000000   \n",
       "50%           40.754242       2.174004   2012.000000      6.000000   \n",
       "75%           40.768331       3.903528   2013.000000      9.000000   \n",
       "max           41.366138     130.095302   2015.000000     12.000000   \n",
       "\n",
       "          dayofweek          hour  \n",
       "count  15568.000000  15568.000000  \n",
       "mean       3.033530     13.501156  \n",
       "std        1.970106      6.507419  \n",
       "min        0.000000      0.000000  \n",
       "25%        1.000000      9.000000  \n",
       "50%        3.000000     14.000000  \n",
       "75%        5.000000     19.000000  \n",
       "max        6.000000     23.000000  "
      ]
     },
     "execution_count": 38,
     "metadata": {},
     "output_type": "execute_result"
    }
   ],
   "source": [
    "train.describe()"
   ]
  },
  {
   "cell_type": "code",
   "execution_count": 69,
   "metadata": {
    "collapsed": true
   },
   "outputs": [
    {
     "name": "stdout",
     "output_type": "stream",
     "text": [
      "<class 'pandas.core.frame.DataFrame'>\n",
      "Int64Index: 15568 entries, 0 to 16065\n",
      "Data columns (total 11 columns):\n",
      "fare_amount          15568 non-null float64\n",
      "pickup_longitude     15568 non-null float64\n",
      "pickup_latitude      15568 non-null float64\n",
      "dropoff_longitude    15568 non-null float64\n",
      "dropoff_latitude     15568 non-null float64\n",
      "passenger_count      15568 non-null object\n",
      "trip_distance        15568 non-null float64\n",
      "year                 15568 non-null int64\n",
      "month                15568 non-null int64\n",
      "dayofweek            15568 non-null int64\n",
      "hour                 15568 non-null int64\n",
      "dtypes: float64(6), int64(4), object(1)\n",
      "memory usage: 2.1+ MB\n",
      "<class 'pandas.core.frame.DataFrame'>\n",
      "RangeIndex: 9914 entries, 0 to 9913\n",
      "Data columns (total 10 columns):\n",
      "pickup_longitude     9914 non-null float64\n",
      "pickup_latitude      9914 non-null float64\n",
      "dropoff_longitude    9914 non-null float64\n",
      "dropoff_latitude     9914 non-null float64\n",
      "passenger_count      9914 non-null object\n",
      "trip_distance        9914 non-null float64\n",
      "year                 9914 non-null int64\n",
      "month                9914 non-null int64\n",
      "dayofweek            9914 non-null int64\n",
      "hour                 9914 non-null int64\n",
      "dtypes: float64(5), int64(4), object(1)\n",
      "memory usage: 774.7+ KB\n"
     ]
    },
    {
     "data": {
      "text/plain": [
       "(None, None)"
      ]
     },
     "execution_count": 69,
     "metadata": {},
     "output_type": "execute_result"
    }
   ],
   "source": [
    "train.info() , test.info()"
   ]
  },
  {
   "cell_type": "code",
   "execution_count": 42,
   "metadata": {},
   "outputs": [],
   "source": [
    "for i in [\"year\",\"month\",\"hour\",\"dayofweek\"]:\n",
    "    train[i]=train[i].astype(object)\n",
    "    test[i]=test[i].astype(object)"
   ]
  },
  {
   "cell_type": "markdown",
   "metadata": {},
   "source": [
    "# Feature selection"
   ]
  },
  {
   "cell_type": "markdown",
   "metadata": {},
   "source": [
    "# Correlation curve for numeric variable"
   ]
  },
  {
   "cell_type": "markdown",
   "metadata": {},
   "source": [
    "#Our target here is to remove the independent variable which have dependencies on each other, so if the correlation value is high between two independent variable we have to drop one of them"
   ]
  },
  {
   "cell_type": "code",
   "execution_count": 40,
   "metadata": {},
   "outputs": [],
   "source": [
    "numeric=[\"fare_amount\",\"pickup_latitude\",\"pickup_longitude\",\"dropoff_latitude\",\"dropoff_longitude\",\"trip_distance\"]"
   ]
  },
  {
   "cell_type": "code",
   "execution_count": 41,
   "metadata": {},
   "outputs": [],
   "source": [
    "df=train.loc[:,numeric]"
   ]
  },
  {
   "cell_type": "code",
   "execution_count": 42,
   "metadata": {},
   "outputs": [
    {
     "data": {
      "text/plain": [
       "(15568, 6)"
      ]
     },
     "execution_count": 42,
     "metadata": {},
     "output_type": "execute_result"
    }
   ],
   "source": [
    "df.shape"
   ]
  },
  {
   "cell_type": "code",
   "execution_count": 74,
   "metadata": {},
   "outputs": [
    {
     "data": {
      "text/plain": [
       "(0, 6)"
      ]
     },
     "execution_count": 74,
     "metadata": {},
     "output_type": "execute_result"
    },
    {
     "data": {
      "image/png": "[encoded data removed]",
      "text/plain": [
       "<Figure size 360x360 with 2 Axes>"
      ]
     },
     "metadata": {},
     "output_type": "display_data"
    }
   ],
   "source": [
    "plt.figure(figsize=(5,5))\n",
    "corr=df.corr()\n",
    "ax=sns.heatmap(corr,cmap=sns.diverging_palette(220,10,as_cmap=True),square=True,annot=True)\n",
    "ax.set_ylim(0,6)"
   ]
  },
  {
   "cell_type": "markdown",
   "metadata": {},
   "source": [
    "As we can see that no variable is highly coorelated with other."
   ]
  },
  {
   "cell_type": "markdown",
   "metadata": {},
   "source": [
    "# Chi-square thest for categorical variables"
   ]
  },
  {
   "cell_type": "markdown",
   "metadata": {},
   "source": [
    "Hypothesis testing;  Null Hypothesis: two variables are independent,\n",
    "                       Alternate Hypothesis: two variables are not independent.\n",
    "We do chi-square test to find out whether to reject the null hypothesis or to accept it, If p-value is less than 0.05 then we reject the null hypothesis saying that 2 variables are dependent and if p-value is greater than 0.05 then we accept the null hypothesis saying that 2 variables are independent. \n",
    "Our target here is to remove the independent variable which have dependencies on each other,So we will remove that variable whose p-value with other variable is low than 0.05"
   ]
  },
  {
   "cell_type": "code",
   "execution_count": 75,
   "metadata": {},
   "outputs": [],
   "source": [
    "objects=[\"passenger_count\",\"year\",\"month\",\"hour\"]"
   ]
  },
  {
   "cell_type": "code",
   "execution_count": 76,
   "metadata": {},
   "outputs": [
    {
     "name": "stdout",
     "output_type": "stream",
     "text": [
      "passenger_count and year\n",
      "False 1.3398554689625531e-30\n",
      "passenger_count and month\n",
      "True 0.09174499105258749\n",
      "passenger_count and hour\n",
      "False 8.9524811703997e-12\n",
      "year and passenger_count\n",
      "False 1.3398554689625531e-30\n",
      "year and month\n",
      "False 1.4256260751980676e-183\n",
      "year and hour\n",
      "True 0.14942721560772002\n",
      "month and passenger_count\n",
      "True 0.09174499105258749\n",
      "month and year\n",
      "False 1.4256260751979857e-183\n",
      "month and hour\n",
      "True 0.7390110410762918\n",
      "hour and passenger_count\n",
      "False 8.9524811703997e-12\n",
      "hour and year\n",
      "True 0.14942721560772002\n",
      "hour and month\n",
      "True 0.7390110410762918\n"
     ]
    }
   ],
   "source": [
    "for i in objects:\n",
    "    for j in objects:\n",
    "        if(i != j):\n",
    "            print(i,\"and\",j)\n",
    "            chi2, p, dof, ex = chi2_contingency(pd.crosstab(train[i], train[j]))\n",
    "            print(p>0.05,p)"
   ]
  },
  {
   "cell_type": "markdown",
   "metadata": {},
   "source": [
    "SO, We write the variables with higher p-value from above: \n",
    "(passenger_count and month,True,0.14122278751501335),\n",
    "(year and hour,True,0.15886983764220838),\n",
    "(hour and month,True,0.6855686895917862),\n",
    "(dayofweek and year,True,0.1370572991993649) and (dayofweek and month,True,0.2942806449248877)"
   ]
  },
  {
   "cell_type": "markdown",
   "metadata": {},
   "source": [
    "from plots we done in feature engineering step between fare_amount / year, month, dayofweek and hour, we can see dayoff_week does not have much effect on fare_amount. so before dropping any variable lets do ANOVA test to see relationship of these categorical variables and Target variable "
   ]
  },
  {
   "cell_type": "markdown",
   "metadata": {},
   "source": [
    "#Befor that lets see the variation in fare_amount with passenger_count"
   ]
  },
  {
   "cell_type": "code",
   "execution_count": 148,
   "metadata": {
    "scrolled": true
   },
   "outputs": [
    {
     "data": {
      "image/png": "[encoded data removed]",
      "text/plain": [
       "<Figure size 1440x360 with 1 Axes>"
      ]
     },
     "metadata": {},
     "output_type": "display_data"
    }
   ],
   "source": [
    "#Lets check how numbers of trips vary with each value of passenger_count\n",
    "plt.figure(figsize=[20,5])\n",
    "ax=sns.countplot(train[\"passenger_count\"]).set_title(\"passenger per trip\")"
   ]
  },
  {
   "cell_type": "markdown",
   "metadata": {
    "scrolled": true
   },
   "source": [
    "most of the ride are with passenger_count 1"
   ]
  },
  {
   "cell_type": "code",
   "execution_count": 144,
   "metadata": {},
   "outputs": [
    {
     "name": "stderr",
     "output_type": "stream",
     "text": [
      "C:\\Users\\hp\\Anaconda3\\lib\\site-packages\\ipykernel_launcher.py:6: UserWarning: Tight layout not applied. tight_layout cannot make axes width small enough to accommodate all axes decorations\n",
      "  \n"
     ]
    },
    {
     "data": {
      "text/plain": [
       "<Figure size 1440x360 with 0 Axes>"
      ]
     },
     "metadata": {},
     "output_type": "display_data"
    },
    {
     "data": {
      "image/png": "[encoded data removed]",
      "text/plain": [
       "<Figure size 432x432 with 3 Axes>"
      ]
     },
     "metadata": {},
     "output_type": "display_data"
    }
   ],
   "source": [
    "plt.figure(figsize=(20,5))\n",
    "sns.jointplot(x=\"passenger_count\",y=\"fare_amount\",data=train,kind=\"scatter\",color=\"blue\")\n",
    "plt.xlabel(\"passenger_count\")\n",
    "plt.ylabel(\"faer_amount\")\n",
    "plt.title(\"Fare Amount vs passenger_count\")\n",
    "plt.tight_layout()"
   ]
  },
  {
   "cell_type": "markdown",
   "metadata": {},
   "source": [
    "fare_amount is higher in case of passenger_count 1 and 2."
   ]
  },
  {
   "cell_type": "markdown",
   "metadata": {},
   "source": [
    "# ANOVA - Analysis of variance"
   ]
  },
  {
   "cell_type": "markdown",
   "metadata": {},
   "source": [
    "ANOVA only lets us know the means for different groups are same or not.\n",
    "Hypothesis testing; Null Hypothesis: mean of all categories in a variable are same, Alternate Hypothesis: mean of at least one category in a variable is different.\n",
    "If p-value is less than 0.05 then we reject the null hypothesis.\n",
    "And if p-value is greater than 0.05 then we accept the null hypothesis."
   ]
  },
  {
   "cell_type": "code",
   "execution_count": 38,
   "metadata": {},
   "outputs": [
    {
     "data": {
      "text/html": [
       "<div>\n",
       "<style scoped>\n",
       "    .dataframe tbody tr th:only-of-type {\n",
       "        vertical-align: middle;\n",
       "    }\n",
       "\n",
       "    .dataframe tbody tr th {\n",
       "        vertical-align: top;\n",
       "    }\n",
       "\n",
       "    .dataframe thead th {\n",
       "        text-align: right;\n",
       "    }\n",
       "</style>\n",
       "<table border=\"1\" class=\"dataframe\">\n",
       "  <thead>\n",
       "    <tr style=\"text-align: right;\">\n",
       "      <th></th>\n",
       "      <th>df</th>\n",
       "      <th>sum_sq</th>\n",
       "      <th>mean_sq</th>\n",
       "      <th>F</th>\n",
       "      <th>PR(&gt;F)</th>\n",
       "    </tr>\n",
       "  </thead>\n",
       "  <tbody>\n",
       "    <tr>\n",
       "      <th>C(passenger_count)</th>\n",
       "      <td>5.0</td>\n",
       "      <td>2.099163e+03</td>\n",
       "      <td>419.832699</td>\n",
       "      <td>4.648301</td>\n",
       "      <td>3.055335e-04</td>\n",
       "    </tr>\n",
       "    <tr>\n",
       "      <th>C(year)</th>\n",
       "      <td>6.0</td>\n",
       "      <td>2.095049e+04</td>\n",
       "      <td>3491.748352</td>\n",
       "      <td>38.659920</td>\n",
       "      <td>6.697679e-47</td>\n",
       "    </tr>\n",
       "    <tr>\n",
       "      <th>C(dayofweek)</th>\n",
       "      <td>6.0</td>\n",
       "      <td>6.181555e+02</td>\n",
       "      <td>103.025914</td>\n",
       "      <td>1.140682</td>\n",
       "      <td>3.355667e-01</td>\n",
       "    </tr>\n",
       "    <tr>\n",
       "      <th>C(month)</th>\n",
       "      <td>11.0</td>\n",
       "      <td>5.892329e+03</td>\n",
       "      <td>535.666276</td>\n",
       "      <td>5.930787</td>\n",
       "      <td>1.022714e-09</td>\n",
       "    </tr>\n",
       "    <tr>\n",
       "      <th>C(hour)</th>\n",
       "      <td>23.0</td>\n",
       "      <td>8.239487e+03</td>\n",
       "      <td>358.238581</td>\n",
       "      <td>3.966344</td>\n",
       "      <td>4.789158e-10</td>\n",
       "    </tr>\n",
       "    <tr>\n",
       "      <th>Residual</th>\n",
       "      <td>15516.0</td>\n",
       "      <td>1.401399e+06</td>\n",
       "      <td>90.319597</td>\n",
       "      <td>NaN</td>\n",
       "      <td>NaN</td>\n",
       "    </tr>\n",
       "  </tbody>\n",
       "</table>\n",
       "</div>"
      ],
      "text/plain": [
       "                         df        sum_sq      mean_sq          F  \\\n",
       "C(passenger_count)      5.0  2.099163e+03   419.832699   4.648301   \n",
       "C(year)                 6.0  2.095049e+04  3491.748352  38.659920   \n",
       "C(dayofweek)            6.0  6.181555e+02   103.025914   1.140682   \n",
       "C(month)               11.0  5.892329e+03   535.666276   5.930787   \n",
       "C(hour)                23.0  8.239487e+03   358.238581   3.966344   \n",
       "Residual            15516.0  1.401399e+06    90.319597        NaN   \n",
       "\n",
       "                          PR(>F)  \n",
       "C(passenger_count)  3.055335e-04  \n",
       "C(year)             6.697679e-47  \n",
       "C(dayofweek)        3.355667e-01  \n",
       "C(month)            1.022714e-09  \n",
       "C(hour)             4.789158e-10  \n",
       "Residual                     NaN  "
      ]
     },
     "execution_count": 38,
     "metadata": {},
     "output_type": "execute_result"
    }
   ],
   "source": [
    "model = ols(\"fare_amount ~ C(passenger_count)+C(year)+C(dayofweek)+C(month)+C(hour)\",data=train).fit()\n",
    "aov_table = sm.stats.anova_lm(model)\n",
    "aov_table"
   ]
  },
  {
   "cell_type": "markdown",
   "metadata": {},
   "source": [
    "As we can see p value for pickup_dayofweek is greater than 0.05 hence we accept null hypothesis for the variable. we are dropping the variable by saying fare_amount have same mean for all values od pickup_dayofweek"
   ]
  },
  {
   "cell_type": "code",
   "execution_count": 43,
   "metadata": {},
   "outputs": [],
   "source": [
    "train=train.drop(\"dayofweek\",axis=1)"
   ]
  },
  {
   "cell_type": "code",
   "execution_count": 44,
   "metadata": {},
   "outputs": [],
   "source": [
    "test=test.drop(\"dayofweek\",axis=1)"
   ]
  },
  {
   "cell_type": "code",
   "execution_count": 41,
   "metadata": {},
   "outputs": [
    {
     "data": {
      "text/html": [
       "<div>\n",
       "<style scoped>\n",
       "    .dataframe tbody tr th:only-of-type {\n",
       "        vertical-align: middle;\n",
       "    }\n",
       "\n",
       "    .dataframe tbody tr th {\n",
       "        vertical-align: top;\n",
       "    }\n",
       "\n",
       "    .dataframe thead th {\n",
       "        text-align: right;\n",
       "    }\n",
       "</style>\n",
       "<table border=\"1\" class=\"dataframe\">\n",
       "  <thead>\n",
       "    <tr style=\"text-align: right;\">\n",
       "      <th></th>\n",
       "      <th>fare_amount</th>\n",
       "      <th>pickup_longitude</th>\n",
       "      <th>pickup_latitude</th>\n",
       "      <th>dropoff_longitude</th>\n",
       "      <th>dropoff_latitude</th>\n",
       "      <th>trip_distance</th>\n",
       "    </tr>\n",
       "  </thead>\n",
       "  <tbody>\n",
       "    <tr>\n",
       "      <th>count</th>\n",
       "      <td>15568.000000</td>\n",
       "      <td>15568.000000</td>\n",
       "      <td>15568.000000</td>\n",
       "      <td>15568.000000</td>\n",
       "      <td>15568.000000</td>\n",
       "      <td>15568.000000</td>\n",
       "    </tr>\n",
       "    <tr>\n",
       "      <th>mean</th>\n",
       "      <td>11.310989</td>\n",
       "      <td>-73.974803</td>\n",
       "      <td>40.750920</td>\n",
       "      <td>-73.973839</td>\n",
       "      <td>40.751410</td>\n",
       "      <td>3.412856</td>\n",
       "    </tr>\n",
       "    <tr>\n",
       "      <th>std</th>\n",
       "      <td>9.615190</td>\n",
       "      <td>0.041564</td>\n",
       "      <td>0.038032</td>\n",
       "      <td>0.039393</td>\n",
       "      <td>0.039694</td>\n",
       "      <td>4.593500</td>\n",
       "    </tr>\n",
       "    <tr>\n",
       "      <th>min</th>\n",
       "      <td>1.140000</td>\n",
       "      <td>-74.438233</td>\n",
       "      <td>39.603178</td>\n",
       "      <td>-74.429332</td>\n",
       "      <td>39.604972</td>\n",
       "      <td>0.000000</td>\n",
       "    </tr>\n",
       "    <tr>\n",
       "      <th>25%</th>\n",
       "      <td>6.000000</td>\n",
       "      <td>-73.992375</td>\n",
       "      <td>40.736589</td>\n",
       "      <td>-73.991372</td>\n",
       "      <td>40.736333</td>\n",
       "      <td>1.258931</td>\n",
       "    </tr>\n",
       "    <tr>\n",
       "      <th>50%</th>\n",
       "      <td>8.500000</td>\n",
       "      <td>-73.982051</td>\n",
       "      <td>40.753357</td>\n",
       "      <td>-73.980563</td>\n",
       "      <td>40.754242</td>\n",
       "      <td>2.174004</td>\n",
       "    </tr>\n",
       "    <tr>\n",
       "      <th>75%</th>\n",
       "      <td>12.500000</td>\n",
       "      <td>-73.968082</td>\n",
       "      <td>40.767808</td>\n",
       "      <td>-73.965397</td>\n",
       "      <td>40.768331</td>\n",
       "      <td>3.903528</td>\n",
       "    </tr>\n",
       "    <tr>\n",
       "      <th>max</th>\n",
       "      <td>180.000000</td>\n",
       "      <td>-73.137393</td>\n",
       "      <td>41.366138</td>\n",
       "      <td>-73.137393</td>\n",
       "      <td>41.366138</td>\n",
       "      <td>130.095302</td>\n",
       "    </tr>\n",
       "  </tbody>\n",
       "</table>\n",
       "</div>"
      ],
      "text/plain": [
       "        fare_amount  pickup_longitude  pickup_latitude  dropoff_longitude  \\\n",
       "count  15568.000000      15568.000000     15568.000000       15568.000000   \n",
       "mean      11.310989        -73.974803        40.750920         -73.973839   \n",
       "std        9.615190          0.041564         0.038032           0.039393   \n",
       "min        1.140000        -74.438233        39.603178         -74.429332   \n",
       "25%        6.000000        -73.992375        40.736589         -73.991372   \n",
       "50%        8.500000        -73.982051        40.753357         -73.980563   \n",
       "75%       12.500000        -73.968082        40.767808         -73.965397   \n",
       "max      180.000000        -73.137393        41.366138         -73.137393   \n",
       "\n",
       "       dropoff_latitude  trip_distance  \n",
       "count      15568.000000   15568.000000  \n",
       "mean          40.751410       3.412856  \n",
       "std            0.039694       4.593500  \n",
       "min           39.604972       0.000000  \n",
       "25%           40.736333       1.258931  \n",
       "50%           40.754242       2.174004  \n",
       "75%           40.768331       3.903528  \n",
       "max           41.366138     130.095302  "
      ]
     },
     "execution_count": 41,
     "metadata": {},
     "output_type": "execute_result"
    }
   ],
   "source": [
    "train.describe()"
   ]
  },
  {
   "cell_type": "code",
   "execution_count": 45,
   "metadata": {},
   "outputs": [
    {
     "name": "stdout",
     "output_type": "stream",
     "text": [
      "<class 'pandas.core.frame.DataFrame'>\n",
      "Int64Index: 15568 entries, 0 to 16065\n",
      "Data columns (total 10 columns):\n",
      "fare_amount          15568 non-null float64\n",
      "pickup_longitude     15568 non-null float64\n",
      "pickup_latitude      15568 non-null float64\n",
      "dropoff_longitude    15568 non-null float64\n",
      "dropoff_latitude     15568 non-null float64\n",
      "passenger_count      15568 non-null object\n",
      "trip_distance        15568 non-null float64\n",
      "year                 15568 non-null object\n",
      "month                15568 non-null object\n",
      "hour                 15568 non-null object\n",
      "dtypes: float64(6), object(4)\n",
      "memory usage: 1.3+ MB\n"
     ]
    }
   ],
   "source": [
    "train.info()"
   ]
  },
  {
   "cell_type": "code",
   "execution_count": 43,
   "metadata": {},
   "outputs": [
    {
     "data": {
      "text/html": [
       "<div>\n",
       "<style scoped>\n",
       "    .dataframe tbody tr th:only-of-type {\n",
       "        vertical-align: middle;\n",
       "    }\n",
       "\n",
       "    .dataframe tbody tr th {\n",
       "        vertical-align: top;\n",
       "    }\n",
       "\n",
       "    .dataframe thead th {\n",
       "        text-align: right;\n",
       "    }\n",
       "</style>\n",
       "<table border=\"1\" class=\"dataframe\">\n",
       "  <thead>\n",
       "    <tr style=\"text-align: right;\">\n",
       "      <th></th>\n",
       "      <th>fare_amount</th>\n",
       "      <th>pickup_longitude</th>\n",
       "      <th>pickup_latitude</th>\n",
       "      <th>dropoff_longitude</th>\n",
       "      <th>dropoff_latitude</th>\n",
       "      <th>passenger_count</th>\n",
       "      <th>trip_distance</th>\n",
       "      <th>year</th>\n",
       "      <th>month</th>\n",
       "      <th>hour</th>\n",
       "    </tr>\n",
       "  </thead>\n",
       "  <tbody>\n",
       "    <tr>\n",
       "      <th>0</th>\n",
       "      <td>4.5</td>\n",
       "      <td>-73.844311</td>\n",
       "      <td>40.721319</td>\n",
       "      <td>-73.841610</td>\n",
       "      <td>40.712278</td>\n",
       "      <td>1</td>\n",
       "      <td>1.031913</td>\n",
       "      <td>2009</td>\n",
       "      <td>6</td>\n",
       "      <td>17</td>\n",
       "    </tr>\n",
       "    <tr>\n",
       "      <th>1</th>\n",
       "      <td>16.9</td>\n",
       "      <td>-74.016048</td>\n",
       "      <td>40.711303</td>\n",
       "      <td>-73.979268</td>\n",
       "      <td>40.782004</td>\n",
       "      <td>1</td>\n",
       "      <td>8.459551</td>\n",
       "      <td>2010</td>\n",
       "      <td>1</td>\n",
       "      <td>16</td>\n",
       "    </tr>\n",
       "    <tr>\n",
       "      <th>2</th>\n",
       "      <td>5.7</td>\n",
       "      <td>-73.982738</td>\n",
       "      <td>40.761270</td>\n",
       "      <td>-73.991242</td>\n",
       "      <td>40.750562</td>\n",
       "      <td>2</td>\n",
       "      <td>1.391074</td>\n",
       "      <td>2011</td>\n",
       "      <td>8</td>\n",
       "      <td>0</td>\n",
       "    </tr>\n",
       "    <tr>\n",
       "      <th>3</th>\n",
       "      <td>7.7</td>\n",
       "      <td>-73.987130</td>\n",
       "      <td>40.733143</td>\n",
       "      <td>-73.991567</td>\n",
       "      <td>40.758092</td>\n",
       "      <td>1</td>\n",
       "      <td>2.802390</td>\n",
       "      <td>2012</td>\n",
       "      <td>4</td>\n",
       "      <td>4</td>\n",
       "    </tr>\n",
       "    <tr>\n",
       "      <th>4</th>\n",
       "      <td>5.3</td>\n",
       "      <td>-73.968095</td>\n",
       "      <td>40.768008</td>\n",
       "      <td>-73.956655</td>\n",
       "      <td>40.783762</td>\n",
       "      <td>1</td>\n",
       "      <td>2.001385</td>\n",
       "      <td>2010</td>\n",
       "      <td>3</td>\n",
       "      <td>7</td>\n",
       "    </tr>\n",
       "  </tbody>\n",
       "</table>\n",
       "</div>"
      ],
      "text/plain": [
       "   fare_amount  pickup_longitude  pickup_latitude  dropoff_longitude  \\\n",
       "0          4.5        -73.844311        40.721319         -73.841610   \n",
       "1         16.9        -74.016048        40.711303         -73.979268   \n",
       "2          5.7        -73.982738        40.761270         -73.991242   \n",
       "3          7.7        -73.987130        40.733143         -73.991567   \n",
       "4          5.3        -73.968095        40.768008         -73.956655   \n",
       "\n",
       "   dropoff_latitude passenger_count  trip_distance  year month hour  \n",
       "0         40.712278               1       1.031913  2009     6   17  \n",
       "1         40.782004               1       8.459551  2010     1   16  \n",
       "2         40.750562               2       1.391074  2011     8    0  \n",
       "3         40.758092               1       2.802390  2012     4    4  \n",
       "4         40.783762               1       2.001385  2010     3    7  "
      ]
     },
     "execution_count": 43,
     "metadata": {},
     "output_type": "execute_result"
    }
   ],
   "source": [
    "train.head()"
   ]
  },
  {
   "cell_type": "markdown",
   "metadata": {},
   "source": [
    "# Features scaling"
   ]
  },
  {
   "cell_type": "markdown",
   "metadata": {},
   "source": [
    "We have to do feature scaling of independent continous variable in out data set for both train and test data."
   ]
  },
  {
   "cell_type": "code",
   "execution_count": 82,
   "metadata": {},
   "outputs": [
    {
     "data": {
      "text/html": [
       "<div>\n",
       "<style scoped>\n",
       "    .dataframe tbody tr th:only-of-type {\n",
       "        vertical-align: middle;\n",
       "    }\n",
       "\n",
       "    .dataframe tbody tr th {\n",
       "        vertical-align: top;\n",
       "    }\n",
       "\n",
       "    .dataframe thead th {\n",
       "        text-align: right;\n",
       "    }\n",
       "</style>\n",
       "<table border=\"1\" class=\"dataframe\">\n",
       "  <thead>\n",
       "    <tr style=\"text-align: right;\">\n",
       "      <th></th>\n",
       "      <th>fare_amount</th>\n",
       "      <th>pickup_longitude</th>\n",
       "      <th>pickup_latitude</th>\n",
       "      <th>dropoff_longitude</th>\n",
       "      <th>dropoff_latitude</th>\n",
       "      <th>passenger_count</th>\n",
       "      <th>trip_distance</th>\n",
       "      <th>year</th>\n",
       "      <th>month</th>\n",
       "      <th>hour</th>\n",
       "    </tr>\n",
       "  </thead>\n",
       "  <tbody>\n",
       "    <tr>\n",
       "      <th>0</th>\n",
       "      <td>4.5</td>\n",
       "      <td>-73.844311</td>\n",
       "      <td>40.721319</td>\n",
       "      <td>-73.841610</td>\n",
       "      <td>40.712278</td>\n",
       "      <td>1</td>\n",
       "      <td>1.031913</td>\n",
       "      <td>2009</td>\n",
       "      <td>6</td>\n",
       "      <td>17</td>\n",
       "    </tr>\n",
       "    <tr>\n",
       "      <th>1</th>\n",
       "      <td>16.9</td>\n",
       "      <td>-74.016048</td>\n",
       "      <td>40.711303</td>\n",
       "      <td>-73.979268</td>\n",
       "      <td>40.782004</td>\n",
       "      <td>1</td>\n",
       "      <td>8.459551</td>\n",
       "      <td>2010</td>\n",
       "      <td>1</td>\n",
       "      <td>16</td>\n",
       "    </tr>\n",
       "    <tr>\n",
       "      <th>2</th>\n",
       "      <td>5.7</td>\n",
       "      <td>-73.982738</td>\n",
       "      <td>40.761270</td>\n",
       "      <td>-73.991242</td>\n",
       "      <td>40.750562</td>\n",
       "      <td>2</td>\n",
       "      <td>1.391074</td>\n",
       "      <td>2011</td>\n",
       "      <td>8</td>\n",
       "      <td>0</td>\n",
       "    </tr>\n",
       "    <tr>\n",
       "      <th>3</th>\n",
       "      <td>7.7</td>\n",
       "      <td>-73.987130</td>\n",
       "      <td>40.733143</td>\n",
       "      <td>-73.991567</td>\n",
       "      <td>40.758092</td>\n",
       "      <td>1</td>\n",
       "      <td>2.802390</td>\n",
       "      <td>2012</td>\n",
       "      <td>4</td>\n",
       "      <td>4</td>\n",
       "    </tr>\n",
       "    <tr>\n",
       "      <th>4</th>\n",
       "      <td>5.3</td>\n",
       "      <td>-73.968095</td>\n",
       "      <td>40.768008</td>\n",
       "      <td>-73.956655</td>\n",
       "      <td>40.783762</td>\n",
       "      <td>1</td>\n",
       "      <td>2.001385</td>\n",
       "      <td>2010</td>\n",
       "      <td>3</td>\n",
       "      <td>7</td>\n",
       "    </tr>\n",
       "  </tbody>\n",
       "</table>\n",
       "</div>"
      ],
      "text/plain": [
       "   fare_amount  pickup_longitude  pickup_latitude  dropoff_longitude  \\\n",
       "0          4.5        -73.844311        40.721319         -73.841610   \n",
       "1         16.9        -74.016048        40.711303         -73.979268   \n",
       "2          5.7        -73.982738        40.761270         -73.991242   \n",
       "3          7.7        -73.987130        40.733143         -73.991567   \n",
       "4          5.3        -73.968095        40.768008         -73.956655   \n",
       "\n",
       "   dropoff_latitude passenger_count  trip_distance  year month hour  \n",
       "0         40.712278               1       1.031913  2009     6   17  \n",
       "1         40.782004               1       8.459551  2010     1   16  \n",
       "2         40.750562               2       1.391074  2011     8    0  \n",
       "3         40.758092               1       2.802390  2012     4    4  \n",
       "4         40.783762               1       2.001385  2010     3    7  "
      ]
     },
     "execution_count": 82,
     "metadata": {},
     "output_type": "execute_result"
    }
   ],
   "source": [
    "train.head() "
   ]
  },
  {
   "cell_type": "code",
   "execution_count": 83,
   "metadata": {},
   "outputs": [
    {
     "data": {
      "text/html": [
       "<div>\n",
       "<style scoped>\n",
       "    .dataframe tbody tr th:only-of-type {\n",
       "        vertical-align: middle;\n",
       "    }\n",
       "\n",
       "    .dataframe tbody tr th {\n",
       "        vertical-align: top;\n",
       "    }\n",
       "\n",
       "    .dataframe thead th {\n",
       "        text-align: right;\n",
       "    }\n",
       "</style>\n",
       "<table border=\"1\" class=\"dataframe\">\n",
       "  <thead>\n",
       "    <tr style=\"text-align: right;\">\n",
       "      <th></th>\n",
       "      <th>pickup_longitude</th>\n",
       "      <th>pickup_latitude</th>\n",
       "      <th>dropoff_longitude</th>\n",
       "      <th>dropoff_latitude</th>\n",
       "      <th>passenger_count</th>\n",
       "      <th>trip_distance</th>\n",
       "      <th>year</th>\n",
       "      <th>month</th>\n",
       "      <th>dayofweek</th>\n",
       "      <th>hour</th>\n",
       "    </tr>\n",
       "  </thead>\n",
       "  <tbody>\n",
       "    <tr>\n",
       "      <th>0</th>\n",
       "      <td>-73.973320</td>\n",
       "      <td>40.763805</td>\n",
       "      <td>-73.981430</td>\n",
       "      <td>40.743835</td>\n",
       "      <td>1</td>\n",
       "      <td>2.325849</td>\n",
       "      <td>2015</td>\n",
       "      <td>1</td>\n",
       "      <td>1</td>\n",
       "      <td>13</td>\n",
       "    </tr>\n",
       "    <tr>\n",
       "      <th>1</th>\n",
       "      <td>-73.986862</td>\n",
       "      <td>40.719383</td>\n",
       "      <td>-73.998886</td>\n",
       "      <td>40.739201</td>\n",
       "      <td>1</td>\n",
       "      <td>2.428056</td>\n",
       "      <td>2015</td>\n",
       "      <td>1</td>\n",
       "      <td>1</td>\n",
       "      <td>13</td>\n",
       "    </tr>\n",
       "    <tr>\n",
       "      <th>2</th>\n",
       "      <td>-73.982524</td>\n",
       "      <td>40.751260</td>\n",
       "      <td>-73.979654</td>\n",
       "      <td>40.746139</td>\n",
       "      <td>1</td>\n",
       "      <td>0.619317</td>\n",
       "      <td>2011</td>\n",
       "      <td>10</td>\n",
       "      <td>5</td>\n",
       "      <td>11</td>\n",
       "    </tr>\n",
       "    <tr>\n",
       "      <th>3</th>\n",
       "      <td>-73.981160</td>\n",
       "      <td>40.767807</td>\n",
       "      <td>-73.990448</td>\n",
       "      <td>40.751635</td>\n",
       "      <td>1</td>\n",
       "      <td>1.963218</td>\n",
       "      <td>2012</td>\n",
       "      <td>12</td>\n",
       "      <td>5</td>\n",
       "      <td>21</td>\n",
       "    </tr>\n",
       "    <tr>\n",
       "      <th>4</th>\n",
       "      <td>-73.966046</td>\n",
       "      <td>40.789775</td>\n",
       "      <td>-73.988565</td>\n",
       "      <td>40.744427</td>\n",
       "      <td>1</td>\n",
       "      <td>5.393305</td>\n",
       "      <td>2012</td>\n",
       "      <td>12</td>\n",
       "      <td>5</td>\n",
       "      <td>21</td>\n",
       "    </tr>\n",
       "  </tbody>\n",
       "</table>\n",
       "</div>"
      ],
      "text/plain": [
       "   pickup_longitude  pickup_latitude  dropoff_longitude  dropoff_latitude  \\\n",
       "0        -73.973320        40.763805         -73.981430         40.743835   \n",
       "1        -73.986862        40.719383         -73.998886         40.739201   \n",
       "2        -73.982524        40.751260         -73.979654         40.746139   \n",
       "3        -73.981160        40.767807         -73.990448         40.751635   \n",
       "4        -73.966046        40.789775         -73.988565         40.744427   \n",
       "\n",
       "  passenger_count  trip_distance  year month dayofweek hour  \n",
       "0               1       2.325849  2015     1         1   13  \n",
       "1               1       2.428056  2015     1         1   13  \n",
       "2               1       0.619317  2011    10         5   11  \n",
       "3               1       1.963218  2012    12         5   21  \n",
       "4               1       5.393305  2012    12         5   21  "
      ]
     },
     "execution_count": 83,
     "metadata": {},
     "output_type": "execute_result"
    }
   ],
   "source": [
    "test.head()"
   ]
  },
  {
   "cell_type": "code",
   "execution_count": 84,
   "metadata": {
    "scrolled": true
   },
   "outputs": [
    {
     "data": {
      "image/png": "[encoded data removed]",
      "text/plain": [
       "<Figure size 1440x360 with 4 Axes>"
      ]
     },
     "metadata": {},
     "output_type": "display_data"
    }
   ],
   "source": [
    "sns.set_style(\"whitegrid\")\n",
    "plt.figure(figsize=(20,5))\n",
    "plt.subplot(221)\n",
    "sns.distplot(train[\"pickup_longitude\"],color=\"red\").set_title(\"pickup_longitude\")\n",
    "plt.subplot(222)\n",
    "sns.distplot(train[\"dropoff_longitude\"],color=\"black\").set_title(\"dropoff_longitude\")\n",
    "plt.subplot(223)\n",
    "sns.distplot(train[\"pickup_latitude\"],color=\"blue\").set_title(\"pickup_latitude\")\n",
    "plt.subplot(224)\n",
    "sns.distplot(train[\"dropoff_latitude\"],color=\"red\").set_title(\"dropoff_latitude\")\n",
    "plt.tight_layout()"
   ]
  },
  {
   "cell_type": "markdown",
   "metadata": {},
   "source": [
    "Our curve is not normally/ uniformally distributed."
   ]
  },
  {
   "cell_type": "markdown",
   "metadata": {},
   "source": [
    "From trip distance distribution plot in feature engineering we can see that it is not normally distribute.\n",
    "#hence for feature scalling we should go for Normalization method"
   ]
  },
  {
   "cell_type": "code",
   "execution_count": 46,
   "metadata": {},
   "outputs": [],
   "source": [
    "for i in [\"pickup_longitude\",\"pickup_latitude\",\"dropoff_longitude\",\"dropoff_latitude\",\"trip_distance\"]:\n",
    "    train[i] = (train[i] - min(train[i]))/(max(train[i]) - min(train[i]))\n",
    "    test[i] = (test[i] - min(test[i]))/(max(test[i]) - min(test[i]))"
   ]
  },
  {
   "cell_type": "code",
   "execution_count": 45,
   "metadata": {},
   "outputs": [
    {
     "data": {
      "text/html": [
       "<div>\n",
       "<style scoped>\n",
       "    .dataframe tbody tr th:only-of-type {\n",
       "        vertical-align: middle;\n",
       "    }\n",
       "\n",
       "    .dataframe tbody tr th {\n",
       "        vertical-align: top;\n",
       "    }\n",
       "\n",
       "    .dataframe thead th {\n",
       "        text-align: right;\n",
       "    }\n",
       "</style>\n",
       "<table border=\"1\" class=\"dataframe\">\n",
       "  <thead>\n",
       "    <tr style=\"text-align: right;\">\n",
       "      <th></th>\n",
       "      <th>fare_amount</th>\n",
       "      <th>pickup_longitude</th>\n",
       "      <th>pickup_latitude</th>\n",
       "      <th>dropoff_longitude</th>\n",
       "      <th>dropoff_latitude</th>\n",
       "      <th>passenger_count</th>\n",
       "      <th>trip_distance</th>\n",
       "      <th>year</th>\n",
       "      <th>month</th>\n",
       "      <th>hour</th>\n",
       "    </tr>\n",
       "  </thead>\n",
       "  <tbody>\n",
       "    <tr>\n",
       "      <th>0</th>\n",
       "      <td>4.5</td>\n",
       "      <td>0.456568</td>\n",
       "      <td>0.634241</td>\n",
       "      <td>0.454915</td>\n",
       "      <td>0.628735</td>\n",
       "      <td>1</td>\n",
       "      <td>0.007932</td>\n",
       "      <td>2009</td>\n",
       "      <td>6</td>\n",
       "      <td>17</td>\n",
       "    </tr>\n",
       "    <tr>\n",
       "      <th>1</th>\n",
       "      <td>16.9</td>\n",
       "      <td>0.324548</td>\n",
       "      <td>0.628559</td>\n",
       "      <td>0.348363</td>\n",
       "      <td>0.668326</td>\n",
       "      <td>1</td>\n",
       "      <td>0.065026</td>\n",
       "      <td>2010</td>\n",
       "      <td>1</td>\n",
       "      <td>16</td>\n",
       "    </tr>\n",
       "    <tr>\n",
       "      <th>2</th>\n",
       "      <td>5.7</td>\n",
       "      <td>0.350155</td>\n",
       "      <td>0.656902</td>\n",
       "      <td>0.339095</td>\n",
       "      <td>0.650473</td>\n",
       "      <td>2</td>\n",
       "      <td>0.010693</td>\n",
       "      <td>2011</td>\n",
       "      <td>8</td>\n",
       "      <td>0</td>\n",
       "    </tr>\n",
       "    <tr>\n",
       "      <th>3</th>\n",
       "      <td>7.7</td>\n",
       "      <td>0.346778</td>\n",
       "      <td>0.640948</td>\n",
       "      <td>0.338843</td>\n",
       "      <td>0.654748</td>\n",
       "      <td>1</td>\n",
       "      <td>0.021541</td>\n",
       "      <td>2012</td>\n",
       "      <td>4</td>\n",
       "      <td>4</td>\n",
       "    </tr>\n",
       "    <tr>\n",
       "      <th>4</th>\n",
       "      <td>5.3</td>\n",
       "      <td>0.361411</td>\n",
       "      <td>0.660724</td>\n",
       "      <td>0.365866</td>\n",
       "      <td>0.669324</td>\n",
       "      <td>1</td>\n",
       "      <td>0.015384</td>\n",
       "      <td>2010</td>\n",
       "      <td>3</td>\n",
       "      <td>7</td>\n",
       "    </tr>\n",
       "  </tbody>\n",
       "</table>\n",
       "</div>"
      ],
      "text/plain": [
       "   fare_amount  pickup_longitude  pickup_latitude  dropoff_longitude  \\\n",
       "0          4.5          0.456568         0.634241           0.454915   \n",
       "1         16.9          0.324548         0.628559           0.348363   \n",
       "2          5.7          0.350155         0.656902           0.339095   \n",
       "3          7.7          0.346778         0.640948           0.338843   \n",
       "4          5.3          0.361411         0.660724           0.365866   \n",
       "\n",
       "   dropoff_latitude passenger_count  trip_distance  year month hour  \n",
       "0          0.628735               1       0.007932  2009     6   17  \n",
       "1          0.668326               1       0.065026  2010     1   16  \n",
       "2          0.650473               2       0.010693  2011     8    0  \n",
       "3          0.654748               1       0.021541  2012     4    4  \n",
       "4          0.669324               1       0.015384  2010     3    7  "
      ]
     },
     "execution_count": 45,
     "metadata": {},
     "output_type": "execute_result"
    }
   ],
   "source": [
    "train.head()"
   ]
  },
  {
   "cell_type": "code",
   "execution_count": 87,
   "metadata": {},
   "outputs": [
    {
     "data": {
      "text/html": [
       "<div>\n",
       "<style scoped>\n",
       "    .dataframe tbody tr th:only-of-type {\n",
       "        vertical-align: middle;\n",
       "    }\n",
       "\n",
       "    .dataframe tbody tr th {\n",
       "        vertical-align: top;\n",
       "    }\n",
       "\n",
       "    .dataframe thead th {\n",
       "        text-align: right;\n",
       "    }\n",
       "</style>\n",
       "<table border=\"1\" class=\"dataframe\">\n",
       "  <thead>\n",
       "    <tr style=\"text-align: right;\">\n",
       "      <th></th>\n",
       "      <th>pickup_longitude</th>\n",
       "      <th>pickup_latitude</th>\n",
       "      <th>dropoff_longitude</th>\n",
       "      <th>dropoff_latitude</th>\n",
       "      <th>passenger_count</th>\n",
       "      <th>trip_distance</th>\n",
       "      <th>year</th>\n",
       "      <th>month</th>\n",
       "      <th>dayofweek</th>\n",
       "      <th>hour</th>\n",
       "    </tr>\n",
       "  </thead>\n",
       "  <tbody>\n",
       "    <tr>\n",
       "      <th>0</th>\n",
       "      <td>0.220338</td>\n",
       "      <td>0.167776</td>\n",
       "      <td>0.221502</td>\n",
       "      <td>0.155060</td>\n",
       "      <td>1</td>\n",
       "      <td>0.023234</td>\n",
       "      <td>2015</td>\n",
       "      <td>1</td>\n",
       "      <td>1</td>\n",
       "      <td>13</td>\n",
       "    </tr>\n",
       "    <tr>\n",
       "      <th>1</th>\n",
       "      <td>0.209638</td>\n",
       "      <td>0.128686</td>\n",
       "      <td>0.207781</td>\n",
       "      <td>0.150950</td>\n",
       "      <td>1</td>\n",
       "      <td>0.024254</td>\n",
       "      <td>2015</td>\n",
       "      <td>1</td>\n",
       "      <td>1</td>\n",
       "      <td>13</td>\n",
       "    </tr>\n",
       "    <tr>\n",
       "      <th>2</th>\n",
       "      <td>0.213066</td>\n",
       "      <td>0.156736</td>\n",
       "      <td>0.222898</td>\n",
       "      <td>0.157102</td>\n",
       "      <td>1</td>\n",
       "      <td>0.006187</td>\n",
       "      <td>2011</td>\n",
       "      <td>10</td>\n",
       "      <td>5</td>\n",
       "      <td>11</td>\n",
       "    </tr>\n",
       "    <tr>\n",
       "      <th>3</th>\n",
       "      <td>0.214143</td>\n",
       "      <td>0.171297</td>\n",
       "      <td>0.214414</td>\n",
       "      <td>0.161976</td>\n",
       "      <td>1</td>\n",
       "      <td>0.019611</td>\n",
       "      <td>2012</td>\n",
       "      <td>12</td>\n",
       "      <td>5</td>\n",
       "      <td>21</td>\n",
       "    </tr>\n",
       "    <tr>\n",
       "      <th>4</th>\n",
       "      <td>0.226085</td>\n",
       "      <td>0.190628</td>\n",
       "      <td>0.215894</td>\n",
       "      <td>0.155584</td>\n",
       "      <td>1</td>\n",
       "      <td>0.053875</td>\n",
       "      <td>2012</td>\n",
       "      <td>12</td>\n",
       "      <td>5</td>\n",
       "      <td>21</td>\n",
       "    </tr>\n",
       "  </tbody>\n",
       "</table>\n",
       "</div>"
      ],
      "text/plain": [
       "   pickup_longitude  pickup_latitude  dropoff_longitude  dropoff_latitude  \\\n",
       "0          0.220338         0.167776           0.221502          0.155060   \n",
       "1          0.209638         0.128686           0.207781          0.150950   \n",
       "2          0.213066         0.156736           0.222898          0.157102   \n",
       "3          0.214143         0.171297           0.214414          0.161976   \n",
       "4          0.226085         0.190628           0.215894          0.155584   \n",
       "\n",
       "  passenger_count  trip_distance  year month dayofweek hour  \n",
       "0               1       0.023234  2015     1         1   13  \n",
       "1               1       0.024254  2015     1         1   13  \n",
       "2               1       0.006187  2011    10         5   11  \n",
       "3               1       0.019611  2012    12         5   21  \n",
       "4               1       0.053875  2012    12         5   21  "
      ]
     },
     "execution_count": 87,
     "metadata": {},
     "output_type": "execute_result"
    }
   ],
   "source": [
    "test.head()"
   ]
  },
  {
   "cell_type": "markdown",
   "metadata": {},
   "source": [
    "# Dividing train data into train subset and test subset data"
   ]
  },
  {
   "cell_type": "code",
   "execution_count": 47,
   "metadata": {},
   "outputs": [],
   "source": [
    "df=train.copy()"
   ]
  },
  {
   "cell_type": "code",
   "execution_count": 48,
   "metadata": {},
   "outputs": [
    {
     "data": {
      "text/plain": [
       "(15568, 10)"
      ]
     },
     "execution_count": 48,
     "metadata": {},
     "output_type": "execute_result"
    }
   ],
   "source": [
    "df.shape"
   ]
  },
  {
   "cell_type": "code",
   "execution_count": 49,
   "metadata": {},
   "outputs": [],
   "source": [
    "X=df.drop([\"fare_amount\"],axis=1)\n",
    "Y=df[\"fare_amount\"]"
   ]
  },
  {
   "cell_type": "code",
   "execution_count": 86,
   "metadata": {
    "scrolled": true
   },
   "outputs": [
    {
     "name": "stdout",
     "output_type": "stream",
     "text": [
      "(15568, 10) (12454, 9) (3114, 9) (12454,) (3114,)\n"
     ]
    }
   ],
   "source": [
    "#Dividing data in train and test subsets\n",
    "x_train,x_test,y_train,y_test= train_test_split(X,Y, test_size=0.2)\n",
    "print(df.shape,x_train.shape,x_test.shape,y_train.shape,y_test.shape)"
   ]
  },
  {
   "cell_type": "code",
   "execution_count": 87,
   "metadata": {},
   "outputs": [
    {
     "data": {
      "text/html": [
       "<div>\n",
       "<style scoped>\n",
       "    .dataframe tbody tr th:only-of-type {\n",
       "        vertical-align: middle;\n",
       "    }\n",
       "\n",
       "    .dataframe tbody tr th {\n",
       "        vertical-align: top;\n",
       "    }\n",
       "\n",
       "    .dataframe thead th {\n",
       "        text-align: right;\n",
       "    }\n",
       "</style>\n",
       "<table border=\"1\" class=\"dataframe\">\n",
       "  <thead>\n",
       "    <tr style=\"text-align: right;\">\n",
       "      <th></th>\n",
       "      <th>pickup_longitude</th>\n",
       "      <th>pickup_latitude</th>\n",
       "      <th>dropoff_longitude</th>\n",
       "      <th>dropoff_latitude</th>\n",
       "      <th>passenger_count</th>\n",
       "      <th>trip_distance</th>\n",
       "      <th>year</th>\n",
       "      <th>month</th>\n",
       "      <th>hour</th>\n",
       "    </tr>\n",
       "  </thead>\n",
       "  <tbody>\n",
       "    <tr>\n",
       "      <th>8283</th>\n",
       "      <td>0.350597</td>\n",
       "      <td>0.660368</td>\n",
       "      <td>0.346022</td>\n",
       "      <td>0.665610</td>\n",
       "      <td>1</td>\n",
       "      <td>0.008422</td>\n",
       "      <td>2015</td>\n",
       "      <td>3</td>\n",
       "      <td>14</td>\n",
       "    </tr>\n",
       "    <tr>\n",
       "      <th>15645</th>\n",
       "      <td>0.394203</td>\n",
       "      <td>0.655548</td>\n",
       "      <td>0.441884</td>\n",
       "      <td>0.652388</td>\n",
       "      <td>3</td>\n",
       "      <td>0.043628</td>\n",
       "      <td>2012</td>\n",
       "      <td>9</td>\n",
       "      <td>23</td>\n",
       "    </tr>\n",
       "    <tr>\n",
       "      <th>4911</th>\n",
       "      <td>0.373961</td>\n",
       "      <td>0.661429</td>\n",
       "      <td>0.374258</td>\n",
       "      <td>0.668235</td>\n",
       "      <td>3</td>\n",
       "      <td>0.011447</td>\n",
       "      <td>2014</td>\n",
       "      <td>9</td>\n",
       "      <td>15</td>\n",
       "    </tr>\n",
       "    <tr>\n",
       "      <th>15986</th>\n",
       "      <td>0.351573</td>\n",
       "      <td>0.655614</td>\n",
       "      <td>0.346259</td>\n",
       "      <td>0.644491</td>\n",
       "      <td>4</td>\n",
       "      <td>0.016250</td>\n",
       "      <td>2011</td>\n",
       "      <td>8</td>\n",
       "      <td>21</td>\n",
       "    </tr>\n",
       "    <tr>\n",
       "      <th>13536</th>\n",
       "      <td>0.356334</td>\n",
       "      <td>0.646045</td>\n",
       "      <td>0.349914</td>\n",
       "      <td>0.651154</td>\n",
       "      <td>2</td>\n",
       "      <td>0.008408</td>\n",
       "      <td>2014</td>\n",
       "      <td>12</td>\n",
       "      <td>18</td>\n",
       "    </tr>\n",
       "  </tbody>\n",
       "</table>\n",
       "</div>"
      ],
      "text/plain": [
       "       pickup_longitude  pickup_latitude  dropoff_longitude  dropoff_latitude  \\\n",
       "8283           0.350597         0.660368           0.346022          0.665610   \n",
       "15645          0.394203         0.655548           0.441884          0.652388   \n",
       "4911           0.373961         0.661429           0.374258          0.668235   \n",
       "15986          0.351573         0.655614           0.346259          0.644491   \n",
       "13536          0.356334         0.646045           0.349914          0.651154   \n",
       "\n",
       "      passenger_count  trip_distance  year month hour  \n",
       "8283                1       0.008422  2015     3   14  \n",
       "15645               3       0.043628  2012     9   23  \n",
       "4911                3       0.011447  2014     9   15  \n",
       "15986               4       0.016250  2011     8   21  \n",
       "13536               2       0.008408  2014    12   18  "
      ]
     },
     "execution_count": 87,
     "metadata": {},
     "output_type": "execute_result"
    }
   ],
   "source": [
    "x_train.head()"
   ]
  },
  {
   "cell_type": "markdown",
   "metadata": {},
   "source": [
    "# Model Building"
   ]
  },
  {
   "cell_type": "markdown",
   "metadata": {},
   "source": [
    "# 1) Linear regression"
   ]
  },
  {
   "cell_type": "markdown",
   "metadata": {},
   "source": [
    "#Multicollinearity Test\n",
    "-  VIF is always greater or equal to 1.\n",
    "-  if VIF is 1 --- Not correlated to any of the variables.\n",
    "-  if VIF is between 1-5 --- Moderately correlated.\n",
    "-  if VIF is above 5 --- Highly correlated.\n",
    "-  If there are multiple variables with VIF greater than 5, only remove the variable with the highest VIF."
   ]
  },
  {
   "cell_type": "code",
   "execution_count": 51,
   "metadata": {
    "scrolled": true
   },
   "outputs": [
    {
     "data": {
      "text/html": [
       "<div>\n",
       "<style scoped>\n",
       "    .dataframe tbody tr th:only-of-type {\n",
       "        vertical-align: middle;\n",
       "    }\n",
       "\n",
       "    .dataframe tbody tr th {\n",
       "        vertical-align: top;\n",
       "    }\n",
       "\n",
       "    .dataframe thead th {\n",
       "        text-align: right;\n",
       "    }\n",
       "</style>\n",
       "<table border=\"1\" class=\"dataframe\">\n",
       "  <thead>\n",
       "    <tr style=\"text-align: right;\">\n",
       "      <th></th>\n",
       "      <th>VIF</th>\n",
       "      <th>features</th>\n",
       "    </tr>\n",
       "  </thead>\n",
       "  <tbody>\n",
       "    <tr>\n",
       "      <th>0</th>\n",
       "      <td>1256.032402</td>\n",
       "      <td>Intercept</td>\n",
       "    </tr>\n",
       "    <tr>\n",
       "      <th>1</th>\n",
       "      <td>1.040492</td>\n",
       "      <td>passenger_count[T.2.0]</td>\n",
       "    </tr>\n",
       "    <tr>\n",
       "      <th>2</th>\n",
       "      <td>1.020175</td>\n",
       "      <td>passenger_count[T.3.0]</td>\n",
       "    </tr>\n",
       "    <tr>\n",
       "      <th>3</th>\n",
       "      <td>1.012956</td>\n",
       "      <td>passenger_count[T.4.0]</td>\n",
       "    </tr>\n",
       "    <tr>\n",
       "      <th>4</th>\n",
       "      <td>1.027244</td>\n",
       "      <td>passenger_count[T.5.0]</td>\n",
       "    </tr>\n",
       "    <tr>\n",
       "      <th>5</th>\n",
       "      <td>1.019447</td>\n",
       "      <td>passenger_count[T.6.0]</td>\n",
       "    </tr>\n",
       "    <tr>\n",
       "      <th>6</th>\n",
       "      <td>1.695701</td>\n",
       "      <td>year[T.2010]</td>\n",
       "    </tr>\n",
       "    <tr>\n",
       "      <th>7</th>\n",
       "      <td>1.691477</td>\n",
       "      <td>year[T.2011]</td>\n",
       "    </tr>\n",
       "    <tr>\n",
       "      <th>8</th>\n",
       "      <td>1.711626</td>\n",
       "      <td>year[T.2012]</td>\n",
       "    </tr>\n",
       "    <tr>\n",
       "      <th>9</th>\n",
       "      <td>1.710126</td>\n",
       "      <td>year[T.2013]</td>\n",
       "    </tr>\n",
       "    <tr>\n",
       "      <th>10</th>\n",
       "      <td>1.666532</td>\n",
       "      <td>year[T.2014]</td>\n",
       "    </tr>\n",
       "    <tr>\n",
       "      <th>11</th>\n",
       "      <td>1.442352</td>\n",
       "      <td>year[T.2015]</td>\n",
       "    </tr>\n",
       "    <tr>\n",
       "      <th>12</th>\n",
       "      <td>1.726841</td>\n",
       "      <td>hour[T.1]</td>\n",
       "    </tr>\n",
       "    <tr>\n",
       "      <th>13</th>\n",
       "      <td>1.524803</td>\n",
       "      <td>hour[T.2]</td>\n",
       "    </tr>\n",
       "    <tr>\n",
       "      <th>14</th>\n",
       "      <td>1.461666</td>\n",
       "      <td>hour[T.3]</td>\n",
       "    </tr>\n",
       "    <tr>\n",
       "      <th>15</th>\n",
       "      <td>1.334496</td>\n",
       "      <td>hour[T.4]</td>\n",
       "    </tr>\n",
       "    <tr>\n",
       "      <th>16</th>\n",
       "      <td>1.261602</td>\n",
       "      <td>hour[T.5]</td>\n",
       "    </tr>\n",
       "    <tr>\n",
       "      <th>17</th>\n",
       "      <td>1.532855</td>\n",
       "      <td>hour[T.6]</td>\n",
       "    </tr>\n",
       "    <tr>\n",
       "      <th>18</th>\n",
       "      <td>2.003258</td>\n",
       "      <td>hour[T.7]</td>\n",
       "    </tr>\n",
       "    <tr>\n",
       "      <th>19</th>\n",
       "      <td>2.087479</td>\n",
       "      <td>hour[T.8]</td>\n",
       "    </tr>\n",
       "    <tr>\n",
       "      <th>20</th>\n",
       "      <td>2.209327</td>\n",
       "      <td>hour[T.9]</td>\n",
       "    </tr>\n",
       "    <tr>\n",
       "      <th>21</th>\n",
       "      <td>2.045704</td>\n",
       "      <td>hour[T.10]</td>\n",
       "    </tr>\n",
       "    <tr>\n",
       "      <th>22</th>\n",
       "      <td>2.149890</td>\n",
       "      <td>hour[T.11]</td>\n",
       "    </tr>\n",
       "    <tr>\n",
       "      <th>23</th>\n",
       "      <td>2.227181</td>\n",
       "      <td>hour[T.12]</td>\n",
       "    </tr>\n",
       "    <tr>\n",
       "      <th>24</th>\n",
       "      <td>2.207492</td>\n",
       "      <td>hour[T.13]</td>\n",
       "    </tr>\n",
       "    <tr>\n",
       "      <th>25</th>\n",
       "      <td>2.222016</td>\n",
       "      <td>hour[T.14]</td>\n",
       "    </tr>\n",
       "    <tr>\n",
       "      <th>26</th>\n",
       "      <td>2.144096</td>\n",
       "      <td>hour[T.15]</td>\n",
       "    </tr>\n",
       "    <tr>\n",
       "      <th>27</th>\n",
       "      <td>2.029710</td>\n",
       "      <td>hour[T.16]</td>\n",
       "    </tr>\n",
       "    <tr>\n",
       "      <th>28</th>\n",
       "      <td>2.189979</td>\n",
       "      <td>hour[T.17]</td>\n",
       "    </tr>\n",
       "    <tr>\n",
       "      <th>29</th>\n",
       "      <td>2.511905</td>\n",
       "      <td>hour[T.18]</td>\n",
       "    </tr>\n",
       "    <tr>\n",
       "      <th>30</th>\n",
       "      <td>2.501750</td>\n",
       "      <td>hour[T.19]</td>\n",
       "    </tr>\n",
       "    <tr>\n",
       "      <th>31</th>\n",
       "      <td>2.453247</td>\n",
       "      <td>hour[T.20]</td>\n",
       "    </tr>\n",
       "    <tr>\n",
       "      <th>32</th>\n",
       "      <td>2.395681</td>\n",
       "      <td>hour[T.21]</td>\n",
       "    </tr>\n",
       "    <tr>\n",
       "      <th>33</th>\n",
       "      <td>2.376357</td>\n",
       "      <td>hour[T.22]</td>\n",
       "    </tr>\n",
       "    <tr>\n",
       "      <th>34</th>\n",
       "      <td>2.187457</td>\n",
       "      <td>hour[T.23]</td>\n",
       "    </tr>\n",
       "    <tr>\n",
       "      <th>35</th>\n",
       "      <td>1.748602</td>\n",
       "      <td>month[T.2]</td>\n",
       "    </tr>\n",
       "    <tr>\n",
       "      <th>36</th>\n",
       "      <td>1.840013</td>\n",
       "      <td>month[T.3]</td>\n",
       "    </tr>\n",
       "    <tr>\n",
       "      <th>37</th>\n",
       "      <td>1.808926</td>\n",
       "      <td>month[T.4]</td>\n",
       "    </tr>\n",
       "    <tr>\n",
       "      <th>38</th>\n",
       "      <td>1.839739</td>\n",
       "      <td>month[T.5]</td>\n",
       "    </tr>\n",
       "    <tr>\n",
       "      <th>39</th>\n",
       "      <td>1.834972</td>\n",
       "      <td>month[T.6]</td>\n",
       "    </tr>\n",
       "    <tr>\n",
       "      <th>40</th>\n",
       "      <td>1.693965</td>\n",
       "      <td>month[T.7]</td>\n",
       "    </tr>\n",
       "    <tr>\n",
       "      <th>41</th>\n",
       "      <td>1.668440</td>\n",
       "      <td>month[T.8]</td>\n",
       "    </tr>\n",
       "    <tr>\n",
       "      <th>42</th>\n",
       "      <td>1.713002</td>\n",
       "      <td>month[T.9]</td>\n",
       "    </tr>\n",
       "    <tr>\n",
       "      <th>43</th>\n",
       "      <td>1.751686</td>\n",
       "      <td>month[T.10]</td>\n",
       "    </tr>\n",
       "    <tr>\n",
       "      <th>44</th>\n",
       "      <td>1.719086</td>\n",
       "      <td>month[T.11]</td>\n",
       "    </tr>\n",
       "    <tr>\n",
       "      <th>45</th>\n",
       "      <td>1.732089</td>\n",
       "      <td>month[T.12]</td>\n",
       "    </tr>\n",
       "    <tr>\n",
       "      <th>46</th>\n",
       "      <td>1.418809</td>\n",
       "      <td>pickup_latitude</td>\n",
       "    </tr>\n",
       "    <tr>\n",
       "      <th>47</th>\n",
       "      <td>1.432287</td>\n",
       "      <td>pickup_longitude</td>\n",
       "    </tr>\n",
       "    <tr>\n",
       "      <th>48</th>\n",
       "      <td>1.462140</td>\n",
       "      <td>dropoff_latitude</td>\n",
       "    </tr>\n",
       "    <tr>\n",
       "      <th>49</th>\n",
       "      <td>1.333938</td>\n",
       "      <td>dropoff_longitude</td>\n",
       "    </tr>\n",
       "    <tr>\n",
       "      <th>50</th>\n",
       "      <td>1.409338</td>\n",
       "      <td>trip_distance</td>\n",
       "    </tr>\n",
       "  </tbody>\n",
       "</table>\n",
       "</div>"
      ],
      "text/plain": [
       "            VIF                features\n",
       "0   1256.032402               Intercept\n",
       "1      1.040492  passenger_count[T.2.0]\n",
       "2      1.020175  passenger_count[T.3.0]\n",
       "3      1.012956  passenger_count[T.4.0]\n",
       "4      1.027244  passenger_count[T.5.0]\n",
       "5      1.019447  passenger_count[T.6.0]\n",
       "6      1.695701            year[T.2010]\n",
       "7      1.691477            year[T.2011]\n",
       "8      1.711626            year[T.2012]\n",
       "9      1.710126            year[T.2013]\n",
       "10     1.666532            year[T.2014]\n",
       "11     1.442352            year[T.2015]\n",
       "12     1.726841               hour[T.1]\n",
       "13     1.524803               hour[T.2]\n",
       "14     1.461666               hour[T.3]\n",
       "15     1.334496               hour[T.4]\n",
       "16     1.261602               hour[T.5]\n",
       "17     1.532855               hour[T.6]\n",
       "18     2.003258               hour[T.7]\n",
       "19     2.087479               hour[T.8]\n",
       "20     2.209327               hour[T.9]\n",
       "21     2.045704              hour[T.10]\n",
       "22     2.149890              hour[T.11]\n",
       "23     2.227181              hour[T.12]\n",
       "24     2.207492              hour[T.13]\n",
       "25     2.222016              hour[T.14]\n",
       "26     2.144096              hour[T.15]\n",
       "27     2.029710              hour[T.16]\n",
       "28     2.189979              hour[T.17]\n",
       "29     2.511905              hour[T.18]\n",
       "30     2.501750              hour[T.19]\n",
       "31     2.453247              hour[T.20]\n",
       "32     2.395681              hour[T.21]\n",
       "33     2.376357              hour[T.22]\n",
       "34     2.187457              hour[T.23]\n",
       "35     1.748602              month[T.2]\n",
       "36     1.840013              month[T.3]\n",
       "37     1.808926              month[T.4]\n",
       "38     1.839739              month[T.5]\n",
       "39     1.834972              month[T.6]\n",
       "40     1.693965              month[T.7]\n",
       "41     1.668440              month[T.8]\n",
       "42     1.713002              month[T.9]\n",
       "43     1.751686             month[T.10]\n",
       "44     1.719086             month[T.11]\n",
       "45     1.732089             month[T.12]\n",
       "46     1.418809         pickup_latitude\n",
       "47     1.432287        pickup_longitude\n",
       "48     1.462140        dropoff_latitude\n",
       "49     1.333938       dropoff_longitude\n",
       "50     1.409338           trip_distance"
      ]
     },
     "execution_count": 51,
     "metadata": {},
     "output_type": "execute_result"
    }
   ],
   "source": [
    "#checking for multicolliearity \n",
    "outcome, predictors = dmatrices('fare_amount ~ pickup_latitude+pickup_longitude+dropoff_latitude+dropoff_longitude+trip_distance+passenger_count+year+hour+month',train, return_type='dataframe')\n",
    "# calculating VIF for each individual Predictors\n",
    "vif = pd.DataFrame()\n",
    "vif[\"VIF\"] = [variance_inflation_factor(predictors.values, i) for i in range(predictors.shape[1])]\n",
    "vif[\"features\"] = predictors.columns\n",
    "vif"
   ]
  },
  {
   "cell_type": "markdown",
   "metadata": {},
   "source": [
    "No varaible with higher VIF"
   ]
  },
  {
   "cell_type": "code",
   "execution_count": 88,
   "metadata": {},
   "outputs": [],
   "source": [
    "df_train=pd.get_dummies(x_train,columns=[\"passenger_count\",\"year\",\"month\",\"hour\"])"
   ]
  },
  {
   "cell_type": "code",
   "execution_count": 89,
   "metadata": {},
   "outputs": [],
   "source": [
    "df_test=pd.get_dummies(x_test,columns=[\"passenger_count\",\"year\",\"month\",\"hour\"])"
   ]
  },
  {
   "cell_type": "code",
   "execution_count": 90,
   "metadata": {},
   "outputs": [
    {
     "data": {
      "text/plain": [
       "((12454, 54), (3114, 54))"
      ]
     },
     "execution_count": 90,
     "metadata": {},
     "output_type": "execute_result"
    }
   ],
   "source": [
    "df_train.shape,df_test.shape"
   ]
  },
  {
   "cell_type": "code",
   "execution_count": 91,
   "metadata": {},
   "outputs": [],
   "source": [
    "integer=[\"passenger_count_1.0\",\"passenger_count_2.0\",\"passenger_count_3.0\",\"passenger_count_4.0\",\"passenger_count_5.0\",\"passenger_count_6.0\",\n",
    "        \"year_2009\",\"year_2010\",\"year_2011\",\"year_2012\",\"year_2013\",\"year_2014\",\"year_2015\",\"month_1\",\"month_2\",\"month_3\",\"month_4\",\n",
    "        \"month_5\",\"month_6\",\"month_7\",\"month_8\",\"month_9\",\"month_10\",\"month_11\",\"month_12\",\"hour_0\",\"hour_1\",\"hour_2\",\"hour_3\",\"hour_4\",\n",
    "        \"hour_5\",\"hour_6\",\"hour_7\",\"hour_8\",\"hour_9\",\"hour_10\",\"hour_11\",\"hour_12\",\"hour_13\",\"hour_14\",\"hour_15\",\"hour_16\",\"hour_17\",\n",
    "        \"hour_18\",\"hour_19\",\"hour_20\",\"hour_21\",\"hour_22\",\"hour_23\"]\n",
    "for i in integer:\n",
    "    df_train[i]= df_train[i].astype(int)\n",
    "    df_test[i]=df_test[i].astype(int)"
   ]
  },
  {
   "cell_type": "code",
   "execution_count": 58,
   "metadata": {
    "collapsed": true
   },
   "outputs": [
    {
     "name": "stdout",
     "output_type": "stream",
     "text": [
      "<class 'pandas.core.frame.DataFrame'>\n",
      "Int64Index: 12454 entries, 6694 to 4897\n",
      "Data columns (total 54 columns):\n",
      "pickup_longitude       12454 non-null float64\n",
      "pickup_latitude        12454 non-null float64\n",
      "dropoff_longitude      12454 non-null float64\n",
      "dropoff_latitude       12454 non-null float64\n",
      "trip_distance          12454 non-null float64\n",
      "passenger_count_1.0    12454 non-null int32\n",
      "passenger_count_2.0    12454 non-null int32\n",
      "passenger_count_3.0    12454 non-null int32\n",
      "passenger_count_4.0    12454 non-null int32\n",
      "passenger_count_5.0    12454 non-null int32\n",
      "passenger_count_6.0    12454 non-null int32\n",
      "year_2009              12454 non-null int32\n",
      "year_2010              12454 non-null int32\n",
      "year_2011              12454 non-null int32\n",
      "year_2012              12454 non-null int32\n",
      "year_2013              12454 non-null int32\n",
      "year_2014              12454 non-null int32\n",
      "year_2015              12454 non-null int32\n",
      "month_1                12454 non-null int32\n",
      "month_2                12454 non-null int32\n",
      "month_3                12454 non-null int32\n",
      "month_4                12454 non-null int32\n",
      "month_5                12454 non-null int32\n",
      "month_6                12454 non-null int32\n",
      "month_7                12454 non-null int32\n",
      "month_8                12454 non-null int32\n",
      "month_9                12454 non-null int32\n",
      "month_10               12454 non-null int32\n",
      "month_11               12454 non-null int32\n",
      "month_12               12454 non-null int32\n",
      "hour_0                 12454 non-null int32\n",
      "hour_1                 12454 non-null int32\n",
      "hour_2                 12454 non-null int32\n",
      "hour_3                 12454 non-null int32\n",
      "hour_4                 12454 non-null int32\n",
      "hour_5                 12454 non-null int32\n",
      "hour_6                 12454 non-null int32\n",
      "hour_7                 12454 non-null int32\n",
      "hour_8                 12454 non-null int32\n",
      "hour_9                 12454 non-null int32\n",
      "hour_10                12454 non-null int32\n",
      "hour_11                12454 non-null int32\n",
      "hour_12                12454 non-null int32\n",
      "hour_13                12454 non-null int32\n",
      "hour_14                12454 non-null int32\n",
      "hour_15                12454 non-null int32\n",
      "hour_16                12454 non-null int32\n",
      "hour_17                12454 non-null int32\n",
      "hour_18                12454 non-null int32\n",
      "hour_19                12454 non-null int32\n",
      "hour_20                12454 non-null int32\n",
      "hour_21                12454 non-null int32\n",
      "hour_22                12454 non-null int32\n",
      "hour_23                12454 non-null int32\n",
      "dtypes: float64(5), int32(49)\n",
      "memory usage: 2.9 MB\n",
      "<class 'pandas.core.frame.DataFrame'>\n",
      "Int64Index: 3114 entries, 5655 to 123\n",
      "Data columns (total 54 columns):\n",
      "pickup_longitude       3114 non-null float64\n",
      "pickup_latitude        3114 non-null float64\n",
      "dropoff_longitude      3114 non-null float64\n",
      "dropoff_latitude       3114 non-null float64\n",
      "trip_distance          3114 non-null float64\n",
      "passenger_count_1.0    3114 non-null int32\n",
      "passenger_count_2.0    3114 non-null int32\n",
      "passenger_count_3.0    3114 non-null int32\n",
      "passenger_count_4.0    3114 non-null int32\n",
      "passenger_count_5.0    3114 non-null int32\n",
      "passenger_count_6.0    3114 non-null int32\n",
      "year_2009              3114 non-null int32\n",
      "year_2010              3114 non-null int32\n",
      "year_2011              3114 non-null int32\n",
      "year_2012              3114 non-null int32\n",
      "year_2013              3114 non-null int32\n",
      "year_2014              3114 non-null int32\n",
      "year_2015              3114 non-null int32\n",
      "month_1                3114 non-null int32\n",
      "month_2                3114 non-null int32\n",
      "month_3                3114 non-null int32\n",
      "month_4                3114 non-null int32\n",
      "month_5                3114 non-null int32\n",
      "month_6                3114 non-null int32\n",
      "month_7                3114 non-null int32\n",
      "month_8                3114 non-null int32\n",
      "month_9                3114 non-null int32\n",
      "month_10               3114 non-null int32\n",
      "month_11               3114 non-null int32\n",
      "month_12               3114 non-null int32\n",
      "hour_0                 3114 non-null int32\n",
      "hour_1                 3114 non-null int32\n",
      "hour_2                 3114 non-null int32\n",
      "hour_3                 3114 non-null int32\n",
      "hour_4                 3114 non-null int32\n",
      "hour_5                 3114 non-null int32\n",
      "hour_6                 3114 non-null int32\n",
      "hour_7                 3114 non-null int32\n",
      "hour_8                 3114 non-null int32\n",
      "hour_9                 3114 non-null int32\n",
      "hour_10                3114 non-null int32\n",
      "hour_11                3114 non-null int32\n",
      "hour_12                3114 non-null int32\n",
      "hour_13                3114 non-null int32\n",
      "hour_14                3114 non-null int32\n",
      "hour_15                3114 non-null int32\n",
      "hour_16                3114 non-null int32\n",
      "hour_17                3114 non-null int32\n",
      "hour_18                3114 non-null int32\n",
      "hour_19                3114 non-null int32\n",
      "hour_20                3114 non-null int32\n",
      "hour_21                3114 non-null int32\n",
      "hour_22                3114 non-null int32\n",
      "hour_23                3114 non-null int32\n",
      "dtypes: float64(5), int32(49)\n",
      "memory usage: 742.0 KB\n"
     ]
    },
    {
     "data": {
      "text/plain": [
       "(None, None)"
      ]
     },
     "execution_count": 58,
     "metadata": {},
     "output_type": "execute_result"
    }
   ],
   "source": [
    "df_train.info(),df_test.info()"
   ]
  },
  {
   "cell_type": "code",
   "execution_count": 92,
   "metadata": {},
   "outputs": [
    {
     "data": {
      "text/html": [
       "<div>\n",
       "<style scoped>\n",
       "    .dataframe tbody tr th:only-of-type {\n",
       "        vertical-align: middle;\n",
       "    }\n",
       "\n",
       "    .dataframe tbody tr th {\n",
       "        vertical-align: top;\n",
       "    }\n",
       "\n",
       "    .dataframe thead th {\n",
       "        text-align: right;\n",
       "    }\n",
       "</style>\n",
       "<table border=\"1\" class=\"dataframe\">\n",
       "  <thead>\n",
       "    <tr style=\"text-align: right;\">\n",
       "      <th></th>\n",
       "      <th>pickup_longitude</th>\n",
       "      <th>pickup_latitude</th>\n",
       "      <th>dropoff_longitude</th>\n",
       "      <th>dropoff_latitude</th>\n",
       "      <th>trip_distance</th>\n",
       "      <th>passenger_count_1.0</th>\n",
       "      <th>passenger_count_2.0</th>\n",
       "      <th>passenger_count_3.0</th>\n",
       "      <th>passenger_count_4.0</th>\n",
       "      <th>passenger_count_5.0</th>\n",
       "      <th>...</th>\n",
       "      <th>hour_14</th>\n",
       "      <th>hour_15</th>\n",
       "      <th>hour_16</th>\n",
       "      <th>hour_17</th>\n",
       "      <th>hour_18</th>\n",
       "      <th>hour_19</th>\n",
       "      <th>hour_20</th>\n",
       "      <th>hour_21</th>\n",
       "      <th>hour_22</th>\n",
       "      <th>hour_23</th>\n",
       "    </tr>\n",
       "  </thead>\n",
       "  <tbody>\n",
       "    <tr>\n",
       "      <th>8283</th>\n",
       "      <td>0.350597</td>\n",
       "      <td>0.660368</td>\n",
       "      <td>0.346022</td>\n",
       "      <td>0.665610</td>\n",
       "      <td>0.008422</td>\n",
       "      <td>1</td>\n",
       "      <td>0</td>\n",
       "      <td>0</td>\n",
       "      <td>0</td>\n",
       "      <td>0</td>\n",
       "      <td>...</td>\n",
       "      <td>1</td>\n",
       "      <td>0</td>\n",
       "      <td>0</td>\n",
       "      <td>0</td>\n",
       "      <td>0</td>\n",
       "      <td>0</td>\n",
       "      <td>0</td>\n",
       "      <td>0</td>\n",
       "      <td>0</td>\n",
       "      <td>0</td>\n",
       "    </tr>\n",
       "    <tr>\n",
       "      <th>15645</th>\n",
       "      <td>0.394203</td>\n",
       "      <td>0.655548</td>\n",
       "      <td>0.441884</td>\n",
       "      <td>0.652388</td>\n",
       "      <td>0.043628</td>\n",
       "      <td>0</td>\n",
       "      <td>0</td>\n",
       "      <td>1</td>\n",
       "      <td>0</td>\n",
       "      <td>0</td>\n",
       "      <td>...</td>\n",
       "      <td>0</td>\n",
       "      <td>0</td>\n",
       "      <td>0</td>\n",
       "      <td>0</td>\n",
       "      <td>0</td>\n",
       "      <td>0</td>\n",
       "      <td>0</td>\n",
       "      <td>0</td>\n",
       "      <td>0</td>\n",
       "      <td>1</td>\n",
       "    </tr>\n",
       "    <tr>\n",
       "      <th>4911</th>\n",
       "      <td>0.373961</td>\n",
       "      <td>0.661429</td>\n",
       "      <td>0.374258</td>\n",
       "      <td>0.668235</td>\n",
       "      <td>0.011447</td>\n",
       "      <td>0</td>\n",
       "      <td>0</td>\n",
       "      <td>1</td>\n",
       "      <td>0</td>\n",
       "      <td>0</td>\n",
       "      <td>...</td>\n",
       "      <td>0</td>\n",
       "      <td>1</td>\n",
       "      <td>0</td>\n",
       "      <td>0</td>\n",
       "      <td>0</td>\n",
       "      <td>0</td>\n",
       "      <td>0</td>\n",
       "      <td>0</td>\n",
       "      <td>0</td>\n",
       "      <td>0</td>\n",
       "    </tr>\n",
       "    <tr>\n",
       "      <th>15986</th>\n",
       "      <td>0.351573</td>\n",
       "      <td>0.655614</td>\n",
       "      <td>0.346259</td>\n",
       "      <td>0.644491</td>\n",
       "      <td>0.016250</td>\n",
       "      <td>0</td>\n",
       "      <td>0</td>\n",
       "      <td>0</td>\n",
       "      <td>1</td>\n",
       "      <td>0</td>\n",
       "      <td>...</td>\n",
       "      <td>0</td>\n",
       "      <td>0</td>\n",
       "      <td>0</td>\n",
       "      <td>0</td>\n",
       "      <td>0</td>\n",
       "      <td>0</td>\n",
       "      <td>0</td>\n",
       "      <td>1</td>\n",
       "      <td>0</td>\n",
       "      <td>0</td>\n",
       "    </tr>\n",
       "    <tr>\n",
       "      <th>13536</th>\n",
       "      <td>0.356334</td>\n",
       "      <td>0.646045</td>\n",
       "      <td>0.349914</td>\n",
       "      <td>0.651154</td>\n",
       "      <td>0.008408</td>\n",
       "      <td>0</td>\n",
       "      <td>1</td>\n",
       "      <td>0</td>\n",
       "      <td>0</td>\n",
       "      <td>0</td>\n",
       "      <td>...</td>\n",
       "      <td>0</td>\n",
       "      <td>0</td>\n",
       "      <td>0</td>\n",
       "      <td>0</td>\n",
       "      <td>1</td>\n",
       "      <td>0</td>\n",
       "      <td>0</td>\n",
       "      <td>0</td>\n",
       "      <td>0</td>\n",
       "      <td>0</td>\n",
       "    </tr>\n",
       "  </tbody>\n",
       "</table>\n",
       "<p>5 rows × 54 columns</p>\n",
       "</div>"
      ],
      "text/plain": [
       "       pickup_longitude  pickup_latitude  dropoff_longitude  dropoff_latitude  \\\n",
       "8283           0.350597         0.660368           0.346022          0.665610   \n",
       "15645          0.394203         0.655548           0.441884          0.652388   \n",
       "4911           0.373961         0.661429           0.374258          0.668235   \n",
       "15986          0.351573         0.655614           0.346259          0.644491   \n",
       "13536          0.356334         0.646045           0.349914          0.651154   \n",
       "\n",
       "       trip_distance  passenger_count_1.0  passenger_count_2.0  \\\n",
       "8283        0.008422                    1                    0   \n",
       "15645       0.043628                    0                    0   \n",
       "4911        0.011447                    0                    0   \n",
       "15986       0.016250                    0                    0   \n",
       "13536       0.008408                    0                    1   \n",
       "\n",
       "       passenger_count_3.0  passenger_count_4.0  passenger_count_5.0  ...  \\\n",
       "8283                     0                    0                    0  ...   \n",
       "15645                    1                    0                    0  ...   \n",
       "4911                     1                    0                    0  ...   \n",
       "15986                    0                    1                    0  ...   \n",
       "13536                    0                    0                    0  ...   \n",
       "\n",
       "       hour_14  hour_15  hour_16  hour_17  hour_18  hour_19  hour_20  hour_21  \\\n",
       "8283         1        0        0        0        0        0        0        0   \n",
       "15645        0        0        0        0        0        0        0        0   \n",
       "4911         0        1        0        0        0        0        0        0   \n",
       "15986        0        0        0        0        0        0        0        1   \n",
       "13536        0        0        0        0        1        0        0        0   \n",
       "\n",
       "       hour_22  hour_23  \n",
       "8283         0        0  \n",
       "15645        0        1  \n",
       "4911         0        0  \n",
       "15986        0        0  \n",
       "13536        0        0  \n",
       "\n",
       "[5 rows x 54 columns]"
      ]
     },
     "execution_count": 92,
     "metadata": {},
     "output_type": "execute_result"
    }
   ],
   "source": [
    "df_train.head()"
   ]
  },
  {
   "cell_type": "code",
   "execution_count": 93,
   "metadata": {},
   "outputs": [],
   "source": [
    "model=sm.OLS(y_train,df_train).fit()"
   ]
  },
  {
   "cell_type": "code",
   "execution_count": 94,
   "metadata": {
    "scrolled": true
   },
   "outputs": [
    {
     "data": {
      "text/html": [
       "<table class=\"simpletable\">\n",
       "<caption>OLS Regression Results</caption>\n",
       "<tr>\n",
       "  <th>Dep. Variable:</th>       <td>fare_amount</td>   <th>  R-squared:         </th> <td>   0.515</td> \n",
       "</tr>\n",
       "<tr>\n",
       "  <th>Model:</th>                   <td>OLS</td>       <th>  Adj. R-squared:    </th> <td>   0.513</td> \n",
       "</tr>\n",
       "<tr>\n",
       "  <th>Method:</th>             <td>Least Squares</td>  <th>  F-statistic:       </th> <td>   263.1</td> \n",
       "</tr>\n",
       "<tr>\n",
       "  <th>Date:</th>             <td>Wed, 08 Jan 2020</td> <th>  Prob (F-statistic):</th>  <td>  0.00</td>  \n",
       "</tr>\n",
       "<tr>\n",
       "  <th>Time:</th>                 <td>12:24:34</td>     <th>  Log-Likelihood:    </th> <td> -41302.</td> \n",
       "</tr>\n",
       "<tr>\n",
       "  <th>No. Observations:</th>      <td> 12454</td>      <th>  AIC:               </th> <td>8.271e+04</td>\n",
       "</tr>\n",
       "<tr>\n",
       "  <th>Df Residuals:</th>          <td> 12403</td>      <th>  BIC:               </th> <td>8.309e+04</td>\n",
       "</tr>\n",
       "<tr>\n",
       "  <th>Df Model:</th>              <td>    50</td>      <th>                     </th>     <td> </td>    \n",
       "</tr>\n",
       "<tr>\n",
       "  <th>Covariance Type:</th>      <td>nonrobust</td>    <th>                     </th>     <td> </td>    \n",
       "</tr>\n",
       "</table>\n",
       "<table class=\"simpletable\">\n",
       "<tr>\n",
       "           <td></td>              <th>coef</th>     <th>std err</th>      <th>t</th>      <th>P>|t|</th>  <th>[0.025</th>    <th>0.975]</th>  \n",
       "</tr>\n",
       "<tr>\n",
       "  <th>pickup_longitude</th>    <td>   25.6144</td> <td>    2.262</td> <td>   11.325</td> <td> 0.000</td> <td>   21.181</td> <td>   30.048</td>\n",
       "</tr>\n",
       "<tr>\n",
       "  <th>pickup_latitude</th>     <td>  -52.4548</td> <td>    3.459</td> <td>  -15.166</td> <td> 0.000</td> <td>  -59.234</td> <td>  -45.675</td>\n",
       "</tr>\n",
       "<tr>\n",
       "  <th>dropoff_longitude</th>   <td>   14.4032</td> <td>    2.322</td> <td>    6.203</td> <td> 0.000</td> <td>    9.851</td> <td>   18.955</td>\n",
       "</tr>\n",
       "<tr>\n",
       "  <th>dropoff_latitude</th>    <td>   11.1828</td> <td>    3.294</td> <td>    3.395</td> <td> 0.001</td> <td>    4.725</td> <td>   17.640</td>\n",
       "</tr>\n",
       "<tr>\n",
       "  <th>trip_distance</th>       <td>  178.1287</td> <td>    2.096</td> <td>   84.971</td> <td> 0.000</td> <td>  174.020</td> <td>  182.238</td>\n",
       "</tr>\n",
       "<tr>\n",
       "  <th>passenger_count_1.0</th> <td>    7.2969</td> <td>    0.832</td> <td>    8.774</td> <td> 0.000</td> <td>    5.667</td> <td>    8.927</td>\n",
       "</tr>\n",
       "<tr>\n",
       "  <th>passenger_count_2.0</th> <td>    8.0014</td> <td>    0.839</td> <td>    9.533</td> <td> 0.000</td> <td>    6.356</td> <td>    9.647</td>\n",
       "</tr>\n",
       "<tr>\n",
       "  <th>passenger_count_3.0</th> <td>    7.8057</td> <td>    0.868</td> <td>    8.989</td> <td> 0.000</td> <td>    6.104</td> <td>    9.508</td>\n",
       "</tr>\n",
       "<tr>\n",
       "  <th>passenger_count_4.0</th> <td>    7.4723</td> <td>    0.907</td> <td>    8.235</td> <td> 0.000</td> <td>    5.694</td> <td>    9.251</td>\n",
       "</tr>\n",
       "<tr>\n",
       "  <th>passenger_count_5.0</th> <td>    7.5066</td> <td>    0.855</td> <td>    8.775</td> <td> 0.000</td> <td>    5.830</td> <td>    9.183</td>\n",
       "</tr>\n",
       "<tr>\n",
       "  <th>passenger_count_6.0</th> <td>    6.9226</td> <td>    0.914</td> <td>    7.572</td> <td> 0.000</td> <td>    5.131</td> <td>    8.715</td>\n",
       "</tr>\n",
       "<tr>\n",
       "  <th>year_2009</th>           <td>    5.1368</td> <td>    0.726</td> <td>    7.074</td> <td> 0.000</td> <td>    3.713</td> <td>    6.560</td>\n",
       "</tr>\n",
       "<tr>\n",
       "  <th>year_2010</th>           <td>    5.1036</td> <td>    0.723</td> <td>    7.062</td> <td> 0.000</td> <td>    3.687</td> <td>    6.520</td>\n",
       "</tr>\n",
       "<tr>\n",
       "  <th>year_2011</th>           <td>    5.1389</td> <td>    0.718</td> <td>    7.153</td> <td> 0.000</td> <td>    3.731</td> <td>    6.547</td>\n",
       "</tr>\n",
       "<tr>\n",
       "  <th>year_2012</th>           <td>    6.2874</td> <td>    0.721</td> <td>    8.717</td> <td> 0.000</td> <td>    4.874</td> <td>    7.701</td>\n",
       "</tr>\n",
       "<tr>\n",
       "  <th>year_2013</th>           <td>    7.3161</td> <td>    0.721</td> <td>   10.142</td> <td> 0.000</td> <td>    5.902</td> <td>    8.730</td>\n",
       "</tr>\n",
       "<tr>\n",
       "  <th>year_2014</th>           <td>    7.7889</td> <td>    0.723</td> <td>   10.779</td> <td> 0.000</td> <td>    6.372</td> <td>    9.205</td>\n",
       "</tr>\n",
       "<tr>\n",
       "  <th>year_2015</th>           <td>    8.2338</td> <td>    0.741</td> <td>   11.116</td> <td> 0.000</td> <td>    6.782</td> <td>    9.686</td>\n",
       "</tr>\n",
       "<tr>\n",
       "  <th>month_1</th>             <td>    2.9521</td> <td>    0.454</td> <td>    6.496</td> <td> 0.000</td> <td>    2.061</td> <td>    3.843</td>\n",
       "</tr>\n",
       "<tr>\n",
       "  <th>month_2</th>             <td>    3.2249</td> <td>    0.458</td> <td>    7.041</td> <td> 0.000</td> <td>    2.327</td> <td>    4.123</td>\n",
       "</tr>\n",
       "<tr>\n",
       "  <th>month_3</th>             <td>    3.5171</td> <td>    0.452</td> <td>    7.776</td> <td> 0.000</td> <td>    2.631</td> <td>    4.404</td>\n",
       "</tr>\n",
       "<tr>\n",
       "  <th>month_4</th>             <td>    3.4411</td> <td>    0.453</td> <td>    7.605</td> <td> 0.000</td> <td>    2.554</td> <td>    4.328</td>\n",
       "</tr>\n",
       "<tr>\n",
       "  <th>month_5</th>             <td>    3.7820</td> <td>    0.457</td> <td>    8.278</td> <td> 0.000</td> <td>    2.886</td> <td>    4.678</td>\n",
       "</tr>\n",
       "<tr>\n",
       "  <th>month_6</th>             <td>    3.6388</td> <td>    0.455</td> <td>    7.995</td> <td> 0.000</td> <td>    2.747</td> <td>    4.531</td>\n",
       "</tr>\n",
       "<tr>\n",
       "  <th>month_7</th>             <td>    3.4196</td> <td>    0.463</td> <td>    7.389</td> <td> 0.000</td> <td>    2.512</td> <td>    4.327</td>\n",
       "</tr>\n",
       "<tr>\n",
       "  <th>month_8</th>             <td>    3.7098</td> <td>    0.467</td> <td>    7.940</td> <td> 0.000</td> <td>    2.794</td> <td>    4.626</td>\n",
       "</tr>\n",
       "<tr>\n",
       "  <th>month_9</th>             <td>    4.3568</td> <td>    0.465</td> <td>    9.371</td> <td> 0.000</td> <td>    3.446</td> <td>    5.268</td>\n",
       "</tr>\n",
       "<tr>\n",
       "  <th>month_10</th>            <td>    4.5866</td> <td>    0.458</td> <td>   10.014</td> <td> 0.000</td> <td>    3.689</td> <td>    5.484</td>\n",
       "</tr>\n",
       "<tr>\n",
       "  <th>month_11</th>            <td>    4.1931</td> <td>    0.465</td> <td>    9.013</td> <td> 0.000</td> <td>    3.281</td> <td>    5.105</td>\n",
       "</tr>\n",
       "<tr>\n",
       "  <th>month_12</th>            <td>    4.1835</td> <td>    0.463</td> <td>    9.030</td> <td> 0.000</td> <td>    3.275</td> <td>    5.092</td>\n",
       "</tr>\n",
       "<tr>\n",
       "  <th>hour_0</th>              <td>    1.5588</td> <td>    0.361</td> <td>    4.317</td> <td> 0.000</td> <td>    0.851</td> <td>    2.267</td>\n",
       "</tr>\n",
       "<tr>\n",
       "  <th>hour_1</th>              <td>    1.5256</td> <td>    0.394</td> <td>    3.871</td> <td> 0.000</td> <td>    0.753</td> <td>    2.298</td>\n",
       "</tr>\n",
       "<tr>\n",
       "  <th>hour_2</th>              <td>    1.5050</td> <td>    0.454</td> <td>    3.314</td> <td> 0.001</td> <td>    0.615</td> <td>    2.395</td>\n",
       "</tr>\n",
       "<tr>\n",
       "  <th>hour_3</th>              <td>    1.4653</td> <td>    0.489</td> <td>    2.995</td> <td> 0.003</td> <td>    0.506</td> <td>    2.424</td>\n",
       "</tr>\n",
       "<tr>\n",
       "  <th>hour_4</th>              <td>    1.2394</td> <td>    0.546</td> <td>    2.270</td> <td> 0.023</td> <td>    0.169</td> <td>    2.310</td>\n",
       "</tr>\n",
       "<tr>\n",
       "  <th>hour_5</th>              <td>    2.8976</td> <td>    0.601</td> <td>    4.823</td> <td> 0.000</td> <td>    1.720</td> <td>    4.075</td>\n",
       "</tr>\n",
       "<tr>\n",
       "  <th>hour_6</th>              <td>    1.8054</td> <td>    0.453</td> <td>    3.981</td> <td> 0.000</td> <td>    0.917</td> <td>    2.694</td>\n",
       "</tr>\n",
       "<tr>\n",
       "  <th>hour_7</th>              <td>    1.4475</td> <td>    0.370</td> <td>    3.915</td> <td> 0.000</td> <td>    0.723</td> <td>    2.172</td>\n",
       "</tr>\n",
       "<tr>\n",
       "  <th>hour_8</th>              <td>    2.0667</td> <td>    0.353</td> <td>    5.855</td> <td> 0.000</td> <td>    1.375</td> <td>    2.759</td>\n",
       "</tr>\n",
       "<tr>\n",
       "  <th>hour_9</th>              <td>    2.1779</td> <td>    0.342</td> <td>    6.362</td> <td> 0.000</td> <td>    1.507</td> <td>    2.849</td>\n",
       "</tr>\n",
       "<tr>\n",
       "  <th>hour_10</th>             <td>    1.7730</td> <td>    0.357</td> <td>    4.969</td> <td> 0.000</td> <td>    1.074</td> <td>    2.472</td>\n",
       "</tr>\n",
       "<tr>\n",
       "  <th>hour_11</th>             <td>    2.2755</td> <td>    0.346</td> <td>    6.579</td> <td> 0.000</td> <td>    1.597</td> <td>    2.953</td>\n",
       "</tr>\n",
       "<tr>\n",
       "  <th>hour_12</th>             <td>    2.1387</td> <td>    0.335</td> <td>    6.380</td> <td> 0.000</td> <td>    1.482</td> <td>    2.796</td>\n",
       "</tr>\n",
       "<tr>\n",
       "  <th>hour_13</th>             <td>    2.3032</td> <td>    0.341</td> <td>    6.762</td> <td> 0.000</td> <td>    1.636</td> <td>    2.971</td>\n",
       "</tr>\n",
       "<tr>\n",
       "  <th>hour_14</th>             <td>    2.9503</td> <td>    0.340</td> <td>    8.676</td> <td> 0.000</td> <td>    2.284</td> <td>    3.617</td>\n",
       "</tr>\n",
       "<tr>\n",
       "  <th>hour_15</th>             <td>    2.3543</td> <td>    0.348</td> <td>    6.758</td> <td> 0.000</td> <td>    1.672</td> <td>    3.037</td>\n",
       "</tr>\n",
       "<tr>\n",
       "  <th>hour_16</th>             <td>    2.8598</td> <td>    0.360</td> <td>    7.954</td> <td> 0.000</td> <td>    2.155</td> <td>    3.565</td>\n",
       "</tr>\n",
       "<tr>\n",
       "  <th>hour_17</th>             <td>    1.9327</td> <td>    0.343</td> <td>    5.628</td> <td> 0.000</td> <td>    1.260</td> <td>    2.606</td>\n",
       "</tr>\n",
       "<tr>\n",
       "  <th>hour_18</th>             <td>    1.8790</td> <td>    0.321</td> <td>    5.859</td> <td> 0.000</td> <td>    1.250</td> <td>    2.508</td>\n",
       "</tr>\n",
       "<tr>\n",
       "  <th>hour_19</th>             <td>    1.2082</td> <td>    0.322</td> <td>    3.746</td> <td> 0.000</td> <td>    0.576</td> <td>    1.840</td>\n",
       "</tr>\n",
       "<tr>\n",
       "  <th>hour_20</th>             <td>    1.6739</td> <td>    0.316</td> <td>    5.298</td> <td> 0.000</td> <td>    1.055</td> <td>    2.293</td>\n",
       "</tr>\n",
       "<tr>\n",
       "  <th>hour_21</th>             <td>    1.2917</td> <td>    0.321</td> <td>    4.029</td> <td> 0.000</td> <td>    0.663</td> <td>    1.920</td>\n",
       "</tr>\n",
       "<tr>\n",
       "  <th>hour_22</th>             <td>    1.6692</td> <td>    0.322</td> <td>    5.192</td> <td> 0.000</td> <td>    1.039</td> <td>    2.299</td>\n",
       "</tr>\n",
       "<tr>\n",
       "  <th>hour_23</th>             <td>    1.0070</td> <td>    0.334</td> <td>    3.017</td> <td> 0.003</td> <td>    0.353</td> <td>    1.661</td>\n",
       "</tr>\n",
       "</table>\n",
       "<table class=\"simpletable\">\n",
       "<tr>\n",
       "  <th>Omnibus:</th>       <td>10160.264</td> <th>  Durbin-Watson:     </th>   <td>   1.984</td>  \n",
       "</tr>\n",
       "<tr>\n",
       "  <th>Prob(Omnibus):</th>  <td> 0.000</td>   <th>  Jarque-Bera (JB):  </th> <td>36584415.768</td>\n",
       "</tr>\n",
       "<tr>\n",
       "  <th>Skew:</th>           <td>-2.364</td>   <th>  Prob(JB):          </th>   <td>    0.00</td>  \n",
       "</tr>\n",
       "<tr>\n",
       "  <th>Kurtosis:</th>       <td>268.479</td>  <th>  Cond. No.          </th>   <td>2.06e+16</td>  \n",
       "</tr>\n",
       "</table><br/><br/>Warnings:<br/>[1] Standard Errors assume that the covariance matrix of the errors is correctly specified.<br/>[2] The smallest eigenvalue is 5.72e-29. This might indicate that there are<br/>strong multicollinearity problems or that the design matrix is singular."
      ],
      "text/plain": [
       "<class 'statsmodels.iolib.summary.Summary'>\n",
       "\"\"\"\n",
       "                            OLS Regression Results                            \n",
       "==============================================================================\n",
       "Dep. Variable:            fare_amount   R-squared:                       0.515\n",
       "Model:                            OLS   Adj. R-squared:                  0.513\n",
       "Method:                 Least Squares   F-statistic:                     263.1\n",
       "Date:                Wed, 08 Jan 2020   Prob (F-statistic):               0.00\n",
       "Time:                        12:24:34   Log-Likelihood:                -41302.\n",
       "No. Observations:               12454   AIC:                         8.271e+04\n",
       "Df Residuals:                   12403   BIC:                         8.309e+04\n",
       "Df Model:                          50                                         \n",
       "Covariance Type:            nonrobust                                         \n",
       "=======================================================================================\n",
       "                          coef    std err          t      P>|t|      [0.025      0.975]\n",
       "---------------------------------------------------------------------------------------\n",
       "pickup_longitude       25.6144      2.262     11.325      0.000      21.181      30.048\n",
       "pickup_latitude       -52.4548      3.459    -15.166      0.000     -59.234     -45.675\n",
       "dropoff_longitude      14.4032      2.322      6.203      0.000       9.851      18.955\n",
       "dropoff_latitude       11.1828      3.294      3.395      0.001       4.725      17.640\n",
       "trip_distance         178.1287      2.096     84.971      0.000     174.020     182.238\n",
       "passenger_count_1.0     7.2969      0.832      8.774      0.000       5.667       8.927\n",
       "passenger_count_2.0     8.0014      0.839      9.533      0.000       6.356       9.647\n",
       "passenger_count_3.0     7.8057      0.868      8.989      0.000       6.104       9.508\n",
       "passenger_count_4.0     7.4723      0.907      8.235      0.000       5.694       9.251\n",
       "passenger_count_5.0     7.5066      0.855      8.775      0.000       5.830       9.183\n",
       "passenger_count_6.0     6.9226      0.914      7.572      0.000       5.131       8.715\n",
       "year_2009               5.1368      0.726      7.074      0.000       3.713       6.560\n",
       "year_2010               5.1036      0.723      7.062      0.000       3.687       6.520\n",
       "year_2011               5.1389      0.718      7.153      0.000       3.731       6.547\n",
       "year_2012               6.2874      0.721      8.717      0.000       4.874       7.701\n",
       "year_2013               7.3161      0.721     10.142      0.000       5.902       8.730\n",
       "year_2014               7.7889      0.723     10.779      0.000       6.372       9.205\n",
       "year_2015               8.2338      0.741     11.116      0.000       6.782       9.686\n",
       "month_1                 2.9521      0.454      6.496      0.000       2.061       3.843\n",
       "month_2                 3.2249      0.458      7.041      0.000       2.327       4.123\n",
       "month_3                 3.5171      0.452      7.776      0.000       2.631       4.404\n",
       "month_4                 3.4411      0.453      7.605      0.000       2.554       4.328\n",
       "month_5                 3.7820      0.457      8.278      0.000       2.886       4.678\n",
       "month_6                 3.6388      0.455      7.995      0.000       2.747       4.531\n",
       "month_7                 3.4196      0.463      7.389      0.000       2.512       4.327\n",
       "month_8                 3.7098      0.467      7.940      0.000       2.794       4.626\n",
       "month_9                 4.3568      0.465      9.371      0.000       3.446       5.268\n",
       "month_10                4.5866      0.458     10.014      0.000       3.689       5.484\n",
       "month_11                4.1931      0.465      9.013      0.000       3.281       5.105\n",
       "month_12                4.1835      0.463      9.030      0.000       3.275       5.092\n",
       "hour_0                  1.5588      0.361      4.317      0.000       0.851       2.267\n",
       "hour_1                  1.5256      0.394      3.871      0.000       0.753       2.298\n",
       "hour_2                  1.5050      0.454      3.314      0.001       0.615       2.395\n",
       "hour_3                  1.4653      0.489      2.995      0.003       0.506       2.424\n",
       "hour_4                  1.2394      0.546      2.270      0.023       0.169       2.310\n",
       "hour_5                  2.8976      0.601      4.823      0.000       1.720       4.075\n",
       "hour_6                  1.8054      0.453      3.981      0.000       0.917       2.694\n",
       "hour_7                  1.4475      0.370      3.915      0.000       0.723       2.172\n",
       "hour_8                  2.0667      0.353      5.855      0.000       1.375       2.759\n",
       "hour_9                  2.1779      0.342      6.362      0.000       1.507       2.849\n",
       "hour_10                 1.7730      0.357      4.969      0.000       1.074       2.472\n",
       "hour_11                 2.2755      0.346      6.579      0.000       1.597       2.953\n",
       "hour_12                 2.1387      0.335      6.380      0.000       1.482       2.796\n",
       "hour_13                 2.3032      0.341      6.762      0.000       1.636       2.971\n",
       "hour_14                 2.9503      0.340      8.676      0.000       2.284       3.617\n",
       "hour_15                 2.3543      0.348      6.758      0.000       1.672       3.037\n",
       "hour_16                 2.8598      0.360      7.954      0.000       2.155       3.565\n",
       "hour_17                 1.9327      0.343      5.628      0.000       1.260       2.606\n",
       "hour_18                 1.8790      0.321      5.859      0.000       1.250       2.508\n",
       "hour_19                 1.2082      0.322      3.746      0.000       0.576       1.840\n",
       "hour_20                 1.6739      0.316      5.298      0.000       1.055       2.293\n",
       "hour_21                 1.2917      0.321      4.029      0.000       0.663       1.920\n",
       "hour_22                 1.6692      0.322      5.192      0.000       1.039       2.299\n",
       "hour_23                 1.0070      0.334      3.017      0.003       0.353       1.661\n",
       "==============================================================================\n",
       "Omnibus:                    10160.264   Durbin-Watson:                   1.984\n",
       "Prob(Omnibus):                  0.000   Jarque-Bera (JB):         36584415.768\n",
       "Skew:                          -2.364   Prob(JB):                         0.00\n",
       "Kurtosis:                     268.479   Cond. No.                     2.06e+16\n",
       "==============================================================================\n",
       "\n",
       "Warnings:\n",
       "[1] Standard Errors assume that the covariance matrix of the errors is correctly specified.\n",
       "[2] The smallest eigenvalue is 5.72e-29. This might indicate that there are\n",
       "strong multicollinearity problems or that the design matrix is singular.\n",
       "\"\"\""
      ]
     },
     "execution_count": 94,
     "metadata": {},
     "output_type": "execute_result"
    }
   ],
   "source": [
    "model.summary()"
   ]
  },
  {
   "cell_type": "markdown",
   "metadata": {},
   "source": [
    "Lets see the effect of different variable on our model by plotting cureve between varaible and regression coefficients"
   ]
  },
  {
   "cell_type": "code",
   "execution_count": 95,
   "metadata": {},
   "outputs": [],
   "source": [
    "coeff=pd.DataFrame(model.params)\n",
    "coeff=coeff.reset_index()\n",
    "coeff=coeff.rename(columns={\"index\":\"variable\",0:\"coeff\"})"
   ]
  },
  {
   "cell_type": "code",
   "execution_count": 96,
   "metadata": {
    "collapsed": true
   },
   "outputs": [
    {
     "data": {
      "text/html": [
       "<div>\n",
       "<style scoped>\n",
       "    .dataframe tbody tr th:only-of-type {\n",
       "        vertical-align: middle;\n",
       "    }\n",
       "\n",
       "    .dataframe tbody tr th {\n",
       "        vertical-align: top;\n",
       "    }\n",
       "\n",
       "    .dataframe thead th {\n",
       "        text-align: right;\n",
       "    }\n",
       "</style>\n",
       "<table border=\"1\" class=\"dataframe\">\n",
       "  <thead>\n",
       "    <tr style=\"text-align: right;\">\n",
       "      <th></th>\n",
       "      <th>variable</th>\n",
       "      <th>coeff</th>\n",
       "    </tr>\n",
       "  </thead>\n",
       "  <tbody>\n",
       "    <tr>\n",
       "      <th>0</th>\n",
       "      <td>pickup_longitude</td>\n",
       "      <td>25.614419</td>\n",
       "    </tr>\n",
       "    <tr>\n",
       "      <th>1</th>\n",
       "      <td>pickup_latitude</td>\n",
       "      <td>-52.454776</td>\n",
       "    </tr>\n",
       "    <tr>\n",
       "      <th>2</th>\n",
       "      <td>dropoff_longitude</td>\n",
       "      <td>14.403235</td>\n",
       "    </tr>\n",
       "    <tr>\n",
       "      <th>3</th>\n",
       "      <td>dropoff_latitude</td>\n",
       "      <td>11.182817</td>\n",
       "    </tr>\n",
       "    <tr>\n",
       "      <th>4</th>\n",
       "      <td>trip_distance</td>\n",
       "      <td>178.128687</td>\n",
       "    </tr>\n",
       "    <tr>\n",
       "      <th>5</th>\n",
       "      <td>passenger_count_1.0</td>\n",
       "      <td>7.296859</td>\n",
       "    </tr>\n",
       "    <tr>\n",
       "      <th>6</th>\n",
       "      <td>passenger_count_2.0</td>\n",
       "      <td>8.001409</td>\n",
       "    </tr>\n",
       "    <tr>\n",
       "      <th>7</th>\n",
       "      <td>passenger_count_3.0</td>\n",
       "      <td>7.805678</td>\n",
       "    </tr>\n",
       "    <tr>\n",
       "      <th>8</th>\n",
       "      <td>passenger_count_4.0</td>\n",
       "      <td>7.472323</td>\n",
       "    </tr>\n",
       "    <tr>\n",
       "      <th>9</th>\n",
       "      <td>passenger_count_5.0</td>\n",
       "      <td>7.506607</td>\n",
       "    </tr>\n",
       "    <tr>\n",
       "      <th>10</th>\n",
       "      <td>passenger_count_6.0</td>\n",
       "      <td>6.922628</td>\n",
       "    </tr>\n",
       "    <tr>\n",
       "      <th>11</th>\n",
       "      <td>year_2009</td>\n",
       "      <td>5.136770</td>\n",
       "    </tr>\n",
       "    <tr>\n",
       "      <th>12</th>\n",
       "      <td>year_2010</td>\n",
       "      <td>5.103649</td>\n",
       "    </tr>\n",
       "    <tr>\n",
       "      <th>13</th>\n",
       "      <td>year_2011</td>\n",
       "      <td>5.138863</td>\n",
       "    </tr>\n",
       "    <tr>\n",
       "      <th>14</th>\n",
       "      <td>year_2012</td>\n",
       "      <td>6.287408</td>\n",
       "    </tr>\n",
       "    <tr>\n",
       "      <th>15</th>\n",
       "      <td>year_2013</td>\n",
       "      <td>7.316122</td>\n",
       "    </tr>\n",
       "    <tr>\n",
       "      <th>16</th>\n",
       "      <td>year_2014</td>\n",
       "      <td>7.788905</td>\n",
       "    </tr>\n",
       "    <tr>\n",
       "      <th>17</th>\n",
       "      <td>year_2015</td>\n",
       "      <td>8.233786</td>\n",
       "    </tr>\n",
       "    <tr>\n",
       "      <th>18</th>\n",
       "      <td>month_1</td>\n",
       "      <td>2.952092</td>\n",
       "    </tr>\n",
       "    <tr>\n",
       "      <th>19</th>\n",
       "      <td>month_2</td>\n",
       "      <td>3.224943</td>\n",
       "    </tr>\n",
       "    <tr>\n",
       "      <th>20</th>\n",
       "      <td>month_3</td>\n",
       "      <td>3.517100</td>\n",
       "    </tr>\n",
       "    <tr>\n",
       "      <th>21</th>\n",
       "      <td>month_4</td>\n",
       "      <td>3.441103</td>\n",
       "    </tr>\n",
       "    <tr>\n",
       "      <th>22</th>\n",
       "      <td>month_5</td>\n",
       "      <td>3.782018</td>\n",
       "    </tr>\n",
       "    <tr>\n",
       "      <th>23</th>\n",
       "      <td>month_6</td>\n",
       "      <td>3.638848</td>\n",
       "    </tr>\n",
       "    <tr>\n",
       "      <th>24</th>\n",
       "      <td>month_7</td>\n",
       "      <td>3.419649</td>\n",
       "    </tr>\n",
       "    <tr>\n",
       "      <th>25</th>\n",
       "      <td>month_8</td>\n",
       "      <td>3.709753</td>\n",
       "    </tr>\n",
       "    <tr>\n",
       "      <th>26</th>\n",
       "      <td>month_9</td>\n",
       "      <td>4.356800</td>\n",
       "    </tr>\n",
       "    <tr>\n",
       "      <th>27</th>\n",
       "      <td>month_10</td>\n",
       "      <td>4.586558</td>\n",
       "    </tr>\n",
       "    <tr>\n",
       "      <th>28</th>\n",
       "      <td>month_11</td>\n",
       "      <td>4.193126</td>\n",
       "    </tr>\n",
       "    <tr>\n",
       "      <th>29</th>\n",
       "      <td>month_12</td>\n",
       "      <td>4.183513</td>\n",
       "    </tr>\n",
       "    <tr>\n",
       "      <th>30</th>\n",
       "      <td>hour_0</td>\n",
       "      <td>1.558829</td>\n",
       "    </tr>\n",
       "    <tr>\n",
       "      <th>31</th>\n",
       "      <td>hour_1</td>\n",
       "      <td>1.525558</td>\n",
       "    </tr>\n",
       "    <tr>\n",
       "      <th>32</th>\n",
       "      <td>hour_2</td>\n",
       "      <td>1.504997</td>\n",
       "    </tr>\n",
       "    <tr>\n",
       "      <th>33</th>\n",
       "      <td>hour_3</td>\n",
       "      <td>1.465339</td>\n",
       "    </tr>\n",
       "    <tr>\n",
       "      <th>34</th>\n",
       "      <td>hour_4</td>\n",
       "      <td>1.239376</td>\n",
       "    </tr>\n",
       "    <tr>\n",
       "      <th>35</th>\n",
       "      <td>hour_5</td>\n",
       "      <td>2.897586</td>\n",
       "    </tr>\n",
       "    <tr>\n",
       "      <th>36</th>\n",
       "      <td>hour_6</td>\n",
       "      <td>1.805376</td>\n",
       "    </tr>\n",
       "    <tr>\n",
       "      <th>37</th>\n",
       "      <td>hour_7</td>\n",
       "      <td>1.447462</td>\n",
       "    </tr>\n",
       "    <tr>\n",
       "      <th>38</th>\n",
       "      <td>hour_8</td>\n",
       "      <td>2.066670</td>\n",
       "    </tr>\n",
       "    <tr>\n",
       "      <th>39</th>\n",
       "      <td>hour_9</td>\n",
       "      <td>2.177905</td>\n",
       "    </tr>\n",
       "    <tr>\n",
       "      <th>40</th>\n",
       "      <td>hour_10</td>\n",
       "      <td>1.773017</td>\n",
       "    </tr>\n",
       "    <tr>\n",
       "      <th>41</th>\n",
       "      <td>hour_11</td>\n",
       "      <td>2.275455</td>\n",
       "    </tr>\n",
       "    <tr>\n",
       "      <th>42</th>\n",
       "      <td>hour_12</td>\n",
       "      <td>2.138668</td>\n",
       "    </tr>\n",
       "    <tr>\n",
       "      <th>43</th>\n",
       "      <td>hour_13</td>\n",
       "      <td>2.303226</td>\n",
       "    </tr>\n",
       "    <tr>\n",
       "      <th>44</th>\n",
       "      <td>hour_14</td>\n",
       "      <td>2.950279</td>\n",
       "    </tr>\n",
       "    <tr>\n",
       "      <th>45</th>\n",
       "      <td>hour_15</td>\n",
       "      <td>2.354343</td>\n",
       "    </tr>\n",
       "    <tr>\n",
       "      <th>46</th>\n",
       "      <td>hour_16</td>\n",
       "      <td>2.859814</td>\n",
       "    </tr>\n",
       "    <tr>\n",
       "      <th>47</th>\n",
       "      <td>hour_17</td>\n",
       "      <td>1.932725</td>\n",
       "    </tr>\n",
       "    <tr>\n",
       "      <th>48</th>\n",
       "      <td>hour_18</td>\n",
       "      <td>1.879015</td>\n",
       "    </tr>\n",
       "    <tr>\n",
       "      <th>49</th>\n",
       "      <td>hour_19</td>\n",
       "      <td>1.208189</td>\n",
       "    </tr>\n",
       "    <tr>\n",
       "      <th>50</th>\n",
       "      <td>hour_20</td>\n",
       "      <td>1.673853</td>\n",
       "    </tr>\n",
       "    <tr>\n",
       "      <th>51</th>\n",
       "      <td>hour_21</td>\n",
       "      <td>1.291651</td>\n",
       "    </tr>\n",
       "    <tr>\n",
       "      <th>52</th>\n",
       "      <td>hour_22</td>\n",
       "      <td>1.669158</td>\n",
       "    </tr>\n",
       "    <tr>\n",
       "      <th>53</th>\n",
       "      <td>hour_23</td>\n",
       "      <td>1.007012</td>\n",
       "    </tr>\n",
       "  </tbody>\n",
       "</table>\n",
       "</div>"
      ],
      "text/plain": [
       "               variable       coeff\n",
       "0      pickup_longitude   25.614419\n",
       "1       pickup_latitude  -52.454776\n",
       "2     dropoff_longitude   14.403235\n",
       "3      dropoff_latitude   11.182817\n",
       "4         trip_distance  178.128687\n",
       "5   passenger_count_1.0    7.296859\n",
       "6   passenger_count_2.0    8.001409\n",
       "7   passenger_count_3.0    7.805678\n",
       "8   passenger_count_4.0    7.472323\n",
       "9   passenger_count_5.0    7.506607\n",
       "10  passenger_count_6.0    6.922628\n",
       "11            year_2009    5.136770\n",
       "12            year_2010    5.103649\n",
       "13            year_2011    5.138863\n",
       "14            year_2012    6.287408\n",
       "15            year_2013    7.316122\n",
       "16            year_2014    7.788905\n",
       "17            year_2015    8.233786\n",
       "18              month_1    2.952092\n",
       "19              month_2    3.224943\n",
       "20              month_3    3.517100\n",
       "21              month_4    3.441103\n",
       "22              month_5    3.782018\n",
       "23              month_6    3.638848\n",
       "24              month_7    3.419649\n",
       "25              month_8    3.709753\n",
       "26              month_9    4.356800\n",
       "27             month_10    4.586558\n",
       "28             month_11    4.193126\n",
       "29             month_12    4.183513\n",
       "30               hour_0    1.558829\n",
       "31               hour_1    1.525558\n",
       "32               hour_2    1.504997\n",
       "33               hour_3    1.465339\n",
       "34               hour_4    1.239376\n",
       "35               hour_5    2.897586\n",
       "36               hour_6    1.805376\n",
       "37               hour_7    1.447462\n",
       "38               hour_8    2.066670\n",
       "39               hour_9    2.177905\n",
       "40              hour_10    1.773017\n",
       "41              hour_11    2.275455\n",
       "42              hour_12    2.138668\n",
       "43              hour_13    2.303226\n",
       "44              hour_14    2.950279\n",
       "45              hour_15    2.354343\n",
       "46              hour_16    2.859814\n",
       "47              hour_17    1.932725\n",
       "48              hour_18    1.879015\n",
       "49              hour_19    1.208189\n",
       "50              hour_20    1.673853\n",
       "51              hour_21    1.291651\n",
       "52              hour_22    1.669158\n",
       "53              hour_23    1.007012"
      ]
     },
     "execution_count": 96,
     "metadata": {},
     "output_type": "execute_result"
    }
   ],
   "source": [
    "coeff"
   ]
  },
  {
   "cell_type": "code",
   "execution_count": 97,
   "metadata": {
    "scrolled": false
   },
   "outputs": [
    {
     "data": {
      "text/plain": [
       "Text(0.5, 1.0, 'Regression Coeff')"
      ]
     },
     "execution_count": 97,
     "metadata": {},
     "output_type": "execute_result"
    },
    {
     "data": {
      "image/png": "[encoded data removed]",
      "text/plain": [
       "<Figure size 1440x360 with 1 Axes>"
      ]
     },
     "metadata": {
      "needs_background": "light"
     },
     "output_type": "display_data"
    }
   ],
   "source": [
    "#Lets check how fare_amount varies with hour\n",
    "plt.figure(figsize=(20,5))\n",
    "sns.barplot(x='variable',y='coeff',data=coeff).set_title(\"Regression Coeff\")"
   ]
  },
  {
   "cell_type": "code",
   "execution_count": 98,
   "metadata": {},
   "outputs": [],
   "source": [
    "y_pred=model.predict(df_test)"
   ]
  },
  {
   "cell_type": "code",
   "execution_count": 1,
   "metadata": {},
   "outputs": [
    {
     "ename": "NameError",
     "evalue": "name 'np' is not defined",
     "output_type": "error",
     "traceback": [
      "\u001b[1;31m---------------------------------------------------------------------------\u001b[0m",
      "\u001b[1;31mNameError\u001b[0m                                 Traceback (most recent call last)",
      "\u001b[1;32m<ipython-input-1-602ffe3827c3>\u001b[0m in \u001b[0;36m<module>\u001b[1;34m\u001b[0m\n\u001b[1;32m----> 1\u001b[1;33m \u001b[0mprint\u001b[0m\u001b[1;33m(\u001b[0m\u001b[1;34m'MAPE:{}'\u001b[0m\u001b[1;33m.\u001b[0m\u001b[0mformat\u001b[0m\u001b[1;33m(\u001b[0m\u001b[0mnp\u001b[0m\u001b[1;33m.\u001b[0m\u001b[0mmean\u001b[0m\u001b[1;33m(\u001b[0m\u001b[0mnp\u001b[0m\u001b[1;33m.\u001b[0m\u001b[0mabs\u001b[0m\u001b[1;33m(\u001b[0m\u001b[1;33m(\u001b[0m\u001b[0my_test\u001b[0m \u001b[1;33m-\u001b[0m \u001b[0my_pred\u001b[0m\u001b[1;33m)\u001b[0m \u001b[1;33m/\u001b[0m \u001b[0my_test\u001b[0m\u001b[1;33m)\u001b[0m\u001b[1;33m)\u001b[0m\u001b[1;33m*\u001b[0m\u001b[1;36m100\u001b[0m\u001b[1;33m)\u001b[0m\u001b[1;33m)\u001b[0m\u001b[1;33m\u001b[0m\u001b[1;33m\u001b[0m\u001b[0m\n\u001b[0m\u001b[0;32m      2\u001b[0m \u001b[0mprint\u001b[0m\u001b[1;33m(\u001b[0m\u001b[1;34m'MSE:'\u001b[0m\u001b[1;33m,\u001b[0m \u001b[0mmetrics\u001b[0m\u001b[1;33m.\u001b[0m\u001b[0mmean_squared_error\u001b[0m\u001b[1;33m(\u001b[0m\u001b[0my_test\u001b[0m\u001b[1;33m,\u001b[0m \u001b[0my_pred\u001b[0m\u001b[1;33m)\u001b[0m\u001b[1;33m)\u001b[0m\u001b[1;33m\u001b[0m\u001b[1;33m\u001b[0m\u001b[0m\n\u001b[0;32m      3\u001b[0m \u001b[0mprint\u001b[0m\u001b[1;33m(\u001b[0m\u001b[1;34m'RMSE:'\u001b[0m\u001b[1;33m,\u001b[0m \u001b[0mnp\u001b[0m\u001b[1;33m.\u001b[0m\u001b[0msqrt\u001b[0m\u001b[1;33m(\u001b[0m\u001b[0mmetrics\u001b[0m\u001b[1;33m.\u001b[0m\u001b[0mmean_squared_error\u001b[0m\u001b[1;33m(\u001b[0m\u001b[0my_test\u001b[0m\u001b[1;33m,\u001b[0m \u001b[0my_pred\u001b[0m\u001b[1;33m)\u001b[0m\u001b[1;33m)\u001b[0m\u001b[1;33m)\u001b[0m\u001b[1;33m\u001b[0m\u001b[1;33m\u001b[0m\u001b[0m\n",
      "\u001b[1;31mNameError\u001b[0m: name 'np' is not defined"
     ]
    }
   ],
   "source": [
    "print('MAPE:{}'.format(np.mean(np.abs((y_test - y_pred) / y_test))*100))\n",
    "print('MSE:', metrics.mean_squared_error(y_test, y_pred))\n",
    "print('RMSE:', np.sqrt(metrics.mean_squared_error(y_test, y_pred)))"
   ]
  },
  {
   "cell_type": "markdown",
   "metadata": {},
   "source": [
    "# 2)Decision Tree"
   ]
  },
  {
   "cell_type": "code",
   "execution_count": 80,
   "metadata": {},
   "outputs": [],
   "source": [
    "fit=DecisionTreeRegressor().fit(x_train,y_train)"
   ]
  },
  {
   "cell_type": "code",
   "execution_count": 81,
   "metadata": {},
   "outputs": [
    {
     "data": {
      "text/plain": [
       "DecisionTreeRegressor(ccp_alpha=0.0, criterion='mse', max_depth=None,\n",
       "                      max_features=None, max_leaf_nodes=None,\n",
       "                      min_impurity_decrease=0.0, min_impurity_split=None,\n",
       "                      min_samples_leaf=1, min_samples_split=2,\n",
       "                      min_weight_fraction_leaf=0.0, presort='deprecated',\n",
       "                      random_state=None, splitter='best')"
      ]
     },
     "execution_count": 81,
     "metadata": {},
     "output_type": "execute_result"
    }
   ],
   "source": [
    "fit"
   ]
  },
  {
   "cell_type": "code",
   "execution_count": 82,
   "metadata": {},
   "outputs": [],
   "source": [
    "y_pred_DT=fit.predict(x_test)"
   ]
  },
  {
   "cell_type": "code",
   "execution_count": 83,
   "metadata": {},
   "outputs": [
    {
     "name": "stdout",
     "output_type": "stream",
     "text": [
      "r square   0.6931678990536515\n",
      "Adjusted r square:0.6877514448362265\n",
      "MAPE:27.92507097296705\n",
      "MSE: 24.118490269749522\n",
      "RMSE: 4.911057958296717\n"
     ]
    }
   ],
   "source": [
    "print('r square  ', metrics.r2_score(y_test, y_pred_DT))\n",
    "print('Adjusted r square:{}'.format(1 - (1-metrics.r2_score(y_test, y_pred_DT))*(len(y_test)-1)/(len(y_test)-df_train.shape[1]-1)))\n",
    "print('MAPE:{}'.format(np.mean(np.abs((y_test - y_pred_DT) / y_test))*100))\n",
    "print('MSE:', metrics.mean_squared_error(y_test, y_pred_DT))\n",
    "print('RMSE:', np.sqrt(metrics.mean_squared_error(y_test, y_pred_DT)))"
   ]
  },
  {
   "cell_type": "markdown",
   "metadata": {},
   "source": [
    "# 3)Random Forest"
   ]
  },
  {
   "cell_type": "code",
   "execution_count": 71,
   "metadata": {},
   "outputs": [],
   "source": [
    "rf = RandomForestRegressor(n_estimators = 300)"
   ]
  },
  {
   "cell_type": "code",
   "execution_count": 77,
   "metadata": {},
   "outputs": [],
   "source": [
    "model_RF = rf.fit(x_train,y_train)"
   ]
  },
  {
   "cell_type": "code",
   "execution_count": 67,
   "metadata": {},
   "outputs": [
    {
     "data": {
      "text/plain": [
       "RandomForestRegressor(bootstrap=True, ccp_alpha=0.0, criterion='mse',\n",
       "                      max_depth=None, max_features='auto', max_leaf_nodes=None,\n",
       "                      max_samples=None, min_impurity_decrease=0.0,\n",
       "                      min_impurity_split=None, min_samples_leaf=1,\n",
       "                      min_samples_split=2, min_weight_fraction_leaf=0.0,\n",
       "                      n_estimators=300, n_jobs=None, oob_score=False,\n",
       "                      random_state=None, verbose=0, warm_start=False)"
      ]
     },
     "execution_count": 67,
     "metadata": {},
     "output_type": "execute_result"
    }
   ],
   "source": [
    "model_RF"
   ]
  },
  {
   "cell_type": "code",
   "execution_count": 78,
   "metadata": {},
   "outputs": [],
   "source": [
    "y_pred_RF=model_RF.predict(x_test)"
   ]
  },
  {
   "cell_type": "code",
   "execution_count": 79,
   "metadata": {},
   "outputs": [
    {
     "name": "stdout",
     "output_type": "stream",
     "text": [
      "r square   0.8076270696962413\n",
      "Adjusted r square:0.8070692873596647\n",
      "MAPE:22.21276239634232\n",
      "MSE: 15.121444703420043\n",
      "RMSE: 3.888630183421926\n"
     ]
    }
   ],
   "source": [
    "print('r square  ', metrics.r2_score(y_test, y_pred_RF))\n",
    "print('Adjusted r square:{}'.format(1 - (1-metrics.r2_score(y_test, y_pred_RF))*(len(y_test)-1)/(len(y_test)-x_train.shape[1]-1)))\n",
    "print('MAPE:{}'.format(np.mean(np.abs((y_test - y_pred_RF) / y_test))*100))\n",
    "print('MSE:', metrics.mean_squared_error(y_test, y_pred_RF))\n",
    "print('RMSE:', np.sqrt(metrics.mean_squared_error(y_test, y_pred_RF)))"
   ]
  },
  {
   "cell_type": "markdown",
   "metadata": {},
   "source": [
    "# 4) KNN Imputation"
   ]
  },
  {
   "cell_type": "code",
   "execution_count": 102,
   "metadata": {},
   "outputs": [],
   "source": [
    "model_KNN=KNeighborsRegressor(n_neighbors=3).fit(x_train,y_train)"
   ]
  },
  {
   "cell_type": "code",
   "execution_count": 103,
   "metadata": {},
   "outputs": [
    {
     "data": {
      "text/plain": [
       "KNeighborsRegressor(algorithm='auto', leaf_size=30, metric='minkowski',\n",
       "                    metric_params=None, n_jobs=None, n_neighbors=3, p=2,\n",
       "                    weights='uniform')"
      ]
     },
     "execution_count": 103,
     "metadata": {},
     "output_type": "execute_result"
    }
   ],
   "source": [
    "model_KNN"
   ]
  },
  {
   "cell_type": "code",
   "execution_count": 104,
   "metadata": {},
   "outputs": [],
   "source": [
    "y_pred_KNN=model_KNN.predict(x_test)"
   ]
  },
  {
   "cell_type": "code",
   "execution_count": 105,
   "metadata": {},
   "outputs": [
    {
     "name": "stdout",
     "output_type": "stream",
     "text": [
      "r square   0.05133911478471764\n",
      "Adjusted r square:0.048588487218049536\n",
      "MAPE:47.908605117283656\n",
      "MSE: 90.65123916720188\n",
      "RMSE: 9.521094431167137\n"
     ]
    }
   ],
   "source": [
    "print('r square  ', metrics.r2_score(y_test, y_pred_KNN))\n",
    "print('Adjusted r square:{}'.format(1 - (1-metrics.r2_score(y_test, y_pred_KNN))*(len(y_test)-1)/(len(y_test)-x_train.shape[1]-1)))\n",
    "print('MAPE:{}'.format(np.mean(np.abs((y_test - y_pred_KNN) / y_test))*100))\n",
    "print('MSE:', metrics.mean_squared_error(y_test, y_pred_KNN))\n",
    "print('RMSE:', np.sqrt(metrics.mean_squared_error(y_test, y_pred_KNN)))"
   ]
  },
  {
   "cell_type": "markdown",
   "metadata": {},
   "source": [
    "# Error Matrix"
   ]
  },
  {
   "cell_type": "markdown",
   "metadata": {},
   "source": [
    "we select RMSE for error matrix as our fare_amount is time based data and some of its values are higher as compare to other value. so as we can see RMSE from Random forest algorithm is lowest, hence we do our prediction on bases of model build using Random forest"
   ]
  },
  {
   "cell_type": "markdown",
   "metadata": {},
   "source": [
    "# Prediction"
   ]
  },
  {
   "cell_type": "code",
   "execution_count": 106,
   "metadata": {},
   "outputs": [],
   "source": [
    "test[\"fare_amount\"]=model_RF.predict(test)"
   ]
  },
  {
   "cell_type": "code",
   "execution_count": 107,
   "metadata": {
    "collapsed": true
   },
   "outputs": [
    {
     "data": {
      "text/html": [
       "<div>\n",
       "<style scoped>\n",
       "    .dataframe tbody tr th:only-of-type {\n",
       "        vertical-align: middle;\n",
       "    }\n",
       "\n",
       "    .dataframe tbody tr th {\n",
       "        vertical-align: top;\n",
       "    }\n",
       "\n",
       "    .dataframe thead th {\n",
       "        text-align: right;\n",
       "    }\n",
       "</style>\n",
       "<table border=\"1\" class=\"dataframe\">\n",
       "  <thead>\n",
       "    <tr style=\"text-align: right;\">\n",
       "      <th></th>\n",
       "      <th>pickup_longitude</th>\n",
       "      <th>pickup_latitude</th>\n",
       "      <th>dropoff_longitude</th>\n",
       "      <th>dropoff_latitude</th>\n",
       "      <th>passenger_count</th>\n",
       "      <th>trip_distance</th>\n",
       "      <th>year</th>\n",
       "      <th>month</th>\n",
       "      <th>hour</th>\n",
       "      <th>fare_amount</th>\n",
       "    </tr>\n",
       "  </thead>\n",
       "  <tbody>\n",
       "    <tr>\n",
       "      <th>0</th>\n",
       "      <td>0.220338</td>\n",
       "      <td>0.167776</td>\n",
       "      <td>0.221502</td>\n",
       "      <td>0.155060</td>\n",
       "      <td>1</td>\n",
       "      <td>0.023234</td>\n",
       "      <td>2015</td>\n",
       "      <td>1</td>\n",
       "      <td>13</td>\n",
       "      <td>31.041633</td>\n",
       "    </tr>\n",
       "    <tr>\n",
       "      <th>1</th>\n",
       "      <td>0.209638</td>\n",
       "      <td>0.128686</td>\n",
       "      <td>0.207781</td>\n",
       "      <td>0.150950</td>\n",
       "      <td>1</td>\n",
       "      <td>0.024254</td>\n",
       "      <td>2015</td>\n",
       "      <td>1</td>\n",
       "      <td>13</td>\n",
       "      <td>30.360533</td>\n",
       "    </tr>\n",
       "    <tr>\n",
       "      <th>2</th>\n",
       "      <td>0.213066</td>\n",
       "      <td>0.156736</td>\n",
       "      <td>0.222898</td>\n",
       "      <td>0.157102</td>\n",
       "      <td>1</td>\n",
       "      <td>0.006187</td>\n",
       "      <td>2011</td>\n",
       "      <td>10</td>\n",
       "      <td>11</td>\n",
       "      <td>17.460667</td>\n",
       "    </tr>\n",
       "    <tr>\n",
       "      <th>3</th>\n",
       "      <td>0.214143</td>\n",
       "      <td>0.171297</td>\n",
       "      <td>0.214414</td>\n",
       "      <td>0.161976</td>\n",
       "      <td>1</td>\n",
       "      <td>0.019611</td>\n",
       "      <td>2012</td>\n",
       "      <td>12</td>\n",
       "      <td>21</td>\n",
       "      <td>36.504333</td>\n",
       "    </tr>\n",
       "    <tr>\n",
       "      <th>4</th>\n",
       "      <td>0.226085</td>\n",
       "      <td>0.190628</td>\n",
       "      <td>0.215894</td>\n",
       "      <td>0.155584</td>\n",
       "      <td>1</td>\n",
       "      <td>0.053875</td>\n",
       "      <td>2012</td>\n",
       "      <td>12</td>\n",
       "      <td>21</td>\n",
       "      <td>22.292400</td>\n",
       "    </tr>\n",
       "  </tbody>\n",
       "</table>\n",
       "</div>"
      ],
      "text/plain": [
       "   pickup_longitude  pickup_latitude  dropoff_longitude  dropoff_latitude  \\\n",
       "0          0.220338         0.167776           0.221502          0.155060   \n",
       "1          0.209638         0.128686           0.207781          0.150950   \n",
       "2          0.213066         0.156736           0.222898          0.157102   \n",
       "3          0.214143         0.171297           0.214414          0.161976   \n",
       "4          0.226085         0.190628           0.215894          0.155584   \n",
       "\n",
       "  passenger_count  trip_distance  year month hour  fare_amount  \n",
       "0               1       0.023234  2015     1   13    31.041633  \n",
       "1               1       0.024254  2015     1   13    30.360533  \n",
       "2               1       0.006187  2011    10   11    17.460667  \n",
       "3               1       0.019611  2012    12   21    36.504333  \n",
       "4               1       0.053875  2012    12   21    22.292400  "
      ]
     },
     "execution_count": 107,
     "metadata": {},
     "output_type": "execute_result"
    }
   ],
   "source": [
    "test.head()"
   ]
  },
  {
   "cell_type": "code",
   "execution_count": 108,
   "metadata": {},
   "outputs": [],
   "source": [
    "test_results= pd.merge(test,test_pickup_datetime,right_index=True,left_index=True)"
   ]
  },
  {
   "cell_type": "code",
   "execution_count": 110,
   "metadata": {
    "collapsed": true
   },
   "outputs": [
    {
     "data": {
      "text/html": [
       "<div>\n",
       "<style scoped>\n",
       "    .dataframe tbody tr th:only-of-type {\n",
       "        vertical-align: middle;\n",
       "    }\n",
       "\n",
       "    .dataframe tbody tr th {\n",
       "        vertical-align: top;\n",
       "    }\n",
       "\n",
       "    .dataframe thead th {\n",
       "        text-align: right;\n",
       "    }\n",
       "</style>\n",
       "<table border=\"1\" class=\"dataframe\">\n",
       "  <thead>\n",
       "    <tr style=\"text-align: right;\">\n",
       "      <th></th>\n",
       "      <th>pickup_longitude</th>\n",
       "      <th>pickup_latitude</th>\n",
       "      <th>dropoff_longitude</th>\n",
       "      <th>dropoff_latitude</th>\n",
       "      <th>passenger_count</th>\n",
       "      <th>trip_distance</th>\n",
       "      <th>year</th>\n",
       "      <th>month</th>\n",
       "      <th>hour</th>\n",
       "      <th>fare_amount</th>\n",
       "      <th>pickup_datetime</th>\n",
       "    </tr>\n",
       "  </thead>\n",
       "  <tbody>\n",
       "    <tr>\n",
       "      <th>0</th>\n",
       "      <td>0.220338</td>\n",
       "      <td>0.167776</td>\n",
       "      <td>0.221502</td>\n",
       "      <td>0.155060</td>\n",
       "      <td>1</td>\n",
       "      <td>0.023234</td>\n",
       "      <td>2015</td>\n",
       "      <td>1</td>\n",
       "      <td>13</td>\n",
       "      <td>31.041633</td>\n",
       "      <td>2015-01-27 13:08:24</td>\n",
       "    </tr>\n",
       "    <tr>\n",
       "      <th>1</th>\n",
       "      <td>0.209638</td>\n",
       "      <td>0.128686</td>\n",
       "      <td>0.207781</td>\n",
       "      <td>0.150950</td>\n",
       "      <td>1</td>\n",
       "      <td>0.024254</td>\n",
       "      <td>2015</td>\n",
       "      <td>1</td>\n",
       "      <td>13</td>\n",
       "      <td>30.360533</td>\n",
       "      <td>2015-01-27 13:08:24</td>\n",
       "    </tr>\n",
       "    <tr>\n",
       "      <th>2</th>\n",
       "      <td>0.213066</td>\n",
       "      <td>0.156736</td>\n",
       "      <td>0.222898</td>\n",
       "      <td>0.157102</td>\n",
       "      <td>1</td>\n",
       "      <td>0.006187</td>\n",
       "      <td>2011</td>\n",
       "      <td>10</td>\n",
       "      <td>11</td>\n",
       "      <td>17.460667</td>\n",
       "      <td>2011-10-08 11:53:44</td>\n",
       "    </tr>\n",
       "    <tr>\n",
       "      <th>3</th>\n",
       "      <td>0.214143</td>\n",
       "      <td>0.171297</td>\n",
       "      <td>0.214414</td>\n",
       "      <td>0.161976</td>\n",
       "      <td>1</td>\n",
       "      <td>0.019611</td>\n",
       "      <td>2012</td>\n",
       "      <td>12</td>\n",
       "      <td>21</td>\n",
       "      <td>36.504333</td>\n",
       "      <td>2012-12-01 21:12:12</td>\n",
       "    </tr>\n",
       "    <tr>\n",
       "      <th>4</th>\n",
       "      <td>0.226085</td>\n",
       "      <td>0.190628</td>\n",
       "      <td>0.215894</td>\n",
       "      <td>0.155584</td>\n",
       "      <td>1</td>\n",
       "      <td>0.053875</td>\n",
       "      <td>2012</td>\n",
       "      <td>12</td>\n",
       "      <td>21</td>\n",
       "      <td>22.292400</td>\n",
       "      <td>2012-12-01 21:12:12</td>\n",
       "    </tr>\n",
       "    <tr>\n",
       "      <th>...</th>\n",
       "      <td>...</td>\n",
       "      <td>...</td>\n",
       "      <td>...</td>\n",
       "      <td>...</td>\n",
       "      <td>...</td>\n",
       "      <td>...</td>\n",
       "      <td>...</td>\n",
       "      <td>...</td>\n",
       "      <td>...</td>\n",
       "      <td>...</td>\n",
       "      <td>...</td>\n",
       "    </tr>\n",
       "    <tr>\n",
       "      <th>9909</th>\n",
       "      <td>0.224443</td>\n",
       "      <td>0.196983</td>\n",
       "      <td>0.241770</td>\n",
       "      <td>0.187473</td>\n",
       "      <td>6</td>\n",
       "      <td>0.021250</td>\n",
       "      <td>2015</td>\n",
       "      <td>5</td>\n",
       "      <td>12</td>\n",
       "      <td>32.433067</td>\n",
       "      <td>2015-05-10 12:37:51</td>\n",
       "    </tr>\n",
       "    <tr>\n",
       "      <th>9910</th>\n",
       "      <td>0.242310</td>\n",
       "      <td>0.202794</td>\n",
       "      <td>0.238178</td>\n",
       "      <td>0.183911</td>\n",
       "      <td>6</td>\n",
       "      <td>0.032711</td>\n",
       "      <td>2015</td>\n",
       "      <td>1</td>\n",
       "      <td>17</td>\n",
       "      <td>35.773367</td>\n",
       "      <td>2015-01-12 17:05:51</td>\n",
       "    </tr>\n",
       "    <tr>\n",
       "      <th>9911</th>\n",
       "      <td>0.205895</td>\n",
       "      <td>0.135044</td>\n",
       "      <td>0.372167</td>\n",
       "      <td>0.069200</td>\n",
       "      <td>6</td>\n",
       "      <td>0.191847</td>\n",
       "      <td>2015</td>\n",
       "      <td>4</td>\n",
       "      <td>20</td>\n",
       "      <td>56.423200</td>\n",
       "      <td>2015-04-19 20:44:15</td>\n",
       "    </tr>\n",
       "    <tr>\n",
       "      <th>9912</th>\n",
       "      <td>0.210657</td>\n",
       "      <td>0.142808</td>\n",
       "      <td>0.254711</td>\n",
       "      <td>0.206399</td>\n",
       "      <td>6</td>\n",
       "      <td>0.083438</td>\n",
       "      <td>2015</td>\n",
       "      <td>1</td>\n",
       "      <td>1</td>\n",
       "      <td>31.269033</td>\n",
       "      <td>2015-01-31 01:05:19</td>\n",
       "    </tr>\n",
       "    <tr>\n",
       "      <th>9913</th>\n",
       "      <td>0.208722</td>\n",
       "      <td>0.159209</td>\n",
       "      <td>0.206684</td>\n",
       "      <td>0.168702</td>\n",
       "      <td>6</td>\n",
       "      <td>0.011809</td>\n",
       "      <td>2015</td>\n",
       "      <td>1</td>\n",
       "      <td>14</td>\n",
       "      <td>24.897667</td>\n",
       "      <td>2015-01-18 14:06:23</td>\n",
       "    </tr>\n",
       "  </tbody>\n",
       "</table>\n",
       "<p>9914 rows × 11 columns</p>\n",
       "</div>"
      ],
      "text/plain": [
       "      pickup_longitude  pickup_latitude  dropoff_longitude  dropoff_latitude  \\\n",
       "0             0.220338         0.167776           0.221502          0.155060   \n",
       "1             0.209638         0.128686           0.207781          0.150950   \n",
       "2             0.213066         0.156736           0.222898          0.157102   \n",
       "3             0.214143         0.171297           0.214414          0.161976   \n",
       "4             0.226085         0.190628           0.215894          0.155584   \n",
       "...                ...              ...                ...               ...   \n",
       "9909          0.224443         0.196983           0.241770          0.187473   \n",
       "9910          0.242310         0.202794           0.238178          0.183911   \n",
       "9911          0.205895         0.135044           0.372167          0.069200   \n",
       "9912          0.210657         0.142808           0.254711          0.206399   \n",
       "9913          0.208722         0.159209           0.206684          0.168702   \n",
       "\n",
       "     passenger_count  trip_distance  year month hour  fare_amount  \\\n",
       "0                  1       0.023234  2015     1   13    31.041633   \n",
       "1                  1       0.024254  2015     1   13    30.360533   \n",
       "2                  1       0.006187  2011    10   11    17.460667   \n",
       "3                  1       0.019611  2012    12   21    36.504333   \n",
       "4                  1       0.053875  2012    12   21    22.292400   \n",
       "...              ...            ...   ...   ...  ...          ...   \n",
       "9909               6       0.021250  2015     5   12    32.433067   \n",
       "9910               6       0.032711  2015     1   17    35.773367   \n",
       "9911               6       0.191847  2015     4   20    56.423200   \n",
       "9912               6       0.083438  2015     1    1    31.269033   \n",
       "9913               6       0.011809  2015     1   14    24.897667   \n",
       "\n",
       "         pickup_datetime  \n",
       "0    2015-01-27 13:08:24  \n",
       "1    2015-01-27 13:08:24  \n",
       "2    2011-10-08 11:53:44  \n",
       "3    2012-12-01 21:12:12  \n",
       "4    2012-12-01 21:12:12  \n",
       "...                  ...  \n",
       "9909 2015-05-10 12:37:51  \n",
       "9910 2015-01-12 17:05:51  \n",
       "9911 2015-04-19 20:44:15  \n",
       "9912 2015-01-31 01:05:19  \n",
       "9913 2015-01-18 14:06:23  \n",
       "\n",
       "[9914 rows x 11 columns]"
      ]
     },
     "execution_count": 110,
     "metadata": {},
     "output_type": "execute_result"
    }
   ],
   "source": [
    "test_results"
   ]
  },
  {
   "cell_type": "code",
   "execution_count": 112,
   "metadata": {},
   "outputs": [],
   "source": [
    "test_pred=test_results.loc[:,[\"pickup_datetime\",\"fare_amount\"]]"
   ]
  },
  {
   "cell_type": "code",
   "execution_count": 152,
   "metadata": {
    "scrolled": true
   },
   "outputs": [
    {
     "data": {
      "text/html": [
       "<div>\n",
       "<style scoped>\n",
       "    .dataframe tbody tr th:only-of-type {\n",
       "        vertical-align: middle;\n",
       "    }\n",
       "\n",
       "    .dataframe tbody tr th {\n",
       "        vertical-align: top;\n",
       "    }\n",
       "\n",
       "    .dataframe thead th {\n",
       "        text-align: right;\n",
       "    }\n",
       "</style>\n",
       "<table border=\"1\" class=\"dataframe\">\n",
       "  <thead>\n",
       "    <tr style=\"text-align: right;\">\n",
       "      <th></th>\n",
       "      <th>pickup_datetime</th>\n",
       "      <th>fare_amount</th>\n",
       "    </tr>\n",
       "  </thead>\n",
       "  <tbody>\n",
       "    <tr>\n",
       "      <th>0</th>\n",
       "      <td>2015-01-27 13:08:24</td>\n",
       "      <td>31.041633</td>\n",
       "    </tr>\n",
       "    <tr>\n",
       "      <th>1</th>\n",
       "      <td>2015-01-27 13:08:24</td>\n",
       "      <td>30.360533</td>\n",
       "    </tr>\n",
       "    <tr>\n",
       "      <th>2</th>\n",
       "      <td>2011-10-08 11:53:44</td>\n",
       "      <td>17.460667</td>\n",
       "    </tr>\n",
       "    <tr>\n",
       "      <th>3</th>\n",
       "      <td>2012-12-01 21:12:12</td>\n",
       "      <td>36.504333</td>\n",
       "    </tr>\n",
       "    <tr>\n",
       "      <th>4</th>\n",
       "      <td>2012-12-01 21:12:12</td>\n",
       "      <td>22.292400</td>\n",
       "    </tr>\n",
       "  </tbody>\n",
       "</table>\n",
       "</div>"
      ],
      "text/plain": [
       "      pickup_datetime  fare_amount\n",
       "0 2015-01-27 13:08:24    31.041633\n",
       "1 2015-01-27 13:08:24    30.360533\n",
       "2 2011-10-08 11:53:44    17.460667\n",
       "3 2012-12-01 21:12:12    36.504333\n",
       "4 2012-12-01 21:12:12    22.292400"
      ]
     },
     "execution_count": 152,
     "metadata": {},
     "output_type": "execute_result"
    }
   ],
   "source": [
    "test_pred.head()"
   ]
  },
  {
   "cell_type": "code",
   "execution_count": 124,
   "metadata": {},
   "outputs": [],
   "source": [
    "test_copy[\"pickup_datetime\"]=pd.to_datetime(test_copy[\"pickup_datetime\"], format= \"%Y-%m-%d %H:%M:%S UTC\")"
   ]
  },
  {
   "cell_type": "code",
   "execution_count": 153,
   "metadata": {
    "scrolled": true
   },
   "outputs": [
    {
     "data": {
      "text/html": [
       "<div>\n",
       "<style scoped>\n",
       "    .dataframe tbody tr th:only-of-type {\n",
       "        vertical-align: middle;\n",
       "    }\n",
       "\n",
       "    .dataframe tbody tr th {\n",
       "        vertical-align: top;\n",
       "    }\n",
       "\n",
       "    .dataframe thead th {\n",
       "        text-align: right;\n",
       "    }\n",
       "</style>\n",
       "<table border=\"1\" class=\"dataframe\">\n",
       "  <thead>\n",
       "    <tr style=\"text-align: right;\">\n",
       "      <th></th>\n",
       "      <th>pickup_datetime</th>\n",
       "      <th>pickup_longitude</th>\n",
       "      <th>pickup_latitude</th>\n",
       "      <th>dropoff_longitude</th>\n",
       "      <th>dropoff_latitude</th>\n",
       "      <th>passenger_count</th>\n",
       "    </tr>\n",
       "  </thead>\n",
       "  <tbody>\n",
       "    <tr>\n",
       "      <th>0</th>\n",
       "      <td>2015-01-27 13:08:24</td>\n",
       "      <td>-73.973320</td>\n",
       "      <td>40.763805</td>\n",
       "      <td>-73.981430</td>\n",
       "      <td>40.743835</td>\n",
       "      <td>1</td>\n",
       "    </tr>\n",
       "    <tr>\n",
       "      <th>1</th>\n",
       "      <td>2015-01-27 13:08:24</td>\n",
       "      <td>-73.986862</td>\n",
       "      <td>40.719383</td>\n",
       "      <td>-73.998886</td>\n",
       "      <td>40.739201</td>\n",
       "      <td>1</td>\n",
       "    </tr>\n",
       "    <tr>\n",
       "      <th>2</th>\n",
       "      <td>2011-10-08 11:53:44</td>\n",
       "      <td>-73.982524</td>\n",
       "      <td>40.751260</td>\n",
       "      <td>-73.979654</td>\n",
       "      <td>40.746139</td>\n",
       "      <td>1</td>\n",
       "    </tr>\n",
       "    <tr>\n",
       "      <th>3</th>\n",
       "      <td>2012-12-01 21:12:12</td>\n",
       "      <td>-73.981160</td>\n",
       "      <td>40.767807</td>\n",
       "      <td>-73.990448</td>\n",
       "      <td>40.751635</td>\n",
       "      <td>1</td>\n",
       "    </tr>\n",
       "    <tr>\n",
       "      <th>4</th>\n",
       "      <td>2012-12-01 21:12:12</td>\n",
       "      <td>-73.966046</td>\n",
       "      <td>40.789775</td>\n",
       "      <td>-73.988565</td>\n",
       "      <td>40.744427</td>\n",
       "      <td>1</td>\n",
       "    </tr>\n",
       "  </tbody>\n",
       "</table>\n",
       "</div>"
      ],
      "text/plain": [
       "      pickup_datetime  pickup_longitude  pickup_latitude  dropoff_longitude  \\\n",
       "0 2015-01-27 13:08:24        -73.973320        40.763805         -73.981430   \n",
       "1 2015-01-27 13:08:24        -73.986862        40.719383         -73.998886   \n",
       "2 2011-10-08 11:53:44        -73.982524        40.751260         -73.979654   \n",
       "3 2012-12-01 21:12:12        -73.981160        40.767807         -73.990448   \n",
       "4 2012-12-01 21:12:12        -73.966046        40.789775         -73.988565   \n",
       "\n",
       "   dropoff_latitude  passenger_count  \n",
       "0         40.743835                1  \n",
       "1         40.739201                1  \n",
       "2         40.746139                1  \n",
       "3         40.751635                1  \n",
       "4         40.744427                1  "
      ]
     },
     "execution_count": 153,
     "metadata": {},
     "output_type": "execute_result"
    }
   ],
   "source": [
    "test_copy.head()"
   ]
  },
  {
   "cell_type": "code",
   "execution_count": 161,
   "metadata": {},
   "outputs": [],
   "source": [
    "test_results= pd.merge(test_copy,test_pred,right_index=True,left_index=True)"
   ]
  },
  {
   "cell_type": "code",
   "execution_count": 163,
   "metadata": {},
   "outputs": [],
   "source": [
    "test_results=test_results.drop(test_results.columns[0],axis=1)"
   ]
  },
  {
   "cell_type": "code",
   "execution_count": 164,
   "metadata": {},
   "outputs": [
    {
     "data": {
      "text/html": [
       "<div>\n",
       "<style scoped>\n",
       "    .dataframe tbody tr th:only-of-type {\n",
       "        vertical-align: middle;\n",
       "    }\n",
       "\n",
       "    .dataframe tbody tr th {\n",
       "        vertical-align: top;\n",
       "    }\n",
       "\n",
       "    .dataframe thead th {\n",
       "        text-align: right;\n",
       "    }\n",
       "</style>\n",
       "<table border=\"1\" class=\"dataframe\">\n",
       "  <thead>\n",
       "    <tr style=\"text-align: right;\">\n",
       "      <th></th>\n",
       "      <th>pickup_longitude</th>\n",
       "      <th>pickup_latitude</th>\n",
       "      <th>dropoff_longitude</th>\n",
       "      <th>dropoff_latitude</th>\n",
       "      <th>passenger_count</th>\n",
       "      <th>pickup_datetime_y</th>\n",
       "      <th>fare_amount</th>\n",
       "    </tr>\n",
       "  </thead>\n",
       "  <tbody>\n",
       "    <tr>\n",
       "      <th>0</th>\n",
       "      <td>-73.973320</td>\n",
       "      <td>40.763805</td>\n",
       "      <td>-73.981430</td>\n",
       "      <td>40.743835</td>\n",
       "      <td>1</td>\n",
       "      <td>2015-01-27 13:08:24</td>\n",
       "      <td>31.041633</td>\n",
       "    </tr>\n",
       "    <tr>\n",
       "      <th>1</th>\n",
       "      <td>-73.986862</td>\n",
       "      <td>40.719383</td>\n",
       "      <td>-73.998886</td>\n",
       "      <td>40.739201</td>\n",
       "      <td>1</td>\n",
       "      <td>2015-01-27 13:08:24</td>\n",
       "      <td>30.360533</td>\n",
       "    </tr>\n",
       "    <tr>\n",
       "      <th>2</th>\n",
       "      <td>-73.982524</td>\n",
       "      <td>40.751260</td>\n",
       "      <td>-73.979654</td>\n",
       "      <td>40.746139</td>\n",
       "      <td>1</td>\n",
       "      <td>2011-10-08 11:53:44</td>\n",
       "      <td>17.460667</td>\n",
       "    </tr>\n",
       "    <tr>\n",
       "      <th>3</th>\n",
       "      <td>-73.981160</td>\n",
       "      <td>40.767807</td>\n",
       "      <td>-73.990448</td>\n",
       "      <td>40.751635</td>\n",
       "      <td>1</td>\n",
       "      <td>2012-12-01 21:12:12</td>\n",
       "      <td>36.504333</td>\n",
       "    </tr>\n",
       "    <tr>\n",
       "      <th>4</th>\n",
       "      <td>-73.966046</td>\n",
       "      <td>40.789775</td>\n",
       "      <td>-73.988565</td>\n",
       "      <td>40.744427</td>\n",
       "      <td>1</td>\n",
       "      <td>2012-12-01 21:12:12</td>\n",
       "      <td>22.292400</td>\n",
       "    </tr>\n",
       "  </tbody>\n",
       "</table>\n",
       "</div>"
      ],
      "text/plain": [
       "   pickup_longitude  pickup_latitude  dropoff_longitude  dropoff_latitude  \\\n",
       "0        -73.973320        40.763805         -73.981430         40.743835   \n",
       "1        -73.986862        40.719383         -73.998886         40.739201   \n",
       "2        -73.982524        40.751260         -73.979654         40.746139   \n",
       "3        -73.981160        40.767807         -73.990448         40.751635   \n",
       "4        -73.966046        40.789775         -73.988565         40.744427   \n",
       "\n",
       "   passenger_count   pickup_datetime_y  fare_amount  \n",
       "0                1 2015-01-27 13:08:24    31.041633  \n",
       "1                1 2015-01-27 13:08:24    30.360533  \n",
       "2                1 2011-10-08 11:53:44    17.460667  \n",
       "3                1 2012-12-01 21:12:12    36.504333  \n",
       "4                1 2012-12-01 21:12:12    22.292400  "
      ]
     },
     "execution_count": 164,
     "metadata": {},
     "output_type": "execute_result"
    }
   ],
   "source": [
    "test_results.head()"
   ]
  },
  {
   "cell_type": "code",
   "execution_count": 165,
   "metadata": {},
   "outputs": [],
   "source": [
    "#writing output as CSV File\n",
    "test_results.to_csv(\"test_predicted_python.csv\",index=False)"
   ]
  }
 ],
 "metadata": {
  "kernelspec": {
   "display_name": "Python 3",
   "language": "python",
   "name": "python3"
  },
  "language_info": {
   "codemirror_mode": {
    "name": "ipython",
    "version": 3
   },
   "file_extension": ".py",
   "mimetype": "text/x-python",
   "name": "python",
   "nbconvert_exporter": "python",
   "pygments_lexer": "ipython3",
   "version": "3.7.4"
  }
 },
 "nbformat": 4,
 "nbformat_minor": 2
}
